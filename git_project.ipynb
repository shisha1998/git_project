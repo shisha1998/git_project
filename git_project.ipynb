{
 "cells": [
  {
   "cell_type": "markdown",
   "metadata": {},
   "source": [
    "**ССЫЛКА НА ГИТХАБ**\n",
    "\n",
    "**https://github.com/shisha1998/git_project.git**  "
   ]
  },
  {
   "cell_type": "markdown",
   "metadata": {
    "toc": true
   },
   "source": [
    "<h1>Содержание<span class=\"tocSkip\"></span></h1>\n",
    "<div class=\"toc\"><ul class=\"toc-item\"><li><span><a href=\"#Подготовка-данных\" data-toc-modified-id=\"Подготовка-данных-1\"><span class=\"toc-item-num\">1&nbsp;&nbsp;</span>Подготовка данных</a></span><ul class=\"toc-item\"><li><span><a href=\"#Поиск-и-заполнение-пропущенных-данных\" data-toc-modified-id=\"Поиск-и-заполнение-пропущенных-данных-1.1\"><span class=\"toc-item-num\">1.1&nbsp;&nbsp;</span>Поиск и заполнение пропущенных данных</a></span></li><li><span><a href=\"#Поиск-и-удаление-аномальных-значений\" data-toc-modified-id=\"Поиск-и-удаление-аномальных-значений-1.2\"><span class=\"toc-item-num\">1.2&nbsp;&nbsp;</span>Поиск и удаление аномальных значений</a></span></li><li><span><a href=\"#Поиск-и-удаление-дубликатов\" data-toc-modified-id=\"Поиск-и-удаление-дубликатов-1.3\"><span class=\"toc-item-num\">1.3&nbsp;&nbsp;</span>Поиск и удаление дубликатов</a></span></li><li><span><a href=\"#Проверка-типов-данных\" data-toc-modified-id=\"Проверка-типов-данных-1.4\"><span class=\"toc-item-num\">1.4&nbsp;&nbsp;</span>Проверка типов данных</a></span></li><li><span><a href=\"#Преобразование-данных\" data-toc-modified-id=\"Преобразование-данных-1.5\"><span class=\"toc-item-num\">1.5&nbsp;&nbsp;</span>Преобразование данных</a></span></li><li><span><a href=\"#Разделение-данных-на-обучающую,-валидационную-и-тестовую-выборку\" data-toc-modified-id=\"Разделение-данных-на-обучающую,-валидационную-и-тестовую-выборку-1.6\"><span class=\"toc-item-num\">1.6&nbsp;&nbsp;</span>Разделение данных на обучающую, валидационную и тестовую выборку</a></span></li><li><span><a href=\"#Масштабирование-данных\" data-toc-modified-id=\"Масштабирование-данных-1.7\"><span class=\"toc-item-num\">1.7&nbsp;&nbsp;</span>Масштабирование данных</a></span></li><li><span><a href=\"#Исследования-баланса-данных\" data-toc-modified-id=\"Исследования-баланса-данных-1.8\"><span class=\"toc-item-num\">1.8&nbsp;&nbsp;</span>Исследования баланса данных</a></span></li></ul></li><li><span><a href=\"#Исследование-задачи\" data-toc-modified-id=\"Исследование-задачи-2\"><span class=\"toc-item-num\">2&nbsp;&nbsp;</span>Исследование задачи</a></span><ul class=\"toc-item\"><li><span><a href=\"#Подбор-гиперпараметров-и-обучение-дерева-решений-без-учета-дисбаланса\" data-toc-modified-id=\"Подбор-гиперпараметров-и-обучение-дерева-решений-без-учета-дисбаланса-2.1\"><span class=\"toc-item-num\">2.1&nbsp;&nbsp;</span>Подбор гиперпараметров и обучение дерева решений без учета дисбаланса</a></span></li><li><span><a href=\"#Подбор-гиперпараметров-и-обучение-случайного-леса-без-учета-дисбаланса\" data-toc-modified-id=\"Подбор-гиперпараметров-и-обучение-случайного-леса-без-учета-дисбаланса-2.2\"><span class=\"toc-item-num\">2.2&nbsp;&nbsp;</span>Подбор гиперпараметров и обучение случайного леса без учета дисбаланса</a></span></li><li><span><a href=\"#Обучение-логистической-регрессии-без-учета-дисбаланса\" data-toc-modified-id=\"Обучение-логистической-регрессии-без-учета-дисбаланса-2.3\"><span class=\"toc-item-num\">2.3&nbsp;&nbsp;</span>Обучение логистической регрессии без учета дисбаланса</a></span></li></ul></li><li><span><a href=\"#Борьба-с-дисбалансом\" data-toc-modified-id=\"Борьба-с-дисбалансом-3\"><span class=\"toc-item-num\">3&nbsp;&nbsp;</span>Борьба с дисбалансом</a></span><ul class=\"toc-item\"><li><span><a href=\"#Подбор-гиперпараметров-и-обучение-дерева-решений-с-учетом-дисбаланса\" data-toc-modified-id=\"Подбор-гиперпараметров-и-обучение-дерева-решений-с-учетом-дисбаланса-3.1\"><span class=\"toc-item-num\">3.1&nbsp;&nbsp;</span>Подбор гиперпараметров и обучение дерева решений с учетом дисбаланса</a></span><ul class=\"toc-item\"><li><span><a href=\"#Подбор-гиперпараметров-и-обучение-дерева-решений-с-применением-аргумента-class_weight\" data-toc-modified-id=\"Подбор-гиперпараметров-и-обучение-дерева-решений-с-применением-аргумента-class_weight-3.1.1\"><span class=\"toc-item-num\">3.1.1&nbsp;&nbsp;</span>Подбор гиперпараметров и обучение дерева решений с применением аргумента class_weight</a></span></li><li><span><a href=\"#Подбор-гиперпараметров-и-обучение-дерева-решений-с-уменьшением-выборки\" data-toc-modified-id=\"Подбор-гиперпараметров-и-обучение-дерева-решений-с-уменьшением-выборки-3.1.2\"><span class=\"toc-item-num\">3.1.2&nbsp;&nbsp;</span>Подбор гиперпараметров и обучение дерева решений с уменьшением выборки</a></span></li><li><span><a href=\"#Подбор-гиперпараметров-и-обучение-дерева-решений-с-увеличением-выборки\" data-toc-modified-id=\"Подбор-гиперпараметров-и-обучение-дерева-решений-с-увеличением-выборки-3.1.3\"><span class=\"toc-item-num\">3.1.3&nbsp;&nbsp;</span>Подбор гиперпараметров и обучение дерева решений с увеличением выборки</a></span></li></ul></li><li><span><a href=\"#Подбор-гиперпараметров-и-обучение-случайного-леса-с-учетом-дисбаланса\" data-toc-modified-id=\"Подбор-гиперпараметров-и-обучение-случайного-леса-с-учетом-дисбаланса-3.2\"><span class=\"toc-item-num\">3.2&nbsp;&nbsp;</span>Подбор гиперпараметров и обучение случайного леса с учетом дисбаланса</a></span><ul class=\"toc-item\"><li><span><a href=\"#Подбор-гиперпараметров-и-обучение-случайного-леса-с-применением-аргумента-class_weight\" data-toc-modified-id=\"Подбор-гиперпараметров-и-обучение-случайного-леса-с-применением-аргумента-class_weight-3.2.1\"><span class=\"toc-item-num\">3.2.1&nbsp;&nbsp;</span>Подбор гиперпараметров и обучение случайного леса с применением аргумента class_weight</a></span></li><li><span><a href=\"#Подбор-гиперпараметров-и-обучение-случайного-леса-с-уменьшением-выборки\" data-toc-modified-id=\"Подбор-гиперпараметров-и-обучение-случайного-леса-с-уменьшением-выборки-3.2.2\"><span class=\"toc-item-num\">3.2.2&nbsp;&nbsp;</span>Подбор гиперпараметров и обучение случайного леса с уменьшением выборки</a></span></li><li><span><a href=\"#Подбор-гиперпараметров-и-обучение-случайного-леса-с-увеличением-выборки\" data-toc-modified-id=\"Подбор-гиперпараметров-и-обучение-случайного-леса-с-увеличением-выборки-3.2.3\"><span class=\"toc-item-num\">3.2.3&nbsp;&nbsp;</span>Подбор гиперпараметров и обучение случайного леса с увеличением выборки</a></span></li></ul></li><li><span><a href=\"#Обучение-логистической-регрессии-с-учетом-дисбаланса\" data-toc-modified-id=\"Обучение-логистической-регрессии-с-учетом-дисбаланса-3.3\"><span class=\"toc-item-num\">3.3&nbsp;&nbsp;</span>Обучение логистической регрессии с учетом дисбаланса</a></span><ul class=\"toc-item\"><li><span><a href=\"#Обучение-логистической-регрессии-с-применением-аргумента-class_weight\" data-toc-modified-id=\"Обучение-логистической-регрессии-с-применением-аргумента-class_weight-3.3.1\"><span class=\"toc-item-num\">3.3.1&nbsp;&nbsp;</span>Обучение логистической регрессии с применением аргумента class_weight</a></span></li><li><span><a href=\"#Обучение-логистической-регрессии-с-уменьшением-выборки\" data-toc-modified-id=\"Обучение-логистической-регрессии-с-уменьшением-выборки-3.3.2\"><span class=\"toc-item-num\">3.3.2&nbsp;&nbsp;</span>Обучение логистической регрессии с уменьшением выборки</a></span></li><li><span><a href=\"#Обучение-логистической-регрессии-с-увеличением-выборки\" data-toc-modified-id=\"Обучение-логистической-регрессии-с-увеличением-выборки-3.3.3\"><span class=\"toc-item-num\">3.3.3&nbsp;&nbsp;</span>Обучение логистической регрессии с увеличением выборки</a></span></li></ul></li></ul></li><li><span><a href=\"#Тестирование-модели\" data-toc-modified-id=\"Тестирование-модели-4\"><span class=\"toc-item-num\">4&nbsp;&nbsp;</span>Тестирование модели</a></span></li><li><span><a href=\"#Чек-лист-готовности-проекта\" data-toc-modified-id=\"Чек-лист-готовности-проекта-5\"><span class=\"toc-item-num\">5&nbsp;&nbsp;</span>Чек-лист готовности проекта</a></span></li></ul></div>"
   ]
  },
  {
   "cell_type": "markdown",
   "metadata": {},
   "source": [
    "# Отток клиентов"
   ]
  },
  {
   "cell_type": "markdown",
   "metadata": {},
   "source": [
    "Из «Бета-Банка» стали уходить клиенты. Каждый месяц. Немного, но заметно. Банковские маркетологи посчитали: сохранять текущих клиентов дешевле, чем привлекать новых.\n",
    "\n",
    "Нужно спрогнозировать, уйдёт клиент из банка в ближайшее время или нет. Вам предоставлены исторические данные о поведении клиентов и расторжении договоров с банком. \n",
    "\n",
    "Постройте модель с предельно большим значением *F1*-меры. Чтобы сдать проект успешно, нужно довести метрику до 0.59. Проверьте *F1*-меру на тестовой выборке самостоятельно.\n",
    "\n",
    "Дополнительно измеряйте *AUC-ROC*, сравнивайте её значение с *F1*-мерой.\n",
    "\n",
    "Источник данных: [https://www.kaggle.com/barelydedicated/bank-customer-churn-modeling](https://www.kaggle.com/barelydedicated/bank-customer-churn-modeling)"
   ]
  },
  {
   "cell_type": "markdown",
   "metadata": {},
   "source": [
    "Инструкция по выполнению проекта\n",
    "\n",
    "- Загрузите и подготовьте данные. Поясните порядок действий.\n",
    "- Исследуйте баланс классов, обучите модель без учёта дисбаланса. Кратко опишите выводы.\n",
    "- Улучшите качество модели, учитывая дисбаланс классов. Обучите разные модели и найдите лучшую. Кратко опишите выводы.\n",
    "- Проведите финальное тестирование.\n",
    "\n",
    "Описание данных\n",
    "\n",
    "Данные находятся в файле /datasets/Churn.csv (англ. «отток клиентов»).\n",
    "\n",
    "Признаки \n",
    "\n",
    "- RowNumber — индекс строки в данных\n",
    "- CustomerId — уникальный идентификатор клиента\n",
    "- Surname — фамилия\n",
    "- CreditScore — кредитный рейтинг\n",
    "- Geography — страна проживания\n",
    "- Gender — пол\n",
    "- Age — возраст\n",
    "- Tenure — сколько лет человек является клиентом банка\n",
    "- Balance — баланс на счёте\n",
    "- NumOfProducts — количество продуктов банка, используемых клиентом\n",
    "- HasCrCard — наличие кредитной карты\n",
    "- IsActiveMember — активность клиента\n",
    "- EstimatedSalary — предполагаемая зарплата\n",
    "\n",
    "Целевой признак\n",
    "\n",
    "- Exited — факт ухода клиента"
   ]
  },
  {
   "cell_type": "markdown",
   "metadata": {},
   "source": [
    "## Подготовка данных"
   ]
  },
  {
   "cell_type": "code",
   "execution_count": 63,
   "metadata": {},
   "outputs": [],
   "source": [
    "# !pip install phik"
   ]
  },
  {
   "cell_type": "code",
   "execution_count": 64,
   "metadata": {},
   "outputs": [],
   "source": [
    "import pandas as pd\n",
    "import matplotlib.pyplot as plt\n",
    "from sklearn.preprocessing import OneHotEncoder\n",
    "from sklearn.model_selection import train_test_split\n",
    "from sklearn.tree import DecisionTreeClassifier\n",
    "from sklearn.ensemble import RandomForestClassifier\n",
    "from sklearn.linear_model import LogisticRegression\n",
    "from sklearn.preprocessing import StandardScaler\n",
    "from  sklearn.metrics import f1_score\n",
    "from sklearn.metrics import roc_curve \n",
    "from sklearn.metrics import roc_auc_score\n",
    "from sklearn.utils import shuffle\n",
    "from sklearn.inspection import permutation_importance\n",
    "import phik\n",
    "from phik.report import plot_correlation_matrix"
   ]
  },
  {
   "cell_type": "code",
   "execution_count": 65,
   "metadata": {},
   "outputs": [],
   "source": [
    "data = pd.read_csv('Churn_Modelling.csv')"
   ]
  },
  {
   "cell_type": "code",
   "execution_count": 66,
   "metadata": {},
   "outputs": [
    {
     "data": {
      "text/html": [
       "<div>\n",
       "<style scoped>\n",
       "    .dataframe tbody tr th:only-of-type {\n",
       "        vertical-align: middle;\n",
       "    }\n",
       "\n",
       "    .dataframe tbody tr th {\n",
       "        vertical-align: top;\n",
       "    }\n",
       "\n",
       "    .dataframe thead th {\n",
       "        text-align: right;\n",
       "    }\n",
       "</style>\n",
       "<table border=\"1\" class=\"dataframe\">\n",
       "  <thead>\n",
       "    <tr style=\"text-align: right;\">\n",
       "      <th></th>\n",
       "      <th>RowNumber</th>\n",
       "      <th>CustomerId</th>\n",
       "      <th>Surname</th>\n",
       "      <th>CreditScore</th>\n",
       "      <th>Geography</th>\n",
       "      <th>Gender</th>\n",
       "      <th>Age</th>\n",
       "      <th>Tenure</th>\n",
       "      <th>Balance</th>\n",
       "      <th>NumOfProducts</th>\n",
       "      <th>HasCrCard</th>\n",
       "      <th>IsActiveMember</th>\n",
       "      <th>EstimatedSalary</th>\n",
       "      <th>Exited</th>\n",
       "    </tr>\n",
       "  </thead>\n",
       "  <tbody>\n",
       "    <tr>\n",
       "      <th>0</th>\n",
       "      <td>1</td>\n",
       "      <td>15634602</td>\n",
       "      <td>Hargrave</td>\n",
       "      <td>619</td>\n",
       "      <td>France</td>\n",
       "      <td>Female</td>\n",
       "      <td>42</td>\n",
       "      <td>2</td>\n",
       "      <td>0.00</td>\n",
       "      <td>1</td>\n",
       "      <td>1</td>\n",
       "      <td>1</td>\n",
       "      <td>101348.88</td>\n",
       "      <td>1</td>\n",
       "    </tr>\n",
       "    <tr>\n",
       "      <th>1</th>\n",
       "      <td>2</td>\n",
       "      <td>15647311</td>\n",
       "      <td>Hill</td>\n",
       "      <td>608</td>\n",
       "      <td>Spain</td>\n",
       "      <td>Female</td>\n",
       "      <td>41</td>\n",
       "      <td>1</td>\n",
       "      <td>83807.86</td>\n",
       "      <td>1</td>\n",
       "      <td>0</td>\n",
       "      <td>1</td>\n",
       "      <td>112542.58</td>\n",
       "      <td>0</td>\n",
       "    </tr>\n",
       "    <tr>\n",
       "      <th>2</th>\n",
       "      <td>3</td>\n",
       "      <td>15619304</td>\n",
       "      <td>Onio</td>\n",
       "      <td>502</td>\n",
       "      <td>France</td>\n",
       "      <td>Female</td>\n",
       "      <td>42</td>\n",
       "      <td>8</td>\n",
       "      <td>159660.80</td>\n",
       "      <td>3</td>\n",
       "      <td>1</td>\n",
       "      <td>0</td>\n",
       "      <td>113931.57</td>\n",
       "      <td>1</td>\n",
       "    </tr>\n",
       "    <tr>\n",
       "      <th>3</th>\n",
       "      <td>4</td>\n",
       "      <td>15701354</td>\n",
       "      <td>Boni</td>\n",
       "      <td>699</td>\n",
       "      <td>France</td>\n",
       "      <td>Female</td>\n",
       "      <td>39</td>\n",
       "      <td>1</td>\n",
       "      <td>0.00</td>\n",
       "      <td>2</td>\n",
       "      <td>0</td>\n",
       "      <td>0</td>\n",
       "      <td>93826.63</td>\n",
       "      <td>0</td>\n",
       "    </tr>\n",
       "    <tr>\n",
       "      <th>4</th>\n",
       "      <td>5</td>\n",
       "      <td>15737888</td>\n",
       "      <td>Mitchell</td>\n",
       "      <td>850</td>\n",
       "      <td>Spain</td>\n",
       "      <td>Female</td>\n",
       "      <td>43</td>\n",
       "      <td>2</td>\n",
       "      <td>125510.82</td>\n",
       "      <td>1</td>\n",
       "      <td>1</td>\n",
       "      <td>1</td>\n",
       "      <td>79084.10</td>\n",
       "      <td>0</td>\n",
       "    </tr>\n",
       "  </tbody>\n",
       "</table>\n",
       "</div>"
      ],
      "text/plain": [
       "   RowNumber  CustomerId   Surname  CreditScore Geography  Gender  Age  \\\n",
       "0          1    15634602  Hargrave          619    France  Female   42   \n",
       "1          2    15647311      Hill          608     Spain  Female   41   \n",
       "2          3    15619304      Onio          502    France  Female   42   \n",
       "3          4    15701354      Boni          699    France  Female   39   \n",
       "4          5    15737888  Mitchell          850     Spain  Female   43   \n",
       "\n",
       "   Tenure    Balance  NumOfProducts  HasCrCard  IsActiveMember  \\\n",
       "0       2       0.00              1          1               1   \n",
       "1       1   83807.86              1          0               1   \n",
       "2       8  159660.80              3          1               0   \n",
       "3       1       0.00              2          0               0   \n",
       "4       2  125510.82              1          1               1   \n",
       "\n",
       "   EstimatedSalary  Exited  \n",
       "0        101348.88       1  \n",
       "1        112542.58       0  \n",
       "2        113931.57       1  \n",
       "3         93826.63       0  \n",
       "4         79084.10       0  "
      ]
     },
     "execution_count": 66,
     "metadata": {},
     "output_type": "execute_result"
    }
   ],
   "source": [
    "data.head()"
   ]
  },
  {
   "cell_type": "code",
   "execution_count": 67,
   "metadata": {},
   "outputs": [
    {
     "name": "stdout",
     "output_type": "stream",
     "text": [
      "<class 'pandas.core.frame.DataFrame'>\n",
      "RangeIndex: 10000 entries, 0 to 9999\n",
      "Data columns (total 14 columns):\n",
      " #   Column           Non-Null Count  Dtype  \n",
      "---  ------           --------------  -----  \n",
      " 0   RowNumber        10000 non-null  int64  \n",
      " 1   CustomerId       10000 non-null  int64  \n",
      " 2   Surname          10000 non-null  object \n",
      " 3   CreditScore      10000 non-null  int64  \n",
      " 4   Geography        10000 non-null  object \n",
      " 5   Gender           10000 non-null  object \n",
      " 6   Age              10000 non-null  int64  \n",
      " 7   Tenure           10000 non-null  int64  \n",
      " 8   Balance          10000 non-null  float64\n",
      " 9   NumOfProducts    10000 non-null  int64  \n",
      " 10  HasCrCard        10000 non-null  int64  \n",
      " 11  IsActiveMember   10000 non-null  int64  \n",
      " 12  EstimatedSalary  10000 non-null  float64\n",
      " 13  Exited           10000 non-null  int64  \n",
      "dtypes: float64(2), int64(9), object(3)\n",
      "memory usage: 1.1+ MB\n"
     ]
    }
   ],
   "source": [
    "data.info()"
   ]
  },
  {
   "cell_type": "markdown",
   "metadata": {},
   "source": [
    "### Матрица корреляции"
   ]
  },
  {
   "cell_type": "code",
   "execution_count": 68,
   "metadata": {},
   "outputs": [
    {
     "name": "stdout",
     "output_type": "stream",
     "text": [
      "interval columns not set, guessing: ['CreditScore', 'Age', 'Tenure', 'Balance', 'NumOfProducts', 'HasCrCard', 'IsActiveMember', 'EstimatedSalary', 'Exited']\n"
     ]
    },
    {
     "data": {
      "image/png": "[encoded data removed]",
      "text/plain": [
       "<Figure size 1000x800 with 2 Axes>"
      ]
     },
     "metadata": {},
     "output_type": "display_data"
    }
   ],
   "source": [
    "phic_matr = data.drop(['Surname', 'RowNumber', 'CustomerId'], axis=1).phik_matrix()\n",
    "plot_correlation_matrix(phic_matr.values, \n",
    "                        x_labels=phic_matr.columns, \n",
    "                        y_labels=phic_matr.index, \n",
    "                        vmin=0, \n",
    "                        vmax=1, \n",
    "                        color_map=\"Greens\", \n",
    "                        title=r\"correlation $\\phi_K$\", \n",
    "                        fontsize_factor=1.5, \n",
    "                        figsize=(10, 8))\n",
    "plt.tight_layout()"
   ]
  },
  {
   "cell_type": "markdown",
   "metadata": {},
   "source": [
    "Вывод:\n",
    "\n",
    "Была построена матрица корреляции. Наиболее коррелирующие значения между фактом ухода и количеством продукта, значение равняется 0,57."
   ]
  },
  {
   "cell_type": "markdown",
   "metadata": {},
   "source": [
    "### Поиск и заполнение пропущенных данных"
   ]
  },
  {
   "cell_type": "code",
   "execution_count": 69,
   "metadata": {},
   "outputs": [
    {
     "data": {
      "text/plain": [
       "RowNumber          0\n",
       "CustomerId         0\n",
       "Surname            0\n",
       "CreditScore        0\n",
       "Geography          0\n",
       "Gender             0\n",
       "Age                0\n",
       "Tenure             0\n",
       "Balance            0\n",
       "NumOfProducts      0\n",
       "HasCrCard          0\n",
       "IsActiveMember     0\n",
       "EstimatedSalary    0\n",
       "Exited             0\n",
       "dtype: int64"
      ]
     },
     "execution_count": 69,
     "metadata": {},
     "output_type": "execute_result"
    }
   ],
   "source": [
    "data.isna().sum()"
   ]
  },
  {
   "cell_type": "code",
   "execution_count": 70,
   "metadata": {},
   "outputs": [],
   "source": [
    "data = data.query('Tenure.isna() == False')"
   ]
  },
  {
   "cell_type": "code",
   "execution_count": 71,
   "metadata": {},
   "outputs": [
    {
     "data": {
      "text/plain": [
       "RowNumber          0\n",
       "CustomerId         0\n",
       "Surname            0\n",
       "CreditScore        0\n",
       "Geography          0\n",
       "Gender             0\n",
       "Age                0\n",
       "Tenure             0\n",
       "Balance            0\n",
       "NumOfProducts      0\n",
       "HasCrCard          0\n",
       "IsActiveMember     0\n",
       "EstimatedSalary    0\n",
       "Exited             0\n",
       "dtype: int64"
      ]
     },
     "execution_count": 71,
     "metadata": {},
     "output_type": "execute_result"
    }
   ],
   "source": [
    "data.isna().sum()"
   ]
  },
  {
   "cell_type": "markdown",
   "metadata": {},
   "source": [
    "Были найдены пропущенные значения в столбце Tenure, данный столбец не имеет явных зависимостей от других столбцов, поэтому удалим пропущенные значения."
   ]
  },
  {
   "cell_type": "markdown",
   "metadata": {},
   "source": [
    "### Поиск и удаление аномальных значений"
   ]
  },
  {
   "cell_type": "code",
   "execution_count": 72,
   "metadata": {},
   "outputs": [
    {
     "data": {
      "text/html": [
       "<div>\n",
       "<style scoped>\n",
       "    .dataframe tbody tr th:only-of-type {\n",
       "        vertical-align: middle;\n",
       "    }\n",
       "\n",
       "    .dataframe tbody tr th {\n",
       "        vertical-align: top;\n",
       "    }\n",
       "\n",
       "    .dataframe thead th {\n",
       "        text-align: right;\n",
       "    }\n",
       "</style>\n",
       "<table border=\"1\" class=\"dataframe\">\n",
       "  <thead>\n",
       "    <tr style=\"text-align: right;\">\n",
       "      <th></th>\n",
       "      <th>RowNumber</th>\n",
       "      <th>CustomerId</th>\n",
       "      <th>CreditScore</th>\n",
       "      <th>Age</th>\n",
       "      <th>Tenure</th>\n",
       "      <th>Balance</th>\n",
       "      <th>NumOfProducts</th>\n",
       "      <th>HasCrCard</th>\n",
       "      <th>IsActiveMember</th>\n",
       "      <th>EstimatedSalary</th>\n",
       "      <th>Exited</th>\n",
       "    </tr>\n",
       "  </thead>\n",
       "  <tbody>\n",
       "    <tr>\n",
       "      <th>count</th>\n",
       "      <td>10000.00000</td>\n",
       "      <td>1.000000e+04</td>\n",
       "      <td>10000.000000</td>\n",
       "      <td>10000.000000</td>\n",
       "      <td>10000.000000</td>\n",
       "      <td>10000.000000</td>\n",
       "      <td>10000.000000</td>\n",
       "      <td>10000.00000</td>\n",
       "      <td>10000.000000</td>\n",
       "      <td>10000.000000</td>\n",
       "      <td>10000.000000</td>\n",
       "    </tr>\n",
       "    <tr>\n",
       "      <th>mean</th>\n",
       "      <td>5000.50000</td>\n",
       "      <td>1.569094e+07</td>\n",
       "      <td>650.528800</td>\n",
       "      <td>38.921800</td>\n",
       "      <td>5.012800</td>\n",
       "      <td>76485.889288</td>\n",
       "      <td>1.530200</td>\n",
       "      <td>0.70550</td>\n",
       "      <td>0.515100</td>\n",
       "      <td>100090.239881</td>\n",
       "      <td>0.203700</td>\n",
       "    </tr>\n",
       "    <tr>\n",
       "      <th>std</th>\n",
       "      <td>2886.89568</td>\n",
       "      <td>7.193619e+04</td>\n",
       "      <td>96.653299</td>\n",
       "      <td>10.487806</td>\n",
       "      <td>2.892174</td>\n",
       "      <td>62397.405202</td>\n",
       "      <td>0.581654</td>\n",
       "      <td>0.45584</td>\n",
       "      <td>0.499797</td>\n",
       "      <td>57510.492818</td>\n",
       "      <td>0.402769</td>\n",
       "    </tr>\n",
       "    <tr>\n",
       "      <th>min</th>\n",
       "      <td>1.00000</td>\n",
       "      <td>1.556570e+07</td>\n",
       "      <td>350.000000</td>\n",
       "      <td>18.000000</td>\n",
       "      <td>0.000000</td>\n",
       "      <td>0.000000</td>\n",
       "      <td>1.000000</td>\n",
       "      <td>0.00000</td>\n",
       "      <td>0.000000</td>\n",
       "      <td>11.580000</td>\n",
       "      <td>0.000000</td>\n",
       "    </tr>\n",
       "    <tr>\n",
       "      <th>25%</th>\n",
       "      <td>2500.75000</td>\n",
       "      <td>1.562853e+07</td>\n",
       "      <td>584.000000</td>\n",
       "      <td>32.000000</td>\n",
       "      <td>3.000000</td>\n",
       "      <td>0.000000</td>\n",
       "      <td>1.000000</td>\n",
       "      <td>0.00000</td>\n",
       "      <td>0.000000</td>\n",
       "      <td>51002.110000</td>\n",
       "      <td>0.000000</td>\n",
       "    </tr>\n",
       "    <tr>\n",
       "      <th>50%</th>\n",
       "      <td>5000.50000</td>\n",
       "      <td>1.569074e+07</td>\n",
       "      <td>652.000000</td>\n",
       "      <td>37.000000</td>\n",
       "      <td>5.000000</td>\n",
       "      <td>97198.540000</td>\n",
       "      <td>1.000000</td>\n",
       "      <td>1.00000</td>\n",
       "      <td>1.000000</td>\n",
       "      <td>100193.915000</td>\n",
       "      <td>0.000000</td>\n",
       "    </tr>\n",
       "    <tr>\n",
       "      <th>75%</th>\n",
       "      <td>7500.25000</td>\n",
       "      <td>1.575323e+07</td>\n",
       "      <td>718.000000</td>\n",
       "      <td>44.000000</td>\n",
       "      <td>7.000000</td>\n",
       "      <td>127644.240000</td>\n",
       "      <td>2.000000</td>\n",
       "      <td>1.00000</td>\n",
       "      <td>1.000000</td>\n",
       "      <td>149388.247500</td>\n",
       "      <td>0.000000</td>\n",
       "    </tr>\n",
       "    <tr>\n",
       "      <th>max</th>\n",
       "      <td>10000.00000</td>\n",
       "      <td>1.581569e+07</td>\n",
       "      <td>850.000000</td>\n",
       "      <td>92.000000</td>\n",
       "      <td>10.000000</td>\n",
       "      <td>250898.090000</td>\n",
       "      <td>4.000000</td>\n",
       "      <td>1.00000</td>\n",
       "      <td>1.000000</td>\n",
       "      <td>199992.480000</td>\n",
       "      <td>1.000000</td>\n",
       "    </tr>\n",
       "  </tbody>\n",
       "</table>\n",
       "</div>"
      ],
      "text/plain": [
       "         RowNumber    CustomerId   CreditScore           Age        Tenure  \\\n",
       "count  10000.00000  1.000000e+04  10000.000000  10000.000000  10000.000000   \n",
       "mean    5000.50000  1.569094e+07    650.528800     38.921800      5.012800   \n",
       "std     2886.89568  7.193619e+04     96.653299     10.487806      2.892174   \n",
       "min        1.00000  1.556570e+07    350.000000     18.000000      0.000000   \n",
       "25%     2500.75000  1.562853e+07    584.000000     32.000000      3.000000   \n",
       "50%     5000.50000  1.569074e+07    652.000000     37.000000      5.000000   \n",
       "75%     7500.25000  1.575323e+07    718.000000     44.000000      7.000000   \n",
       "max    10000.00000  1.581569e+07    850.000000     92.000000     10.000000   \n",
       "\n",
       "             Balance  NumOfProducts    HasCrCard  IsActiveMember  \\\n",
       "count   10000.000000   10000.000000  10000.00000    10000.000000   \n",
       "mean    76485.889288       1.530200      0.70550        0.515100   \n",
       "std     62397.405202       0.581654      0.45584        0.499797   \n",
       "min         0.000000       1.000000      0.00000        0.000000   \n",
       "25%         0.000000       1.000000      0.00000        0.000000   \n",
       "50%     97198.540000       1.000000      1.00000        1.000000   \n",
       "75%    127644.240000       2.000000      1.00000        1.000000   \n",
       "max    250898.090000       4.000000      1.00000        1.000000   \n",
       "\n",
       "       EstimatedSalary        Exited  \n",
       "count     10000.000000  10000.000000  \n",
       "mean     100090.239881      0.203700  \n",
       "std       57510.492818      0.402769  \n",
       "min          11.580000      0.000000  \n",
       "25%       51002.110000      0.000000  \n",
       "50%      100193.915000      0.000000  \n",
       "75%      149388.247500      0.000000  \n",
       "max      199992.480000      1.000000  "
      ]
     },
     "execution_count": 72,
     "metadata": {},
     "output_type": "execute_result"
    }
   ],
   "source": [
    "data.describe()"
   ]
  },
  {
   "cell_type": "markdown",
   "metadata": {},
   "source": [
    "Аномальных значений не было найдено."
   ]
  },
  {
   "cell_type": "markdown",
   "metadata": {},
   "source": [
    "### Поиск и удаление дубликатов"
   ]
  },
  {
   "cell_type": "code",
   "execution_count": 73,
   "metadata": {},
   "outputs": [
    {
     "data": {
      "text/plain": [
       "0"
      ]
     },
     "execution_count": 73,
     "metadata": {},
     "output_type": "execute_result"
    }
   ],
   "source": [
    "data.drop(['RowNumber', 'CustomerId'], axis=1).duplicated().sum()"
   ]
  },
  {
   "cell_type": "code",
   "execution_count": 74,
   "metadata": {},
   "outputs": [
    {
     "data": {
      "text/plain": [
       "0"
      ]
     },
     "execution_count": 74,
     "metadata": {},
     "output_type": "execute_result"
    }
   ],
   "source": [
    "data['CustomerId'].duplicated().sum()"
   ]
  },
  {
   "cell_type": "code",
   "execution_count": 75,
   "metadata": {},
   "outputs": [
    {
     "data": {
      "text/plain": [
       "array(['France', 'Spain', 'Germany'], dtype=object)"
      ]
     },
     "execution_count": 75,
     "metadata": {},
     "output_type": "execute_result"
    }
   ],
   "source": [
    "data['Geography'].unique()"
   ]
  },
  {
   "cell_type": "code",
   "execution_count": 76,
   "metadata": {},
   "outputs": [
    {
     "data": {
      "text/plain": [
       "array(['Female', 'Male'], dtype=object)"
      ]
     },
     "execution_count": 76,
     "metadata": {},
     "output_type": "execute_result"
    }
   ],
   "source": [
    "data['Gender'].unique()"
   ]
  },
  {
   "cell_type": "markdown",
   "metadata": {},
   "source": [
    "Явных и неявных дубликатов найдено не было."
   ]
  },
  {
   "cell_type": "markdown",
   "metadata": {},
   "source": [
    "### Проверка типов данных"
   ]
  },
  {
   "cell_type": "code",
   "execution_count": 77,
   "metadata": {},
   "outputs": [
    {
     "data": {
      "text/plain": [
       "RowNumber            int64\n",
       "CustomerId           int64\n",
       "Surname             object\n",
       "CreditScore          int64\n",
       "Geography           object\n",
       "Gender              object\n",
       "Age                  int64\n",
       "Tenure               int64\n",
       "Balance            float64\n",
       "NumOfProducts        int64\n",
       "HasCrCard            int64\n",
       "IsActiveMember       int64\n",
       "EstimatedSalary    float64\n",
       "Exited               int64\n",
       "dtype: object"
      ]
     },
     "execution_count": 77,
     "metadata": {},
     "output_type": "execute_result"
    }
   ],
   "source": [
    "data.dtypes"
   ]
  },
  {
   "cell_type": "markdown",
   "metadata": {},
   "source": [
    "В столбце 'Tenure' можно изменить тип данных с вещественного на целочисленный, но данный столбец будет в дальнейшем масштабироваться, поэтому заменять не будем."
   ]
  },
  {
   "cell_type": "markdown",
   "metadata": {},
   "source": [
    "### Преобразование данных"
   ]
  },
  {
   "cell_type": "code",
   "execution_count": 78,
   "metadata": {},
   "outputs": [
    {
     "name": "stderr",
     "output_type": "stream",
     "text": [
      "C:\\Users\\Вика\\AppData\\Roaming\\Python\\Python310\\site-packages\\sklearn\\utils\\deprecation.py:87: FutureWarning: Function get_feature_names is deprecated; get_feature_names is deprecated in 1.0 and will be removed in 1.2. Please use get_feature_names_out instead.\n",
      "  warnings.warn(msg, category=FutureWarning)\n"
     ]
    }
   ],
   "source": [
    "ohe = OneHotEncoder(sparse=False)\n",
    "ohe.fit(data[['Geography', 'Gender']])\n",
    "\n",
    "def get_ohe(df):\n",
    "    temp_df = pd.DataFrame(data=ohe.transform(data[['Geography', 'Gender']]), columns=ohe.get_feature_names())\n",
    "    df.drop(columns=['Geography', 'Gender'], axis=1, inplace=True)\n",
    "    df = pd.concat([df.reset_index(drop=True), temp_df], axis=1)\n",
    "    return df\n",
    "    \n",
    "data_ohe = get_ohe(data)"
   ]
  },
  {
   "cell_type": "code",
   "execution_count": 79,
   "metadata": {},
   "outputs": [
    {
     "data": {
      "text/html": [
       "<div>\n",
       "<style scoped>\n",
       "    .dataframe tbody tr th:only-of-type {\n",
       "        vertical-align: middle;\n",
       "    }\n",
       "\n",
       "    .dataframe tbody tr th {\n",
       "        vertical-align: top;\n",
       "    }\n",
       "\n",
       "    .dataframe thead th {\n",
       "        text-align: right;\n",
       "    }\n",
       "</style>\n",
       "<table border=\"1\" class=\"dataframe\">\n",
       "  <thead>\n",
       "    <tr style=\"text-align: right;\">\n",
       "      <th></th>\n",
       "      <th>RowNumber</th>\n",
       "      <th>CustomerId</th>\n",
       "      <th>Surname</th>\n",
       "      <th>CreditScore</th>\n",
       "      <th>Age</th>\n",
       "      <th>Tenure</th>\n",
       "      <th>Balance</th>\n",
       "      <th>NumOfProducts</th>\n",
       "      <th>HasCrCard</th>\n",
       "      <th>IsActiveMember</th>\n",
       "      <th>EstimatedSalary</th>\n",
       "      <th>Exited</th>\n",
       "      <th>x0_France</th>\n",
       "      <th>x0_Germany</th>\n",
       "      <th>x0_Spain</th>\n",
       "      <th>x1_Female</th>\n",
       "      <th>x1_Male</th>\n",
       "    </tr>\n",
       "  </thead>\n",
       "  <tbody>\n",
       "    <tr>\n",
       "      <th>0</th>\n",
       "      <td>1</td>\n",
       "      <td>15634602</td>\n",
       "      <td>Hargrave</td>\n",
       "      <td>619</td>\n",
       "      <td>42</td>\n",
       "      <td>2</td>\n",
       "      <td>0.00</td>\n",
       "      <td>1</td>\n",
       "      <td>1</td>\n",
       "      <td>1</td>\n",
       "      <td>101348.88</td>\n",
       "      <td>1</td>\n",
       "      <td>1.0</td>\n",
       "      <td>0.0</td>\n",
       "      <td>0.0</td>\n",
       "      <td>1.0</td>\n",
       "      <td>0.0</td>\n",
       "    </tr>\n",
       "    <tr>\n",
       "      <th>1</th>\n",
       "      <td>2</td>\n",
       "      <td>15647311</td>\n",
       "      <td>Hill</td>\n",
       "      <td>608</td>\n",
       "      <td>41</td>\n",
       "      <td>1</td>\n",
       "      <td>83807.86</td>\n",
       "      <td>1</td>\n",
       "      <td>0</td>\n",
       "      <td>1</td>\n",
       "      <td>112542.58</td>\n",
       "      <td>0</td>\n",
       "      <td>0.0</td>\n",
       "      <td>0.0</td>\n",
       "      <td>1.0</td>\n",
       "      <td>1.0</td>\n",
       "      <td>0.0</td>\n",
       "    </tr>\n",
       "    <tr>\n",
       "      <th>2</th>\n",
       "      <td>3</td>\n",
       "      <td>15619304</td>\n",
       "      <td>Onio</td>\n",
       "      <td>502</td>\n",
       "      <td>42</td>\n",
       "      <td>8</td>\n",
       "      <td>159660.80</td>\n",
       "      <td>3</td>\n",
       "      <td>1</td>\n",
       "      <td>0</td>\n",
       "      <td>113931.57</td>\n",
       "      <td>1</td>\n",
       "      <td>1.0</td>\n",
       "      <td>0.0</td>\n",
       "      <td>0.0</td>\n",
       "      <td>1.0</td>\n",
       "      <td>0.0</td>\n",
       "    </tr>\n",
       "    <tr>\n",
       "      <th>3</th>\n",
       "      <td>4</td>\n",
       "      <td>15701354</td>\n",
       "      <td>Boni</td>\n",
       "      <td>699</td>\n",
       "      <td>39</td>\n",
       "      <td>1</td>\n",
       "      <td>0.00</td>\n",
       "      <td>2</td>\n",
       "      <td>0</td>\n",
       "      <td>0</td>\n",
       "      <td>93826.63</td>\n",
       "      <td>0</td>\n",
       "      <td>1.0</td>\n",
       "      <td>0.0</td>\n",
       "      <td>0.0</td>\n",
       "      <td>1.0</td>\n",
       "      <td>0.0</td>\n",
       "    </tr>\n",
       "    <tr>\n",
       "      <th>4</th>\n",
       "      <td>5</td>\n",
       "      <td>15737888</td>\n",
       "      <td>Mitchell</td>\n",
       "      <td>850</td>\n",
       "      <td>43</td>\n",
       "      <td>2</td>\n",
       "      <td>125510.82</td>\n",
       "      <td>1</td>\n",
       "      <td>1</td>\n",
       "      <td>1</td>\n",
       "      <td>79084.10</td>\n",
       "      <td>0</td>\n",
       "      <td>0.0</td>\n",
       "      <td>0.0</td>\n",
       "      <td>1.0</td>\n",
       "      <td>1.0</td>\n",
       "      <td>0.0</td>\n",
       "    </tr>\n",
       "    <tr>\n",
       "      <th>...</th>\n",
       "      <td>...</td>\n",
       "      <td>...</td>\n",
       "      <td>...</td>\n",
       "      <td>...</td>\n",
       "      <td>...</td>\n",
       "      <td>...</td>\n",
       "      <td>...</td>\n",
       "      <td>...</td>\n",
       "      <td>...</td>\n",
       "      <td>...</td>\n",
       "      <td>...</td>\n",
       "      <td>...</td>\n",
       "      <td>...</td>\n",
       "      <td>...</td>\n",
       "      <td>...</td>\n",
       "      <td>...</td>\n",
       "      <td>...</td>\n",
       "    </tr>\n",
       "    <tr>\n",
       "      <th>9995</th>\n",
       "      <td>9996</td>\n",
       "      <td>15606229</td>\n",
       "      <td>Obijiaku</td>\n",
       "      <td>771</td>\n",
       "      <td>39</td>\n",
       "      <td>5</td>\n",
       "      <td>0.00</td>\n",
       "      <td>2</td>\n",
       "      <td>1</td>\n",
       "      <td>0</td>\n",
       "      <td>96270.64</td>\n",
       "      <td>0</td>\n",
       "      <td>1.0</td>\n",
       "      <td>0.0</td>\n",
       "      <td>0.0</td>\n",
       "      <td>0.0</td>\n",
       "      <td>1.0</td>\n",
       "    </tr>\n",
       "    <tr>\n",
       "      <th>9996</th>\n",
       "      <td>9997</td>\n",
       "      <td>15569892</td>\n",
       "      <td>Johnstone</td>\n",
       "      <td>516</td>\n",
       "      <td>35</td>\n",
       "      <td>10</td>\n",
       "      <td>57369.61</td>\n",
       "      <td>1</td>\n",
       "      <td>1</td>\n",
       "      <td>1</td>\n",
       "      <td>101699.77</td>\n",
       "      <td>0</td>\n",
       "      <td>1.0</td>\n",
       "      <td>0.0</td>\n",
       "      <td>0.0</td>\n",
       "      <td>0.0</td>\n",
       "      <td>1.0</td>\n",
       "    </tr>\n",
       "    <tr>\n",
       "      <th>9997</th>\n",
       "      <td>9998</td>\n",
       "      <td>15584532</td>\n",
       "      <td>Liu</td>\n",
       "      <td>709</td>\n",
       "      <td>36</td>\n",
       "      <td>7</td>\n",
       "      <td>0.00</td>\n",
       "      <td>1</td>\n",
       "      <td>0</td>\n",
       "      <td>1</td>\n",
       "      <td>42085.58</td>\n",
       "      <td>1</td>\n",
       "      <td>1.0</td>\n",
       "      <td>0.0</td>\n",
       "      <td>0.0</td>\n",
       "      <td>1.0</td>\n",
       "      <td>0.0</td>\n",
       "    </tr>\n",
       "    <tr>\n",
       "      <th>9998</th>\n",
       "      <td>9999</td>\n",
       "      <td>15682355</td>\n",
       "      <td>Sabbatini</td>\n",
       "      <td>772</td>\n",
       "      <td>42</td>\n",
       "      <td>3</td>\n",
       "      <td>75075.31</td>\n",
       "      <td>2</td>\n",
       "      <td>1</td>\n",
       "      <td>0</td>\n",
       "      <td>92888.52</td>\n",
       "      <td>1</td>\n",
       "      <td>0.0</td>\n",
       "      <td>1.0</td>\n",
       "      <td>0.0</td>\n",
       "      <td>0.0</td>\n",
       "      <td>1.0</td>\n",
       "    </tr>\n",
       "    <tr>\n",
       "      <th>9999</th>\n",
       "      <td>10000</td>\n",
       "      <td>15628319</td>\n",
       "      <td>Walker</td>\n",
       "      <td>792</td>\n",
       "      <td>28</td>\n",
       "      <td>4</td>\n",
       "      <td>130142.79</td>\n",
       "      <td>1</td>\n",
       "      <td>1</td>\n",
       "      <td>0</td>\n",
       "      <td>38190.78</td>\n",
       "      <td>0</td>\n",
       "      <td>1.0</td>\n",
       "      <td>0.0</td>\n",
       "      <td>0.0</td>\n",
       "      <td>1.0</td>\n",
       "      <td>0.0</td>\n",
       "    </tr>\n",
       "  </tbody>\n",
       "</table>\n",
       "<p>10000 rows × 17 columns</p>\n",
       "</div>"
      ],
      "text/plain": [
       "      RowNumber  CustomerId    Surname  CreditScore  Age  Tenure    Balance  \\\n",
       "0             1    15634602   Hargrave          619   42       2       0.00   \n",
       "1             2    15647311       Hill          608   41       1   83807.86   \n",
       "2             3    15619304       Onio          502   42       8  159660.80   \n",
       "3             4    15701354       Boni          699   39       1       0.00   \n",
       "4             5    15737888   Mitchell          850   43       2  125510.82   \n",
       "...         ...         ...        ...          ...  ...     ...        ...   \n",
       "9995       9996    15606229   Obijiaku          771   39       5       0.00   \n",
       "9996       9997    15569892  Johnstone          516   35      10   57369.61   \n",
       "9997       9998    15584532        Liu          709   36       7       0.00   \n",
       "9998       9999    15682355  Sabbatini          772   42       3   75075.31   \n",
       "9999      10000    15628319     Walker          792   28       4  130142.79   \n",
       "\n",
       "      NumOfProducts  HasCrCard  IsActiveMember  EstimatedSalary  Exited  \\\n",
       "0                 1          1               1        101348.88       1   \n",
       "1                 1          0               1        112542.58       0   \n",
       "2                 3          1               0        113931.57       1   \n",
       "3                 2          0               0         93826.63       0   \n",
       "4                 1          1               1         79084.10       0   \n",
       "...             ...        ...             ...              ...     ...   \n",
       "9995              2          1               0         96270.64       0   \n",
       "9996              1          1               1        101699.77       0   \n",
       "9997              1          0               1         42085.58       1   \n",
       "9998              2          1               0         92888.52       1   \n",
       "9999              1          1               0         38190.78       0   \n",
       "\n",
       "      x0_France  x0_Germany  x0_Spain  x1_Female  x1_Male  \n",
       "0           1.0         0.0       0.0        1.0      0.0  \n",
       "1           0.0         0.0       1.0        1.0      0.0  \n",
       "2           1.0         0.0       0.0        1.0      0.0  \n",
       "3           1.0         0.0       0.0        1.0      0.0  \n",
       "4           0.0         0.0       1.0        1.0      0.0  \n",
       "...         ...         ...       ...        ...      ...  \n",
       "9995        1.0         0.0       0.0        0.0      1.0  \n",
       "9996        1.0         0.0       0.0        0.0      1.0  \n",
       "9997        1.0         0.0       0.0        1.0      0.0  \n",
       "9998        0.0         1.0       0.0        0.0      1.0  \n",
       "9999        1.0         0.0       0.0        1.0      0.0  \n",
       "\n",
       "[10000 rows x 17 columns]"
      ]
     },
     "execution_count": 79,
     "metadata": {},
     "output_type": "execute_result"
    }
   ],
   "source": [
    "data_ohe"
   ]
  },
  {
   "cell_type": "markdown",
   "metadata": {},
   "source": [
    "Категориальные признаки были преобразованы в численные техникой горячего кодирования."
   ]
  },
  {
   "cell_type": "markdown",
   "metadata": {},
   "source": [
    "### Разделение данных на обучающую, валидационную и тестовую выборку"
   ]
  },
  {
   "cell_type": "code",
   "execution_count": 80,
   "metadata": {},
   "outputs": [],
   "source": [
    "target = data_ohe['Exited']\n",
    "features = data_ohe.drop(['Exited', 'RowNumber', 'CustomerId', 'Surname'], axis=1)"
   ]
  },
  {
   "cell_type": "code",
   "execution_count": 81,
   "metadata": {},
   "outputs": [],
   "source": [
    "features_train, features_valid, target_train, target_valid = train_test_split(\n",
    "    features, \n",
    "    target, \n",
    "    test_size=0.2, \n",
    "    random_state=12345, \n",
    "    stratify=target)"
   ]
  },
  {
   "cell_type": "code",
   "execution_count": 82,
   "metadata": {},
   "outputs": [],
   "source": [
    "features_train, features_test, target_train, target_test = train_test_split(\n",
    "    features_train, \n",
    "    target_train,  \n",
    "    test_size=0.25, \n",
    "    random_state=12345,\n",
    "    stratify=target_train)"
   ]
  },
  {
   "cell_type": "code",
   "execution_count": 83,
   "metadata": {},
   "outputs": [
    {
     "name": "stdout",
     "output_type": "stream",
     "text": [
      "(6000, 13)\n",
      "(2000, 13)\n",
      "(2000, 13)\n"
     ]
    }
   ],
   "source": [
    "print(features_train.shape)\n",
    "print(features_valid.shape)\n",
    "print(features_test.shape)"
   ]
  },
  {
   "cell_type": "code",
   "execution_count": 84,
   "metadata": {},
   "outputs": [
    {
     "data": {
      "text/html": [
       "<div>\n",
       "<style scoped>\n",
       "    .dataframe tbody tr th:only-of-type {\n",
       "        vertical-align: middle;\n",
       "    }\n",
       "\n",
       "    .dataframe tbody tr th {\n",
       "        vertical-align: top;\n",
       "    }\n",
       "\n",
       "    .dataframe thead th {\n",
       "        text-align: right;\n",
       "    }\n",
       "</style>\n",
       "<table border=\"1\" class=\"dataframe\">\n",
       "  <thead>\n",
       "    <tr style=\"text-align: right;\">\n",
       "      <th></th>\n",
       "      <th>CreditScore</th>\n",
       "      <th>Age</th>\n",
       "      <th>Tenure</th>\n",
       "      <th>Balance</th>\n",
       "      <th>NumOfProducts</th>\n",
       "      <th>HasCrCard</th>\n",
       "      <th>IsActiveMember</th>\n",
       "      <th>EstimatedSalary</th>\n",
       "      <th>x0_France</th>\n",
       "      <th>x0_Germany</th>\n",
       "      <th>x0_Spain</th>\n",
       "      <th>x1_Female</th>\n",
       "      <th>x1_Male</th>\n",
       "    </tr>\n",
       "  </thead>\n",
       "  <tbody>\n",
       "    <tr>\n",
       "      <th>5536</th>\n",
       "      <td>636</td>\n",
       "      <td>45</td>\n",
       "      <td>3</td>\n",
       "      <td>0.00</td>\n",
       "      <td>2</td>\n",
       "      <td>1</td>\n",
       "      <td>1</td>\n",
       "      <td>159463.80</td>\n",
       "      <td>0.0</td>\n",
       "      <td>0.0</td>\n",
       "      <td>1.0</td>\n",
       "      <td>0.0</td>\n",
       "      <td>1.0</td>\n",
       "    </tr>\n",
       "    <tr>\n",
       "      <th>8530</th>\n",
       "      <td>808</td>\n",
       "      <td>33</td>\n",
       "      <td>2</td>\n",
       "      <td>103516.87</td>\n",
       "      <td>1</td>\n",
       "      <td>1</td>\n",
       "      <td>0</td>\n",
       "      <td>113907.80</td>\n",
       "      <td>1.0</td>\n",
       "      <td>0.0</td>\n",
       "      <td>0.0</td>\n",
       "      <td>1.0</td>\n",
       "      <td>0.0</td>\n",
       "    </tr>\n",
       "    <tr>\n",
       "      <th>1762</th>\n",
       "      <td>758</td>\n",
       "      <td>34</td>\n",
       "      <td>1</td>\n",
       "      <td>154139.45</td>\n",
       "      <td>1</td>\n",
       "      <td>1</td>\n",
       "      <td>1</td>\n",
       "      <td>60728.89</td>\n",
       "      <td>1.0</td>\n",
       "      <td>0.0</td>\n",
       "      <td>0.0</td>\n",
       "      <td>1.0</td>\n",
       "      <td>0.0</td>\n",
       "    </tr>\n",
       "    <tr>\n",
       "      <th>9090</th>\n",
       "      <td>809</td>\n",
       "      <td>39</td>\n",
       "      <td>5</td>\n",
       "      <td>0.00</td>\n",
       "      <td>1</td>\n",
       "      <td>1</td>\n",
       "      <td>0</td>\n",
       "      <td>77705.75</td>\n",
       "      <td>1.0</td>\n",
       "      <td>0.0</td>\n",
       "      <td>0.0</td>\n",
       "      <td>1.0</td>\n",
       "      <td>0.0</td>\n",
       "    </tr>\n",
       "    <tr>\n",
       "      <th>8777</th>\n",
       "      <td>603</td>\n",
       "      <td>24</td>\n",
       "      <td>1</td>\n",
       "      <td>165149.13</td>\n",
       "      <td>2</td>\n",
       "      <td>1</td>\n",
       "      <td>0</td>\n",
       "      <td>21858.28</td>\n",
       "      <td>0.0</td>\n",
       "      <td>0.0</td>\n",
       "      <td>1.0</td>\n",
       "      <td>0.0</td>\n",
       "      <td>1.0</td>\n",
       "    </tr>\n",
       "    <tr>\n",
       "      <th>...</th>\n",
       "      <td>...</td>\n",
       "      <td>...</td>\n",
       "      <td>...</td>\n",
       "      <td>...</td>\n",
       "      <td>...</td>\n",
       "      <td>...</td>\n",
       "      <td>...</td>\n",
       "      <td>...</td>\n",
       "      <td>...</td>\n",
       "      <td>...</td>\n",
       "      <td>...</td>\n",
       "      <td>...</td>\n",
       "      <td>...</td>\n",
       "    </tr>\n",
       "    <tr>\n",
       "      <th>2956</th>\n",
       "      <td>792</td>\n",
       "      <td>30</td>\n",
       "      <td>8</td>\n",
       "      <td>0.00</td>\n",
       "      <td>2</td>\n",
       "      <td>1</td>\n",
       "      <td>0</td>\n",
       "      <td>199644.20</td>\n",
       "      <td>1.0</td>\n",
       "      <td>0.0</td>\n",
       "      <td>0.0</td>\n",
       "      <td>0.0</td>\n",
       "      <td>1.0</td>\n",
       "    </tr>\n",
       "    <tr>\n",
       "      <th>667</th>\n",
       "      <td>503</td>\n",
       "      <td>29</td>\n",
       "      <td>3</td>\n",
       "      <td>0.00</td>\n",
       "      <td>2</td>\n",
       "      <td>1</td>\n",
       "      <td>1</td>\n",
       "      <td>143954.99</td>\n",
       "      <td>1.0</td>\n",
       "      <td>0.0</td>\n",
       "      <td>0.0</td>\n",
       "      <td>0.0</td>\n",
       "      <td>1.0</td>\n",
       "    </tr>\n",
       "    <tr>\n",
       "      <th>7371</th>\n",
       "      <td>850</td>\n",
       "      <td>30</td>\n",
       "      <td>10</td>\n",
       "      <td>153972.89</td>\n",
       "      <td>2</td>\n",
       "      <td>1</td>\n",
       "      <td>0</td>\n",
       "      <td>62811.03</td>\n",
       "      <td>1.0</td>\n",
       "      <td>0.0</td>\n",
       "      <td>0.0</td>\n",
       "      <td>0.0</td>\n",
       "      <td>1.0</td>\n",
       "    </tr>\n",
       "    <tr>\n",
       "      <th>9472</th>\n",
       "      <td>775</td>\n",
       "      <td>74</td>\n",
       "      <td>0</td>\n",
       "      <td>161371.50</td>\n",
       "      <td>1</td>\n",
       "      <td>1</td>\n",
       "      <td>1</td>\n",
       "      <td>134869.93</td>\n",
       "      <td>0.0</td>\n",
       "      <td>1.0</td>\n",
       "      <td>0.0</td>\n",
       "      <td>1.0</td>\n",
       "      <td>0.0</td>\n",
       "    </tr>\n",
       "    <tr>\n",
       "      <th>8193</th>\n",
       "      <td>592</td>\n",
       "      <td>66</td>\n",
       "      <td>5</td>\n",
       "      <td>149950.19</td>\n",
       "      <td>1</td>\n",
       "      <td>1</td>\n",
       "      <td>1</td>\n",
       "      <td>76267.59</td>\n",
       "      <td>1.0</td>\n",
       "      <td>0.0</td>\n",
       "      <td>0.0</td>\n",
       "      <td>1.0</td>\n",
       "      <td>0.0</td>\n",
       "    </tr>\n",
       "  </tbody>\n",
       "</table>\n",
       "<p>6000 rows × 13 columns</p>\n",
       "</div>"
      ],
      "text/plain": [
       "      CreditScore  Age  Tenure    Balance  NumOfProducts  HasCrCard  \\\n",
       "5536          636   45       3       0.00              2          1   \n",
       "8530          808   33       2  103516.87              1          1   \n",
       "1762          758   34       1  154139.45              1          1   \n",
       "9090          809   39       5       0.00              1          1   \n",
       "8777          603   24       1  165149.13              2          1   \n",
       "...           ...  ...     ...        ...            ...        ...   \n",
       "2956          792   30       8       0.00              2          1   \n",
       "667           503   29       3       0.00              2          1   \n",
       "7371          850   30      10  153972.89              2          1   \n",
       "9472          775   74       0  161371.50              1          1   \n",
       "8193          592   66       5  149950.19              1          1   \n",
       "\n",
       "      IsActiveMember  EstimatedSalary  x0_France  x0_Germany  x0_Spain  \\\n",
       "5536               1        159463.80        0.0         0.0       1.0   \n",
       "8530               0        113907.80        1.0         0.0       0.0   \n",
       "1762               1         60728.89        1.0         0.0       0.0   \n",
       "9090               0         77705.75        1.0         0.0       0.0   \n",
       "8777               0         21858.28        0.0         0.0       1.0   \n",
       "...              ...              ...        ...         ...       ...   \n",
       "2956               0        199644.20        1.0         0.0       0.0   \n",
       "667                1        143954.99        1.0         0.0       0.0   \n",
       "7371               0         62811.03        1.0         0.0       0.0   \n",
       "9472               1        134869.93        0.0         1.0       0.0   \n",
       "8193               1         76267.59        1.0         0.0       0.0   \n",
       "\n",
       "      x1_Female  x1_Male  \n",
       "5536        0.0      1.0  \n",
       "8530        1.0      0.0  \n",
       "1762        1.0      0.0  \n",
       "9090        1.0      0.0  \n",
       "8777        0.0      1.0  \n",
       "...         ...      ...  \n",
       "2956        0.0      1.0  \n",
       "667         0.0      1.0  \n",
       "7371        0.0      1.0  \n",
       "9472        1.0      0.0  \n",
       "8193        1.0      0.0  \n",
       "\n",
       "[6000 rows x 13 columns]"
      ]
     },
     "execution_count": 84,
     "metadata": {},
     "output_type": "execute_result"
    }
   ],
   "source": [
    "features_train"
   ]
  },
  {
   "cell_type": "code",
   "execution_count": 85,
   "metadata": {},
   "outputs": [
    {
     "data": {
      "text/plain": [
       "5536    0\n",
       "8530    0\n",
       "1762    0\n",
       "9090    0\n",
       "8777    0\n",
       "       ..\n",
       "2956    0\n",
       "667     0\n",
       "7371    0\n",
       "9472    0\n",
       "8193    0\n",
       "Name: Exited, Length: 6000, dtype: int64"
      ]
     },
     "execution_count": 85,
     "metadata": {},
     "output_type": "execute_result"
    }
   ],
   "source": [
    "target_train"
   ]
  },
  {
   "cell_type": "markdown",
   "metadata": {},
   "source": [
    "Исходные данные были разделены на обучающую, валидационную и тестовую выборки в отношении 3:1:1. Модель будет обучаться на обучающей выборке, качество модели будет оцениваться по валидационной и тестовой выборке."
   ]
  },
  {
   "cell_type": "markdown",
   "metadata": {},
   "source": [
    "### Масштабирование данных"
   ]
  },
  {
   "cell_type": "code",
   "execution_count": 86,
   "metadata": {},
   "outputs": [],
   "source": [
    "pd.options.mode.chained_assignment = None"
   ]
  },
  {
   "cell_type": "code",
   "execution_count": 87,
   "metadata": {},
   "outputs": [],
   "source": [
    "numeric = ['CreditScore', 'Age', 'Tenure', 'Balance', 'NumOfProducts', 'EstimatedSalary']\n",
    "\n",
    "scaler = StandardScaler()\n",
    "scaler.fit(features_train[numeric]) \n",
    "features_train[numeric] = scaler.transform(features_train[numeric])\n",
    "features_valid[numeric] = scaler.transform(features_valid[numeric])\n",
    "features_test[numeric] = scaler.transform(features_test[numeric])"
   ]
  },
  {
   "cell_type": "code",
   "execution_count": 88,
   "metadata": {},
   "outputs": [
    {
     "data": {
      "text/html": [
       "<div>\n",
       "<style scoped>\n",
       "    .dataframe tbody tr th:only-of-type {\n",
       "        vertical-align: middle;\n",
       "    }\n",
       "\n",
       "    .dataframe tbody tr th {\n",
       "        vertical-align: top;\n",
       "    }\n",
       "\n",
       "    .dataframe thead th {\n",
       "        text-align: right;\n",
       "    }\n",
       "</style>\n",
       "<table border=\"1\" class=\"dataframe\">\n",
       "  <thead>\n",
       "    <tr style=\"text-align: right;\">\n",
       "      <th></th>\n",
       "      <th>CreditScore</th>\n",
       "      <th>Age</th>\n",
       "      <th>Tenure</th>\n",
       "      <th>Balance</th>\n",
       "      <th>NumOfProducts</th>\n",
       "      <th>HasCrCard</th>\n",
       "      <th>IsActiveMember</th>\n",
       "      <th>EstimatedSalary</th>\n",
       "      <th>x0_France</th>\n",
       "      <th>x0_Germany</th>\n",
       "      <th>x0_Spain</th>\n",
       "      <th>x1_Female</th>\n",
       "      <th>x1_Male</th>\n",
       "    </tr>\n",
       "  </thead>\n",
       "  <tbody>\n",
       "    <tr>\n",
       "      <th>5536</th>\n",
       "      <td>-0.143332</td>\n",
       "      <td>0.577533</td>\n",
       "      <td>-0.700687</td>\n",
       "      <td>-1.220573</td>\n",
       "      <td>0.797767</td>\n",
       "      <td>1</td>\n",
       "      <td>1</td>\n",
       "      <td>1.029613</td>\n",
       "      <td>0.0</td>\n",
       "      <td>0.0</td>\n",
       "      <td>1.0</td>\n",
       "      <td>0.0</td>\n",
       "      <td>1.0</td>\n",
       "    </tr>\n",
       "    <tr>\n",
       "      <th>8530</th>\n",
       "      <td>1.632702</td>\n",
       "      <td>-0.564119</td>\n",
       "      <td>-1.046905</td>\n",
       "      <td>0.435807</td>\n",
       "      <td>-0.916018</td>\n",
       "      <td>1</td>\n",
       "      <td>0</td>\n",
       "      <td>0.237986</td>\n",
       "      <td>1.0</td>\n",
       "      <td>0.0</td>\n",
       "      <td>0.0</td>\n",
       "      <td>1.0</td>\n",
       "      <td>0.0</td>\n",
       "    </tr>\n",
       "    <tr>\n",
       "      <th>1762</th>\n",
       "      <td>1.116413</td>\n",
       "      <td>-0.468981</td>\n",
       "      <td>-1.393123</td>\n",
       "      <td>1.245822</td>\n",
       "      <td>-0.916018</td>\n",
       "      <td>1</td>\n",
       "      <td>1</td>\n",
       "      <td>-0.686104</td>\n",
       "      <td>1.0</td>\n",
       "      <td>0.0</td>\n",
       "      <td>0.0</td>\n",
       "      <td>1.0</td>\n",
       "      <td>0.0</td>\n",
       "    </tr>\n",
       "    <tr>\n",
       "      <th>9090</th>\n",
       "      <td>1.643028</td>\n",
       "      <td>0.006707</td>\n",
       "      <td>-0.008252</td>\n",
       "      <td>-1.220573</td>\n",
       "      <td>-0.916018</td>\n",
       "      <td>1</td>\n",
       "      <td>0</td>\n",
       "      <td>-0.391097</td>\n",
       "      <td>1.0</td>\n",
       "      <td>0.0</td>\n",
       "      <td>0.0</td>\n",
       "      <td>1.0</td>\n",
       "      <td>0.0</td>\n",
       "    </tr>\n",
       "    <tr>\n",
       "      <th>8777</th>\n",
       "      <td>-0.484083</td>\n",
       "      <td>-1.420358</td>\n",
       "      <td>-1.393123</td>\n",
       "      <td>1.421989</td>\n",
       "      <td>0.797767</td>\n",
       "      <td>1</td>\n",
       "      <td>0</td>\n",
       "      <td>-1.361559</td>\n",
       "      <td>0.0</td>\n",
       "      <td>0.0</td>\n",
       "      <td>1.0</td>\n",
       "      <td>0.0</td>\n",
       "      <td>1.0</td>\n",
       "    </tr>\n",
       "    <tr>\n",
       "      <th>...</th>\n",
       "      <td>...</td>\n",
       "      <td>...</td>\n",
       "      <td>...</td>\n",
       "      <td>...</td>\n",
       "      <td>...</td>\n",
       "      <td>...</td>\n",
       "      <td>...</td>\n",
       "      <td>...</td>\n",
       "      <td>...</td>\n",
       "      <td>...</td>\n",
       "      <td>...</td>\n",
       "      <td>...</td>\n",
       "      <td>...</td>\n",
       "    </tr>\n",
       "    <tr>\n",
       "      <th>2956</th>\n",
       "      <td>1.467489</td>\n",
       "      <td>-0.849532</td>\n",
       "      <td>1.030402</td>\n",
       "      <td>-1.220573</td>\n",
       "      <td>0.797767</td>\n",
       "      <td>1</td>\n",
       "      <td>0</td>\n",
       "      <td>1.727827</td>\n",
       "      <td>1.0</td>\n",
       "      <td>0.0</td>\n",
       "      <td>0.0</td>\n",
       "      <td>0.0</td>\n",
       "      <td>1.0</td>\n",
       "    </tr>\n",
       "    <tr>\n",
       "      <th>667</th>\n",
       "      <td>-1.516661</td>\n",
       "      <td>-0.944670</td>\n",
       "      <td>-0.700687</td>\n",
       "      <td>-1.220573</td>\n",
       "      <td>0.797767</td>\n",
       "      <td>1</td>\n",
       "      <td>1</td>\n",
       "      <td>0.760116</td>\n",
       "      <td>1.0</td>\n",
       "      <td>0.0</td>\n",
       "      <td>0.0</td>\n",
       "      <td>0.0</td>\n",
       "      <td>1.0</td>\n",
       "    </tr>\n",
       "    <tr>\n",
       "      <th>7371</th>\n",
       "      <td>2.066384</td>\n",
       "      <td>-0.849532</td>\n",
       "      <td>1.722837</td>\n",
       "      <td>1.243157</td>\n",
       "      <td>0.797767</td>\n",
       "      <td>1</td>\n",
       "      <td>0</td>\n",
       "      <td>-0.649923</td>\n",
       "      <td>1.0</td>\n",
       "      <td>0.0</td>\n",
       "      <td>0.0</td>\n",
       "      <td>0.0</td>\n",
       "      <td>1.0</td>\n",
       "    </tr>\n",
       "    <tr>\n",
       "      <th>9472</th>\n",
       "      <td>1.291951</td>\n",
       "      <td>3.336526</td>\n",
       "      <td>-1.739340</td>\n",
       "      <td>1.361543</td>\n",
       "      <td>-0.916018</td>\n",
       "      <td>1</td>\n",
       "      <td>1</td>\n",
       "      <td>0.602245</td>\n",
       "      <td>0.0</td>\n",
       "      <td>1.0</td>\n",
       "      <td>0.0</td>\n",
       "      <td>1.0</td>\n",
       "      <td>0.0</td>\n",
       "    </tr>\n",
       "    <tr>\n",
       "      <th>8193</th>\n",
       "      <td>-0.597666</td>\n",
       "      <td>2.575424</td>\n",
       "      <td>-0.008252</td>\n",
       "      <td>1.178790</td>\n",
       "      <td>-0.916018</td>\n",
       "      <td>1</td>\n",
       "      <td>1</td>\n",
       "      <td>-0.416088</td>\n",
       "      <td>1.0</td>\n",
       "      <td>0.0</td>\n",
       "      <td>0.0</td>\n",
       "      <td>1.0</td>\n",
       "      <td>0.0</td>\n",
       "    </tr>\n",
       "  </tbody>\n",
       "</table>\n",
       "<p>6000 rows × 13 columns</p>\n",
       "</div>"
      ],
      "text/plain": [
       "      CreditScore       Age    Tenure   Balance  NumOfProducts  HasCrCard  \\\n",
       "5536    -0.143332  0.577533 -0.700687 -1.220573       0.797767          1   \n",
       "8530     1.632702 -0.564119 -1.046905  0.435807      -0.916018          1   \n",
       "1762     1.116413 -0.468981 -1.393123  1.245822      -0.916018          1   \n",
       "9090     1.643028  0.006707 -0.008252 -1.220573      -0.916018          1   \n",
       "8777    -0.484083 -1.420358 -1.393123  1.421989       0.797767          1   \n",
       "...           ...       ...       ...       ...            ...        ...   \n",
       "2956     1.467489 -0.849532  1.030402 -1.220573       0.797767          1   \n",
       "667     -1.516661 -0.944670 -0.700687 -1.220573       0.797767          1   \n",
       "7371     2.066384 -0.849532  1.722837  1.243157       0.797767          1   \n",
       "9472     1.291951  3.336526 -1.739340  1.361543      -0.916018          1   \n",
       "8193    -0.597666  2.575424 -0.008252  1.178790      -0.916018          1   \n",
       "\n",
       "      IsActiveMember  EstimatedSalary  x0_France  x0_Germany  x0_Spain  \\\n",
       "5536               1         1.029613        0.0         0.0       1.0   \n",
       "8530               0         0.237986        1.0         0.0       0.0   \n",
       "1762               1        -0.686104        1.0         0.0       0.0   \n",
       "9090               0        -0.391097        1.0         0.0       0.0   \n",
       "8777               0        -1.361559        0.0         0.0       1.0   \n",
       "...              ...              ...        ...         ...       ...   \n",
       "2956               0         1.727827        1.0         0.0       0.0   \n",
       "667                1         0.760116        1.0         0.0       0.0   \n",
       "7371               0        -0.649923        1.0         0.0       0.0   \n",
       "9472               1         0.602245        0.0         1.0       0.0   \n",
       "8193               1        -0.416088        1.0         0.0       0.0   \n",
       "\n",
       "      x1_Female  x1_Male  \n",
       "5536        0.0      1.0  \n",
       "8530        1.0      0.0  \n",
       "1762        1.0      0.0  \n",
       "9090        1.0      0.0  \n",
       "8777        0.0      1.0  \n",
       "...         ...      ...  \n",
       "2956        0.0      1.0  \n",
       "667         0.0      1.0  \n",
       "7371        0.0      1.0  \n",
       "9472        1.0      0.0  \n",
       "8193        1.0      0.0  \n",
       "\n",
       "[6000 rows x 13 columns]"
      ]
     },
     "execution_count": 88,
     "metadata": {},
     "output_type": "execute_result"
    }
   ],
   "source": [
    "features_train"
   ]
  },
  {
   "cell_type": "markdown",
   "metadata": {},
   "source": [
    "Данные в столбцах 'CreditScore', 'Age', 'Tenure', 'Balance', 'NumOfProducts', 'EstimatedSalary' были отмасштабированы."
   ]
  },
  {
   "cell_type": "markdown",
   "metadata": {},
   "source": [
    "### Исследования баланса данных"
   ]
  },
  {
   "cell_type": "code",
   "execution_count": 89,
   "metadata": {},
   "outputs": [
    {
     "data": {
      "text/plain": [
       "1223"
      ]
     },
     "execution_count": 89,
     "metadata": {},
     "output_type": "execute_result"
    }
   ],
   "source": [
    "(target_train == 1).sum()"
   ]
  },
  {
   "cell_type": "code",
   "execution_count": 90,
   "metadata": {},
   "outputs": [
    {
     "data": {
      "text/plain": [
       "4777"
      ]
     },
     "execution_count": 90,
     "metadata": {},
     "output_type": "execute_result"
    }
   ],
   "source": [
    "(target_train == 0).sum()"
   ]
  },
  {
   "cell_type": "markdown",
   "metadata": {},
   "source": [
    "Данные несбалансированы, исследование моделей будет происходить без учета дисбаланса и с учетом дисбаланса."
   ]
  },
  {
   "cell_type": "markdown",
   "metadata": {},
   "source": [
    "Вывод:\n",
    "\n",
    "Были изучены данные датасета, которые содержат:\n",
    "\n",
    "Признаки \n",
    "\n",
    "- RowNumber — индекс строки в данных\n",
    "- CustomerId — уникальный идентификатор клиента\n",
    "- Surname — фамилия\n",
    "- CreditScore — кредитный рейтинг\n",
    "- Geography — страна проживания\n",
    "- Gender — пол\n",
    "- Age — возраст\n",
    "- Tenure — сколько лет человек является клиентом банка\n",
    "- Balance — баланс на счёте\n",
    "- NumOfProducts — количество продуктов банка, используемых клиентом\n",
    "- HasCrCard — наличие кредитной карты\n",
    "- IsActiveMember — активность клиента\n",
    "- EstimatedSalary — предполагаемая зарплата\n",
    "\n",
    "Целевой признак\n",
    "\n",
    "- Exited — факт ухода клиента\n",
    "\n",
    "В данных были найдены и удалены пропуски, данные были отмасштабированы и разделены на обучающую, валидационную и тестовую выборки."
   ]
  },
  {
   "cell_type": "markdown",
   "metadata": {},
   "source": [
    "В дальнейшем мы будем решать задачу обучения с учителем с применением моделей классификации: случайный лес, дерево решений и логистическая регрессия."
   ]
  },
  {
   "cell_type": "markdown",
   "metadata": {},
   "source": [
    "## Исследование задачи"
   ]
  },
  {
   "cell_type": "code",
   "execution_count": 91,
   "metadata": {},
   "outputs": [],
   "source": [
    "def aur_roc_calc(features_valid, target_valid):\n",
    "    probabilities_valid = model.predict_proba(features_valid)\n",
    "    probabilities_one_valid = probabilities_valid[:, 1]\n",
    "    auc_roc = roc_auc_score(target_valid, probabilities_one_valid)\n",
    "    return auc_roc"
   ]
  },
  {
   "cell_type": "markdown",
   "metadata": {},
   "source": [
    "### Подбор гиперпараметров и обучение дерева решений без учета дисбаланса"
   ]
  },
  {
   "cell_type": "code",
   "execution_count": 92,
   "metadata": {},
   "outputs": [
    {
     "name": "stdout",
     "output_type": "stream",
     "text": [
      "CPU times: total: 13.3 s\n",
      "Wall time: 13.3 s\n"
     ]
    },
    {
     "data": {
      "text/plain": [
       "'max_depth = 12, max_features = 6, min_samples_leaf = 28, f1 = 0.592, auc_roc = 0.83'"
      ]
     },
     "execution_count": 92,
     "metadata": {},
     "output_type": "execute_result"
    }
   ],
   "source": [
    "%%time\n",
    "f1_best = 0\n",
    "for depth in range(1,16,1):\n",
    "    for features in range(2,12,2):\n",
    "        for samples_leaf in range(2,32,2):\n",
    "            model = DecisionTreeClassifier(random_state=12345, \n",
    "                                           max_depth=depth,\n",
    "                                           max_features=features,\n",
    "                                           min_samples_leaf=samples_leaf)\n",
    "            model.fit(features_train, target_train)\n",
    "            predictions_valid = model.predict(features_valid)\n",
    "            f1 = f1_score(target_valid, predictions_valid)\n",
    "            auc_roc = aur_roc_calc(features_valid, target_valid)\n",
    "            if f1 > f1_best:\n",
    "                auc_roc_best = auc_roc\n",
    "                f1_best = f1\n",
    "                depth_best = depth \n",
    "                features_best = features\n",
    "                samples_leaf_best = samples_leaf                      \n",
    "'max_depth = {0}, max_features = {1}, min_samples_leaf = {2}, f1 = {3}, auc_roc = {4}'.format(depth_best, \n",
    "                                                                        features_best,                      \n",
    "                                                                        samples_leaf_best, \n",
    "                                                                        round(f1_best,3), \n",
    "                                                                        round(auc_roc_best,3))"
   ]
  },
  {
   "cell_type": "markdown",
   "metadata": {},
   "source": [
    "Для дерева решений без учета дисбаланса наилучшая метрика f1 была получена при максимальной глубине дерева равной 12, при максимальном числе признаков, по которым ищется лучшее разбиение в дереве, равному 6, при минимальном числе объектов в листе равном 28 и равняется 0.592. AUC-ROC для данных гиперпараметров равняется 0.83. "
   ]
  },
  {
   "cell_type": "markdown",
   "metadata": {},
   "source": [
    "### Подбор гиперпараметров и обучение случайного леса без учета дисбаланса"
   ]
  },
  {
   "cell_type": "code",
   "execution_count": 93,
   "metadata": {},
   "outputs": [
    {
     "name": "stdout",
     "output_type": "stream",
     "text": [
      "CPU times: total: 29.1 s\n",
      "Wall time: 29 s\n"
     ]
    },
    {
     "data": {
      "text/plain": [
       "'max_depth = 18, n_estimators = 18, min_samples_leaf = 2, f1 = 0.587, auc_roc = 0.848'"
      ]
     },
     "execution_count": 93,
     "metadata": {},
     "output_type": "execute_result"
    }
   ],
   "source": [
    "%%time\n",
    "f1_best = 0\n",
    "for depth in range(2,22,2):\n",
    "    for est in range(2,22,2):\n",
    "        for samples_leaf in range(1,6,1):\n",
    "            model = RandomForestClassifier(random_state=12345, \n",
    "                                           max_depth=depth,\n",
    "                                           n_estimators=est,\n",
    "                                           min_samples_leaf=samples_leaf)\n",
    "            model.fit(features_train, target_train)\n",
    "            predictions_valid = model.predict(features_valid)\n",
    "            f1 = f1_score(target_valid, predictions_valid)\n",
    "            auc_roc = aur_roc_calc(features_valid, target_valid)\n",
    "            if f1 > f1_best:\n",
    "                auc_roc_best = auc_roc\n",
    "                f1_best = f1\n",
    "                depth_best = depth \n",
    "                est_best = est\n",
    "                samples_leaf_best = samples_leaf                      \n",
    "'max_depth = {0}, n_estimators = {1}, min_samples_leaf = {2}, f1 = {3}, auc_roc = {4}'.format(depth_best, \n",
    "                                                                        est_best,                      \n",
    "                                                                        samples_leaf_best, \n",
    "                                                                        round(f1_best,3), \n",
    "                                                                        round(auc_roc_best,3))"
   ]
  },
  {
   "cell_type": "markdown",
   "metadata": {},
   "source": [
    "Для случайного леса без учета дисбаланса наилучшая метрика f1 была получена при максимальной глубине дерева равной 18, при количестве деревьев равному 18, при минимальном числе объектов в листе равном 2 и равняется 0.587. AUC-ROC для данных гиперпараметров равняется 0.848. "
   ]
  },
  {
   "cell_type": "markdown",
   "metadata": {},
   "source": [
    "### Обучение логистической регрессии без учета дисбаланса"
   ]
  },
  {
   "cell_type": "code",
   "execution_count": 94,
   "metadata": {},
   "outputs": [
    {
     "name": "stdout",
     "output_type": "stream",
     "text": [
      "0.295\n",
      "0.775\n"
     ]
    }
   ],
   "source": [
    "model = LogisticRegression(solver='liblinear', random_state=12345)\n",
    "model.fit(features_train, target_train)\n",
    "predictions_valid = model.predict(features_valid)\n",
    "f1 = f1_score(target_valid, predictions_valid)\n",
    "auc_roc = aur_roc_calc(features_valid, target_valid)\n",
    "print(round(f1,3))\n",
    "print(round(auc_roc,3))"
   ]
  },
  {
   "cell_type": "markdown",
   "metadata": {},
   "source": [
    "Для логистической регрессии без учета дисбаланса наилучшая метрика f1 равняется 0.295, а метрика AUC-ROC равняется 0.775."
   ]
  },
  {
   "cell_type": "markdown",
   "metadata": {},
   "source": [
    "Вывод:\n",
    "\n",
    "Наилучшие показатели метрики f1 и AUC-ROC у случайного леса, наихудшие у логистической регрессии.\n"
   ]
  },
  {
   "cell_type": "markdown",
   "metadata": {},
   "source": [
    "## Борьба с дисбалансом"
   ]
  },
  {
   "cell_type": "code",
   "execution_count": 95,
   "metadata": {},
   "outputs": [
    {
     "data": {
      "text/plain": [
       "1223"
      ]
     },
     "execution_count": 95,
     "metadata": {},
     "output_type": "execute_result"
    }
   ],
   "source": [
    "(target_train == 1).sum()"
   ]
  },
  {
   "cell_type": "code",
   "execution_count": 96,
   "metadata": {},
   "outputs": [
    {
     "data": {
      "text/plain": [
       "4777"
      ]
     },
     "execution_count": 96,
     "metadata": {},
     "output_type": "execute_result"
    }
   ],
   "source": [
    "(target_train == 0).sum()"
   ]
  },
  {
   "cell_type": "code",
   "execution_count": 97,
   "metadata": {},
   "outputs": [],
   "source": [
    "ratio_upsample = round((target_train == 0).sum() / (target_train == 1).sum())"
   ]
  },
  {
   "cell_type": "code",
   "execution_count": 98,
   "metadata": {},
   "outputs": [],
   "source": [
    "ratio_downsample = (target_train == 1).sum() / (target_train == 0).sum()"
   ]
  },
  {
   "cell_type": "code",
   "execution_count": 99,
   "metadata": {},
   "outputs": [],
   "source": [
    "def upsample(features, target, repeat):\n",
    "    features_zeros = features[target == 0]\n",
    "    features_ones = features[target == 1]\n",
    "    target_zeros = target[target == 0]\n",
    "    target_ones = target[target == 1]\n",
    "\n",
    "    features_upsampled = pd.concat([features_zeros] + [features_ones] * repeat)\n",
    "    target_upsampled = pd.concat([target_zeros] + [target_ones] * repeat)\n",
    "    \n",
    "    features_upsampled, target_upsampled = shuffle(\n",
    "        features_upsampled, target_upsampled, random_state=12345)\n",
    "    \n",
    "    return features_upsampled, target_upsampled"
   ]
  },
  {
   "cell_type": "code",
   "execution_count": 100,
   "metadata": {},
   "outputs": [],
   "source": [
    "def downsample(features, target, fraction):\n",
    "    features_zeros = features[target == 0]\n",
    "    features_ones = features[target == 1]\n",
    "    target_zeros = target[target == 0]\n",
    "    target_ones = target[target == 1]\n",
    "\n",
    "    features_downsampled = pd.concat(\n",
    "        [features_zeros.sample(frac=fraction, random_state=12345)] + [features_ones])\n",
    "    target_downsampled = pd.concat(\n",
    "        [target_zeros.sample(frac=fraction, random_state=12345)] + [target_ones])\n",
    "    \n",
    "    features_downsampled, target_downsampled = shuffle(\n",
    "        features_downsampled, target_downsampled, random_state=12345)\n",
    "    \n",
    "    return features_downsampled, target_downsampled"
   ]
  },
  {
   "cell_type": "code",
   "execution_count": 101,
   "metadata": {},
   "outputs": [],
   "source": [
    "features_upsampled, target_upsampled = upsample(features_train, target_train, ratio_upsample)"
   ]
  },
  {
   "cell_type": "code",
   "execution_count": 102,
   "metadata": {},
   "outputs": [],
   "source": [
    "features_downsampled, target_downsampled = downsample(features_train, target_train, ratio_downsample)"
   ]
  },
  {
   "cell_type": "markdown",
   "metadata": {},
   "source": [
    "### Подбор гиперпараметров и обучение дерева решений с учетом дисбаланса"
   ]
  },
  {
   "cell_type": "markdown",
   "metadata": {},
   "source": [
    "#### Подбор гиперпараметров и обучение дерева решений с применением аргумента class_weight"
   ]
  },
  {
   "cell_type": "code",
   "execution_count": 103,
   "metadata": {},
   "outputs": [
    {
     "name": "stdout",
     "output_type": "stream",
     "text": [
      "CPU times: total: 14.8 s\n",
      "Wall time: 14.6 s\n"
     ]
    },
    {
     "data": {
      "text/plain": [
       "'max_depth = 7, max_features = 8, min_samples_leaf = 10, f1 = 0.594, auc_roc = 0.836'"
      ]
     },
     "execution_count": 103,
     "metadata": {},
     "output_type": "execute_result"
    }
   ],
   "source": [
    "%%time\n",
    "f1_best = 0\n",
    "for depth in range(1,16,1):\n",
    "    for features in range(2,12,2):\n",
    "        for samples_leaf in range(2,32,2):\n",
    "            model = DecisionTreeClassifier(random_state=12345, \n",
    "                                           max_depth=depth,\n",
    "                                           max_features=features,\n",
    "                                           min_samples_leaf=samples_leaf,\n",
    "                                           class_weight='balanced')\n",
    "            model.fit(features_train, target_train)\n",
    "            predictions_valid = model.predict(features_valid)\n",
    "            f1 = f1_score(target_valid, predictions_valid)\n",
    "            auc_roc = aur_roc_calc(features_valid, target_valid)\n",
    "            if f1 > f1_best:\n",
    "                auc_roc_best = auc_roc\n",
    "                f1_best = f1\n",
    "                depth_best = depth \n",
    "                features_best = features\n",
    "                samples_leaf_best = samples_leaf                      \n",
    "'max_depth = {0}, max_features = {1}, min_samples_leaf = {2}, f1 = {3}, auc_roc = {4}'.format(depth_best, \n",
    "                                                                        features_best,                      \n",
    "                                                                        samples_leaf_best, \n",
    "                                                                        round(f1_best,3), \n",
    "                                                                        round(auc_roc_best,3))"
   ]
  },
  {
   "cell_type": "markdown",
   "metadata": {},
   "source": [
    "Для дерева решений с применением аргумента class_weight наилучшая метрика f1 была получена при максимальной глубине дерева равной 7, при максимальном числе признаков, по которым ищется лучшее разбиение в дереве, равному 8, при минимальном числе объектов в листе равном 10 и равняется 0.594. AUC-ROC для данных гиперпараметров равняется 0.836.  "
   ]
  },
  {
   "cell_type": "markdown",
   "metadata": {},
   "source": [
    "#### Подбор гиперпараметров и обучение дерева решений с уменьшением выборки"
   ]
  },
  {
   "cell_type": "code",
   "execution_count": 104,
   "metadata": {},
   "outputs": [
    {
     "name": "stdout",
     "output_type": "stream",
     "text": [
      "CPU times: total: 12.7 s\n",
      "Wall time: 12.7 s\n"
     ]
    },
    {
     "data": {
      "text/plain": [
       "'max_depth = 9, max_features = 10, min_samples_leaf = 26, f1 = 0.607, auc_roc = 0.847'"
      ]
     },
     "execution_count": 104,
     "metadata": {},
     "output_type": "execute_result"
    }
   ],
   "source": [
    "%%time\n",
    "f1_best = 0\n",
    "for depth in range(1,16,1):\n",
    "    for features in range(2,12,2):\n",
    "        for samples_leaf in range(2,42,2):\n",
    "            model = DecisionTreeClassifier(random_state=12345, \n",
    "                                           max_depth=depth,\n",
    "                                           max_features=features,\n",
    "                                           min_samples_leaf=samples_leaf)\n",
    "            model.fit(features_downsampled, target_downsampled)\n",
    "            predictions_valid = model.predict(features_valid)\n",
    "            f1 = f1_score(target_valid, predictions_valid)\n",
    "            auc_roc = aur_roc_calc(features_valid, target_valid)\n",
    "            if f1 > f1_best:\n",
    "                auc_roc_best = auc_roc\n",
    "                f1_best = f1\n",
    "                depth_best = depth \n",
    "                features_best = features\n",
    "                samples_leaf_best = samples_leaf                      \n",
    "'max_depth = {0}, max_features = {1}, min_samples_leaf = {2}, f1 = {3}, auc_roc = {4}'.format(depth_best, \n",
    "                                                                        features_best,                      \n",
    "                                                                        samples_leaf_best, \n",
    "                                                                        round(f1_best,3), \n",
    "                                                                        round(auc_roc_best,3))"
   ]
  },
  {
   "cell_type": "markdown",
   "metadata": {},
   "source": [
    "Для дерева решений с уменьшением выборки наилучшая наилучшая метрика f1 была получена при максимальной глубине дерева равной 9, при максимальном числе признаков, по которым ищется лучшее разбиение в дереве, равному 10, при минимальном числе объектов в листе равном 26 и равняется 0.607. AUC-ROC для данных гиперпараметров равняется 0.847.  "
   ]
  },
  {
   "cell_type": "markdown",
   "metadata": {},
   "source": [
    "#### Подбор гиперпараметров и обучение дерева решений с увеличением выборки"
   ]
  },
  {
   "cell_type": "code",
   "execution_count": 105,
   "metadata": {},
   "outputs": [
    {
     "name": "stdout",
     "output_type": "stream",
     "text": [
      "CPU times: total: 23.8 s\n",
      "Wall time: 23.7 s\n"
     ]
    },
    {
     "data": {
      "text/plain": [
       "'max_depth = 7, max_features = 10, min_samples_leaf = 28, f1 = 0.598, auc_roc = 0.847'"
      ]
     },
     "execution_count": 105,
     "metadata": {},
     "output_type": "execute_result"
    }
   ],
   "source": [
    "%%time\n",
    "f1_best = 0\n",
    "for depth in range(1,16,1):\n",
    "    for features in range(2,12,2):\n",
    "        for samples_leaf in range(2,42,2):\n",
    "            model = DecisionTreeClassifier(random_state=12345, \n",
    "                                           max_depth=depth,\n",
    "                                           max_features=features,\n",
    "                                           min_samples_leaf=samples_leaf)\n",
    "            model.fit(features_upsampled, target_upsampled)\n",
    "            predictions_valid = model.predict(features_valid)\n",
    "            f1 = f1_score(target_valid, predictions_valid)\n",
    "            auc_roc = aur_roc_calc(features_valid, target_valid)\n",
    "            if f1 > f1_best:\n",
    "                auc_roc_best = auc_roc\n",
    "                f1_best = f1\n",
    "                depth_best = depth \n",
    "                features_best = features\n",
    "                samples_leaf_best = samples_leaf                      \n",
    "'max_depth = {0}, max_features = {1}, min_samples_leaf = {2}, f1 = {3}, auc_roc = {4}'.format(depth_best, \n",
    "                                                                        features_best,                      \n",
    "                                                                        samples_leaf_best, \n",
    "                                                                        round(f1_best,3), \n",
    "                                                                        round(auc_roc_best,3))"
   ]
  },
  {
   "cell_type": "markdown",
   "metadata": {},
   "source": [
    "Для дерева решений с увеличением выборки наилучшая наилучшая метрика f1 была получена при максимальной глубине дерева равной 7, при максимальном числе признаков, по которым ищется лучшее разбиение в дереве, равному 10, при минимальном числе объектов в листе равном 28 и равняется 0.598. AUC-ROC для данных гиперпараметров равняется 0.847.  "
   ]
  },
  {
   "cell_type": "markdown",
   "metadata": {},
   "source": [
    "### Подбор гиперпараметров и обучение случайного леса с учетом дисбаланса"
   ]
  },
  {
   "cell_type": "markdown",
   "metadata": {},
   "source": [
    "#### Подбор гиперпараметров и обучение случайного леса с применением аргумента class_weight"
   ]
  },
  {
   "cell_type": "code",
   "execution_count": 106,
   "metadata": {},
   "outputs": [
    {
     "name": "stdout",
     "output_type": "stream",
     "text": [
      "CPU times: total: 32.1 s\n",
      "Wall time: 32.3 s\n"
     ]
    },
    {
     "data": {
      "text/plain": [
       "'max_depth = 16, n_estimators = 12, min_samples_leaf = 4, f1 = 0.636, auc_roc = 0.857'"
      ]
     },
     "execution_count": 106,
     "metadata": {},
     "output_type": "execute_result"
    }
   ],
   "source": [
    "%%time\n",
    "f1_best = 0\n",
    "for depth in range(2,22,2):\n",
    "    for est in range(2,22,2):\n",
    "        for samples_leaf in range(1,6,1):\n",
    "            model = RandomForestClassifier(random_state=12345, \n",
    "                                           max_depth=depth,\n",
    "                                           n_estimators=est,\n",
    "                                           min_samples_leaf=samples_leaf,\n",
    "                                           class_weight='balanced')\n",
    "            model.fit(features_train, target_train)\n",
    "            predictions_valid = model.predict(features_valid)\n",
    "            f1 = f1_score(target_valid, predictions_valid)\n",
    "            auc_roc = aur_roc_calc(features_valid, target_valid)\n",
    "            if f1 > f1_best:\n",
    "                auc_roc_best = auc_roc\n",
    "                f1_best = f1\n",
    "                depth_best = depth \n",
    "                est_best = est\n",
    "                samples_leaf_best = samples_leaf                      \n",
    "'max_depth = {0}, n_estimators = {1}, min_samples_leaf = {2}, f1 = {3}, auc_roc = {4}'.format(depth_best, \n",
    "                                                                        est_best,                      \n",
    "                                                                        samples_leaf_best, \n",
    "                                                                        round(f1_best,3), \n",
    "                                                                        round(auc_roc_best,3))"
   ]
  },
  {
   "cell_type": "markdown",
   "metadata": {},
   "source": [
    "Для случайного леса с применением аргумента class_weight наилучшая метрика f1 была получена при максимальной глубине дерева равной 16, при количестве деревьев равному 12, при минимальном числе объектов в листе равном 4 и равняется 0.636. AUC-ROC для данных гиперпараметров равняется 0.857.  "
   ]
  },
  {
   "cell_type": "markdown",
   "metadata": {},
   "source": [
    "#### Подбор гиперпараметров и обучение случайного леса с уменьшением выборки"
   ]
  },
  {
   "cell_type": "code",
   "execution_count": 107,
   "metadata": {},
   "outputs": [
    {
     "name": "stdout",
     "output_type": "stream",
     "text": [
      "CPU times: total: 20.1 s\n",
      "Wall time: 20.1 s\n"
     ]
    },
    {
     "data": {
      "text/plain": [
       "'max_depth = 4, n_estimators = 14, min_samples_leaf = 5, f1 = 0.627, auc_roc = 0.858'"
      ]
     },
     "execution_count": 107,
     "metadata": {},
     "output_type": "execute_result"
    }
   ],
   "source": [
    "%%time\n",
    "f1_best = 0\n",
    "for depth in range(2,22,2):\n",
    "    for est in range(2,22,2):\n",
    "        for samples_leaf in range(1,6,1):\n",
    "            model = RandomForestClassifier(random_state=12345, \n",
    "                                           max_depth=depth,\n",
    "                                           n_estimators=est,\n",
    "                                           min_samples_leaf=samples_leaf)\n",
    "            model.fit(features_downsampled, target_downsampled)\n",
    "            predictions_valid = model.predict(features_valid)\n",
    "            f1 = f1_score(target_valid, predictions_valid)\n",
    "            auc_roc = aur_roc_calc(features_valid, target_valid)\n",
    "            if f1 > f1_best:\n",
    "                auc_roc_best = auc_roc\n",
    "                f1_best = f1\n",
    "                depth_best = depth \n",
    "                est_best = est\n",
    "                samples_leaf_best = samples_leaf                      \n",
    "'max_depth = {0}, n_estimators = {1}, min_samples_leaf = {2}, f1 = {3}, auc_roc = {4}'.format(depth_best, \n",
    "                                                                        est_best,                      \n",
    "                                                                        samples_leaf_best, \n",
    "                                                                        round(f1_best,3), \n",
    "                                                                        round(auc_roc_best,3))"
   ]
  },
  {
   "cell_type": "markdown",
   "metadata": {},
   "source": [
    "Для случайного леса с уменьшением выборки наилучшая метрика f1 была получена при максимальной глубине дерева равной 4, при количестве деревьев равному 14, при минимальном числе объектов в листе равном 5 и равняется 0.627. AUC-ROC для данных гиперпараметров равняется 0.858.  "
   ]
  },
  {
   "cell_type": "markdown",
   "metadata": {},
   "source": [
    "#### Подбор гиперпараметров и обучение случайного леса с увеличением выборки"
   ]
  },
  {
   "cell_type": "code",
   "execution_count": 108,
   "metadata": {},
   "outputs": [
    {
     "name": "stdout",
     "output_type": "stream",
     "text": [
      "CPU times: total: 1min 29s\n",
      "Wall time: 1min 29s\n"
     ]
    },
    {
     "data": {
      "text/plain": [
       "'max_depth = 20, n_estimators = 28, min_samples_leaf = 5, f1 = 0.625, auc_roc = 0.858'"
      ]
     },
     "execution_count": 108,
     "metadata": {},
     "output_type": "execute_result"
    }
   ],
   "source": [
    "%%time\n",
    "f1_best = 0\n",
    "for depth in range(4,44,4):\n",
    "    for est in range(4,44,4):\n",
    "        for samples_leaf in range(1,6,1):\n",
    "            model = RandomForestClassifier(random_state=12345, \n",
    "                                           max_depth=depth,\n",
    "                                           n_estimators=est,\n",
    "                                           min_samples_leaf=samples_leaf)\n",
    "            model.fit(features_upsampled, target_upsampled)\n",
    "            predictions_valid = model.predict(features_valid)\n",
    "            f1 = f1_score(target_valid, predictions_valid)\n",
    "            auc_roc = aur_roc_calc(features_valid, target_valid)\n",
    "            if f1 > f1_best:\n",
    "                auc_roc_best = auc_roc\n",
    "                f1_best = f1\n",
    "                depth_best = depth \n",
    "                est_best = est\n",
    "                samples_leaf_best = samples_leaf                      \n",
    "'max_depth = {0}, n_estimators = {1}, min_samples_leaf = {2}, f1 = {3}, auc_roc = {4}'.format(depth_best, \n",
    "                                                                        est_best,                      \n",
    "                                                                        samples_leaf_best, \n",
    "                                                                        round(f1_best,3), \n",
    "                                                                        round(auc_roc_best,3))"
   ]
  },
  {
   "cell_type": "markdown",
   "metadata": {},
   "source": [
    "Для случайного леса с увеличением выборки наилучшая метрика f1 была получена при максимальной глубине дерева равной 20, при количестве деревьев равному 28, при минимальном числе объектов в листе равном 5 и равняется 0.625. AUC-ROC для данных гиперпараметров равняется 0.858.  "
   ]
  },
  {
   "cell_type": "markdown",
   "metadata": {},
   "source": [
    "Вывод:\n",
    "\n",
    "Наилучшие показатели метрики f1 и AUC-ROC у случайного леса с увеличением выборки."
   ]
  },
  {
   "cell_type": "markdown",
   "metadata": {},
   "source": [
    "## Тестирование модели"
   ]
  },
  {
   "cell_type": "code",
   "execution_count": 109,
   "metadata": {},
   "outputs": [
    {
     "name": "stdout",
     "output_type": "stream",
     "text": [
      "valid: f1 = 0.599, auc_roc = 0.849\n",
      "test: f1 = 0.626, auc_roc = 0.85\n"
     ]
    }
   ],
   "source": [
    "model = RandomForestClassifier(random_state=12345, \n",
    "                               max_depth=20,\n",
    "                               n_estimators=28,\n",
    "                               min_samples_leaf=3)\n",
    "model.fit(features_upsampled, target_upsampled)\n",
    "predictions_valid = model.predict(features_valid)\n",
    "f1 = f1_score(target_valid, predictions_valid)\n",
    "auc_roc = aur_roc_calc(features_valid, target_valid)\n",
    "print('valid: f1 = {0}, auc_roc = {1}'.format(round(f1,3), round(auc_roc,3)))\n",
    "predictions_test = model.predict(features_test)\n",
    "f1_test = f1_score(target_test, predictions_test)\n",
    "auc_roc_test = aur_roc_calc(features_test, target_test)\n",
    "print('test: f1 = {0}, auc_roc = {1}'.format(round(f1_test,3), round(auc_roc_test,3)))"
   ]
  },
  {
   "cell_type": "code",
   "execution_count": 110,
   "metadata": {},
   "outputs": [
    {
     "data": {
      "image/png": "[encoded data removed]",
      "text/plain": [
       "<Figure size 640x480 with 1 Axes>"
      ]
     },
     "metadata": {},
     "output_type": "display_data"
    }
   ],
   "source": [
    "probabilities_valid = model.predict_proba(features_valid)\n",
    "probabilities_one_valid = probabilities_valid[:, 1]\n",
    "fpr, tpr, thresholds = roc_curve(target_valid, probabilities_one_valid) \n",
    "plt.figure()\n",
    "plt.plot(fpr, tpr)\n",
    "plt.plot([0, 1], [0, 1], linestyle='--')\n",
    "plt.xlim([0, 1])\n",
    "plt.ylim([0, 1])\n",
    "plt.xlabel(\"False Positive Rate\")\n",
    "plt.ylabel(\"True Positive Rate\")\n",
    "plt.title(\"ROC-кривая\")\n",
    "plt.show()"
   ]
  },
  {
   "cell_type": "markdown",
   "metadata": {},
   "source": [
    "Вывод:\n",
    "\n",
    "Метрика f1 на тестовой выборки для случайного леса с применением аргумента class_weight случайного леса с увеличением обучающей выборки при максимальной глубине дерева равной 20, при количестве деревьев равному 28, при минимальном числе объектов в листе равном 3 равняется 0.6, что является допустимым.  "
   ]
  },
  {
   "cell_type": "markdown",
   "metadata": {},
   "source": [
    "## Оценка важности признаков"
   ]
  },
  {
   "cell_type": "code",
   "execution_count": 111,
   "metadata": {},
   "outputs": [],
   "source": [
    "importance = permutation_importance(model, features_upsampled, target_upsampled, scoring='f1')"
   ]
  },
  {
   "cell_type": "code",
   "execution_count": 112,
   "metadata": {},
   "outputs": [
    {
     "data": {
      "image/png": "[encoded data removed]",
      "text/plain": [
       "<Figure size 1000x500 with 1 Axes>"
      ]
     },
     "metadata": {},
     "output_type": "display_data"
    }
   ],
   "source": [
    "_ = (pd.Series(importance.importances_mean, index=[features_upsampled.columns])\n",
    "        .sort_values(ascending=False)\n",
    "        .plot(kind=\"bar\", figsize=(10,5), grid=True))"
   ]
  },
  {
   "cell_type": "markdown",
   "metadata": {},
   "source": [
    "Вывод:\n",
    "\n",
    "Наиболее важные признаки - возраст, количество продуктов и баланс на счете."
   ]
  },
  {
   "cell_type": "markdown",
   "metadata": {},
   "source": [
    "## Чек-лист готовности проекта"
   ]
  },
  {
   "cell_type": "markdown",
   "metadata": {},
   "source": [
    "Поставьте 'x' в выполненных пунктах. Далее нажмите Shift+Enter."
   ]
  },
  {
   "cell_type": "markdown",
   "metadata": {},
   "source": [
    "- [x]  Jupyter Notebook открыт\n",
    "- [x]  Весь код выполняется без ошибок\n",
    "- [x]  Ячейки с кодом расположены в порядке исполнения\n",
    "- [x]  Выполнен шаг 1: данные подготовлены\n",
    "- [x]  Выполнен шаг 2: задача исследована\n",
    "    - [x]  Исследован баланс классов\n",
    "    - [x]  Изучены модели без учёта дисбаланса\n",
    "    - [x]  Написаны выводы по результатам исследования\n",
    "- [x]  Выполнен шаг 3: учтён дисбаланс\n",
    "    - [x]  Применено несколько способов борьбы с дисбалансом\n",
    "    - [x]  Написаны выводы по результатам исследования\n",
    "- [x]  Выполнен шаг 4: проведено тестирование\n",
    "- [x]  Удалось достичь *F1*-меры не менее 0.59\n",
    "- [x]  Исследована метрика *AUC-ROC*"
   ]
  },
  {
   "cell_type": "markdown",
   "metadata": {},
   "source": [
    "Вывод:\n",
    "\n",
    "- Были изучены данные датасета, которые содержат признаки и целевой признак. В данных были найдены и удалены пропуски, данные были отмасштабированы и разделены на обучающую, валидационную и тестовую выборки.\n",
    "\n",
    "- Была решена задача обучения с учителем с применением моделей классификации: случайный лес, дерево решений и логистическая регрессия.\n",
    "\n",
    "- Наилучшие показатели метрики f1 и AUC-ROC без учета дисбаланса у случайного леса, наихудшие у логистической регрессии.\n",
    "\n",
    "- Наилучшие показатели метрики f1 и AUC-ROC с учетом дисбаланса у случайного леса с увеличением выборки.\n",
    "\n",
    "- Метрика f1 на тестовой выборки для случайного леса с применением аргумента class_weight случайного леса с увеличением обучающей выборки при максимальной глубине дерева равной 20, при количестве деревьев равному 28, при минимальном числе объектов в листе равном 3 равняется 0.6, что является допустимым.  "
   ]
  },
  {
   "cell_type": "code",
   "execution_count": null,
   "metadata": {},
   "outputs": [],
   "source": []
  }
 ],
 "metadata": {
  "ExecuteTimeLog": [
   {
    "duration": 584,
    "start_time": "2023-04-20T12:15:38.076Z"
   },
   {
    "duration": 137,
    "start_time": "2023-04-20T12:16:05.485Z"
   },
   {
    "duration": 23,
    "start_time": "2023-04-20T12:16:14.801Z"
   },
   {
    "duration": 25,
    "start_time": "2023-04-20T12:16:32.764Z"
   },
   {
    "duration": 72,
    "start_time": "2023-04-20T14:46:21.311Z"
   },
   {
    "duration": 48,
    "start_time": "2023-04-20T14:46:46.849Z"
   },
   {
    "duration": 12,
    "start_time": "2023-04-20T14:49:36.009Z"
   },
   {
    "duration": 53,
    "start_time": "2023-04-20T14:58:39.552Z"
   },
   {
    "duration": 50,
    "start_time": "2023-04-20T14:59:14.877Z"
   },
   {
    "duration": 35,
    "start_time": "2023-04-20T14:59:24.978Z"
   },
   {
    "duration": 131,
    "start_time": "2023-04-20T14:59:49.382Z"
   },
   {
    "duration": 7,
    "start_time": "2023-04-20T15:00:01.096Z"
   },
   {
    "duration": 10,
    "start_time": "2023-04-20T15:00:12.193Z"
   },
   {
    "duration": 24,
    "start_time": "2023-04-20T15:00:30.396Z"
   },
   {
    "duration": 10,
    "start_time": "2023-04-20T15:00:33.379Z"
   },
   {
    "duration": 4,
    "start_time": "2023-04-20T15:00:37.604Z"
   },
   {
    "duration": 17,
    "start_time": "2023-04-20T15:00:43.975Z"
   },
   {
    "duration": 21,
    "start_time": "2023-04-20T15:01:11.691Z"
   },
   {
    "duration": 2561,
    "start_time": "2023-04-20T15:01:26.181Z"
   },
   {
    "duration": 34,
    "start_time": "2023-04-20T15:03:36.954Z"
   },
   {
    "duration": 14,
    "start_time": "2023-04-20T15:03:50.505Z"
   },
   {
    "duration": 63,
    "start_time": "2023-04-20T15:03:58.000Z"
   },
   {
    "duration": 12,
    "start_time": "2023-04-20T15:04:17.213Z"
   },
   {
    "duration": 59,
    "start_time": "2023-04-20T15:05:09.427Z"
   },
   {
    "duration": 35,
    "start_time": "2023-04-20T15:10:58.761Z"
   },
   {
    "duration": 47,
    "start_time": "2023-04-21T09:25:29.548Z"
   },
   {
    "duration": 422,
    "start_time": "2023-04-21T09:25:34.841Z"
   },
   {
    "duration": 152,
    "start_time": "2023-04-21T09:25:35.265Z"
   },
   {
    "duration": 22,
    "start_time": "2023-04-21T09:25:35.419Z"
   },
   {
    "duration": 19,
    "start_time": "2023-04-21T09:25:35.443Z"
   },
   {
    "duration": 11,
    "start_time": "2023-04-21T09:25:35.464Z"
   },
   {
    "duration": 21,
    "start_time": "2023-04-21T09:25:35.477Z"
   },
   {
    "duration": 6,
    "start_time": "2023-04-21T09:25:35.500Z"
   },
   {
    "duration": 56,
    "start_time": "2023-04-21T09:25:35.508Z"
   },
   {
    "duration": 41,
    "start_time": "2023-04-21T09:25:35.568Z"
   },
   {
    "duration": 539,
    "start_time": "2023-04-21T09:25:39.347Z"
   },
   {
    "duration": 226,
    "start_time": "2023-04-21T09:25:54.884Z"
   },
   {
    "duration": 279,
    "start_time": "2023-04-21T09:26:26.586Z"
   },
   {
    "duration": 245,
    "start_time": "2023-04-21T09:26:55.995Z"
   },
   {
    "duration": 33,
    "start_time": "2023-04-21T09:29:14.922Z"
   },
   {
    "duration": 11,
    "start_time": "2023-04-21T09:29:23.420Z"
   },
   {
    "duration": 16,
    "start_time": "2023-04-21T09:30:35.854Z"
   },
   {
    "duration": 12,
    "start_time": "2023-04-21T09:30:44.336Z"
   },
   {
    "duration": 17,
    "start_time": "2023-04-21T09:31:27.875Z"
   },
   {
    "duration": 4,
    "start_time": "2023-04-21T09:32:12.754Z"
   },
   {
    "duration": 5,
    "start_time": "2023-04-21T09:32:14.584Z"
   },
   {
    "duration": 12,
    "start_time": "2023-04-21T09:32:40.714Z"
   },
   {
    "duration": 4,
    "start_time": "2023-04-21T09:32:42.865Z"
   },
   {
    "duration": 2,
    "start_time": "2023-04-21T09:35:18.753Z"
   },
   {
    "duration": 4,
    "start_time": "2023-04-21T09:35:33.897Z"
   },
   {
    "duration": 5,
    "start_time": "2023-04-21T09:48:19.859Z"
   },
   {
    "duration": 4,
    "start_time": "2023-04-21T09:48:57.509Z"
   },
   {
    "duration": 213,
    "start_time": "2023-04-21T12:00:33.243Z"
   },
   {
    "duration": 23,
    "start_time": "2023-04-21T12:00:40.316Z"
   },
   {
    "duration": 43,
    "start_time": "2023-04-25T13:45:35.606Z"
   },
   {
    "duration": 396,
    "start_time": "2023-04-25T13:45:40.380Z"
   },
   {
    "duration": 163,
    "start_time": "2023-04-25T13:45:40.779Z"
   },
   {
    "duration": 17,
    "start_time": "2023-04-25T13:45:40.943Z"
   },
   {
    "duration": 14,
    "start_time": "2023-04-25T13:45:40.962Z"
   },
   {
    "duration": 6,
    "start_time": "2023-04-25T13:45:40.978Z"
   },
   {
    "duration": 17,
    "start_time": "2023-04-25T13:45:40.985Z"
   },
   {
    "duration": 5,
    "start_time": "2023-04-25T13:45:41.004Z"
   },
   {
    "duration": 22,
    "start_time": "2023-04-25T13:45:41.011Z"
   },
   {
    "duration": 35,
    "start_time": "2023-04-25T13:45:41.034Z"
   },
   {
    "duration": 27,
    "start_time": "2023-04-25T13:45:41.071Z"
   },
   {
    "duration": 4,
    "start_time": "2023-04-25T13:45:41.099Z"
   },
   {
    "duration": 5,
    "start_time": "2023-04-25T13:45:41.104Z"
   },
   {
    "duration": 5,
    "start_time": "2023-04-25T13:45:41.110Z"
   },
   {
    "duration": 5,
    "start_time": "2023-04-25T13:45:41.117Z"
   },
   {
    "duration": 208,
    "start_time": "2023-04-25T13:45:41.123Z"
   },
   {
    "duration": 24,
    "start_time": "2023-04-25T13:45:41.333Z"
   },
   {
    "duration": 27,
    "start_time": "2023-04-25T13:45:43.702Z"
   },
   {
    "duration": 709,
    "start_time": "2023-04-25T13:46:03.750Z"
   },
   {
    "duration": 57,
    "start_time": "2023-04-25T13:46:09.942Z"
   },
   {
    "duration": 481,
    "start_time": "2023-04-25T13:46:55.306Z"
   },
   {
    "duration": 7,
    "start_time": "2023-04-25T13:48:22.703Z"
   },
   {
    "duration": 7,
    "start_time": "2023-04-25T13:48:32.718Z"
   },
   {
    "duration": 3,
    "start_time": "2023-04-25T13:48:56.139Z"
   },
   {
    "duration": 47,
    "start_time": "2023-04-25T13:48:56.143Z"
   },
   {
    "duration": 11,
    "start_time": "2023-04-25T13:48:56.192Z"
   },
   {
    "duration": 20,
    "start_time": "2023-04-25T13:48:56.204Z"
   },
   {
    "duration": 6,
    "start_time": "2023-04-25T13:48:56.226Z"
   },
   {
    "duration": 18,
    "start_time": "2023-04-25T13:48:56.233Z"
   },
   {
    "duration": 6,
    "start_time": "2023-04-25T13:48:56.252Z"
   },
   {
    "duration": 11,
    "start_time": "2023-04-25T13:48:56.259Z"
   },
   {
    "duration": 52,
    "start_time": "2023-04-25T13:48:56.272Z"
   },
   {
    "duration": 10,
    "start_time": "2023-04-25T13:48:56.325Z"
   },
   {
    "duration": 21,
    "start_time": "2023-04-25T13:48:56.336Z"
   },
   {
    "duration": 7,
    "start_time": "2023-04-25T13:48:56.358Z"
   },
   {
    "duration": 10,
    "start_time": "2023-04-25T13:48:56.367Z"
   },
   {
    "duration": 16,
    "start_time": "2023-04-25T13:48:56.380Z"
   },
   {
    "duration": 180,
    "start_time": "2023-04-25T13:48:56.397Z"
   },
   {
    "duration": 31,
    "start_time": "2023-04-25T13:48:56.578Z"
   },
   {
    "duration": 441,
    "start_time": "2023-04-25T13:48:58.679Z"
   },
   {
    "duration": 73,
    "start_time": "2023-04-25T13:49:54.794Z"
   },
   {
    "duration": 367,
    "start_time": "2023-04-25T13:49:55.506Z"
   },
   {
    "duration": 78,
    "start_time": "2023-04-25T15:14:01.143Z"
   },
   {
    "duration": 19,
    "start_time": "2023-04-25T15:14:42.111Z"
   },
   {
    "duration": 47,
    "start_time": "2023-04-25T15:14:42.427Z"
   },
   {
    "duration": 40,
    "start_time": "2023-04-25T15:14:42.802Z"
   },
   {
    "duration": 18,
    "start_time": "2023-04-25T15:21:39.329Z"
   },
   {
    "duration": 3,
    "start_time": "2023-04-25T15:24:02.840Z"
   },
   {
    "duration": 4,
    "start_time": "2023-04-25T15:27:24.195Z"
   },
   {
    "duration": 42,
    "start_time": "2023-04-25T15:27:24.201Z"
   },
   {
    "duration": 15,
    "start_time": "2023-04-25T15:27:24.245Z"
   },
   {
    "duration": 22,
    "start_time": "2023-04-25T15:27:24.262Z"
   },
   {
    "duration": 15,
    "start_time": "2023-04-25T15:27:24.287Z"
   },
   {
    "duration": 29,
    "start_time": "2023-04-25T15:27:24.303Z"
   },
   {
    "duration": 6,
    "start_time": "2023-04-25T15:27:24.333Z"
   },
   {
    "duration": 19,
    "start_time": "2023-04-25T15:27:24.340Z"
   },
   {
    "duration": 34,
    "start_time": "2023-04-25T15:27:24.360Z"
   },
   {
    "duration": 9,
    "start_time": "2023-04-25T15:27:24.396Z"
   },
   {
    "duration": 7,
    "start_time": "2023-04-25T15:27:24.407Z"
   },
   {
    "duration": 12,
    "start_time": "2023-04-25T15:27:24.415Z"
   },
   {
    "duration": 21,
    "start_time": "2023-04-25T15:27:24.428Z"
   },
   {
    "duration": 15,
    "start_time": "2023-04-25T15:27:24.451Z"
   },
   {
    "duration": 11,
    "start_time": "2023-04-25T15:27:24.467Z"
   },
   {
    "duration": 164,
    "start_time": "2023-04-25T15:27:24.479Z"
   },
   {
    "duration": 18,
    "start_time": "2023-04-25T15:27:24.645Z"
   },
   {
    "duration": 19,
    "start_time": "2023-04-25T15:27:24.665Z"
   },
   {
    "duration": 18,
    "start_time": "2023-04-25T15:27:31.293Z"
   },
   {
    "duration": 19,
    "start_time": "2023-04-25T15:28:06.290Z"
   },
   {
    "duration": 23,
    "start_time": "2023-04-25T15:28:09.412Z"
   },
   {
    "duration": 40,
    "start_time": "2023-04-25T15:29:38.603Z"
   },
   {
    "duration": 21,
    "start_time": "2023-04-25T15:29:49.742Z"
   },
   {
    "duration": 50,
    "start_time": "2023-04-25T15:29:50.231Z"
   },
   {
    "duration": 41,
    "start_time": "2023-04-25T15:29:50.959Z"
   },
   {
    "duration": 78,
    "start_time": "2023-04-25T15:30:30.995Z"
   },
   {
    "duration": 8351,
    "start_time": "2023-04-25T15:30:35.901Z"
   },
   {
    "duration": 21,
    "start_time": "2023-04-25T15:31:49.598Z"
   },
   {
    "duration": 53,
    "start_time": "2023-04-25T15:31:50.126Z"
   },
   {
    "duration": 40,
    "start_time": "2023-04-25T15:31:50.585Z"
   },
   {
    "duration": 7637,
    "start_time": "2023-04-25T15:31:52.622Z"
   },
   {
    "duration": 134,
    "start_time": "2023-04-25T15:32:40.430Z"
   },
   {
    "duration": 43,
    "start_time": "2023-04-25T15:32:42.703Z"
   },
   {
    "duration": 46,
    "start_time": "2023-04-25T15:32:43.091Z"
   },
   {
    "duration": 40,
    "start_time": "2023-04-25T15:32:43.454Z"
   },
   {
    "duration": 8521,
    "start_time": "2023-04-25T15:32:45.595Z"
   },
   {
    "duration": 1318,
    "start_time": "2023-04-27T10:54:34.759Z"
   },
   {
    "duration": 103,
    "start_time": "2023-04-27T10:54:36.079Z"
   },
   {
    "duration": 21,
    "start_time": "2023-04-27T10:54:36.184Z"
   },
   {
    "duration": 31,
    "start_time": "2023-04-27T10:54:36.207Z"
   },
   {
    "duration": 37,
    "start_time": "2023-04-27T10:54:36.239Z"
   },
   {
    "duration": 32,
    "start_time": "2023-04-27T10:54:36.278Z"
   },
   {
    "duration": 9,
    "start_time": "2023-04-27T10:54:36.311Z"
   },
   {
    "duration": 9,
    "start_time": "2023-04-27T10:54:36.322Z"
   },
   {
    "duration": 67,
    "start_time": "2023-04-27T10:54:36.333Z"
   },
   {
    "duration": 15,
    "start_time": "2023-04-27T10:54:36.404Z"
   },
   {
    "duration": 13,
    "start_time": "2023-04-27T10:54:36.421Z"
   },
   {
    "duration": 30,
    "start_time": "2023-04-27T10:54:36.437Z"
   },
   {
    "duration": 36,
    "start_time": "2023-04-27T10:54:36.469Z"
   },
   {
    "duration": 47,
    "start_time": "2023-04-27T10:54:36.507Z"
   },
   {
    "duration": 24,
    "start_time": "2023-04-27T10:54:36.556Z"
   },
   {
    "duration": 226,
    "start_time": "2023-04-27T10:54:36.582Z"
   },
   {
    "duration": 53,
    "start_time": "2023-04-27T10:54:36.810Z"
   },
   {
    "duration": 45,
    "start_time": "2023-04-27T10:54:36.865Z"
   },
   {
    "duration": 81,
    "start_time": "2023-04-27T10:54:36.912Z"
   },
   {
    "duration": 65,
    "start_time": "2023-04-27T10:54:36.996Z"
   },
   {
    "duration": 308,
    "start_time": "2023-04-27T10:54:41.052Z"
   },
   {
    "duration": 510,
    "start_time": "2023-04-27T10:55:00.109Z"
   },
   {
    "duration": 24,
    "start_time": "2023-04-27T10:57:46.065Z"
   },
   {
    "duration": 6,
    "start_time": "2023-04-27T10:58:13.507Z"
   },
   {
    "duration": 180,
    "start_time": "2023-04-27T10:59:56.117Z"
   },
   {
    "duration": 1273,
    "start_time": "2023-04-28T11:15:15.154Z"
   },
   {
    "duration": 187,
    "start_time": "2023-04-28T11:15:16.429Z"
   },
   {
    "duration": 21,
    "start_time": "2023-04-28T11:15:16.617Z"
   },
   {
    "duration": 43,
    "start_time": "2023-04-28T11:15:16.640Z"
   },
   {
    "duration": 18,
    "start_time": "2023-04-28T11:15:16.686Z"
   },
   {
    "duration": 19,
    "start_time": "2023-04-28T11:15:16.706Z"
   },
   {
    "duration": 9,
    "start_time": "2023-04-28T11:15:16.727Z"
   },
   {
    "duration": 7,
    "start_time": "2023-04-28T11:15:16.738Z"
   },
   {
    "duration": 51,
    "start_time": "2023-04-28T11:15:16.763Z"
   },
   {
    "duration": 12,
    "start_time": "2023-04-28T11:15:16.815Z"
   },
   {
    "duration": 3,
    "start_time": "2023-04-28T11:15:16.829Z"
   },
   {
    "duration": 6,
    "start_time": "2023-04-28T11:15:16.834Z"
   },
   {
    "duration": 18,
    "start_time": "2023-04-28T11:15:16.842Z"
   },
   {
    "duration": 7,
    "start_time": "2023-04-28T11:15:16.863Z"
   },
   {
    "duration": 15,
    "start_time": "2023-04-28T11:15:16.872Z"
   },
   {
    "duration": 182,
    "start_time": "2023-04-28T11:15:16.889Z"
   },
   {
    "duration": 49,
    "start_time": "2023-04-28T11:15:17.073Z"
   },
   {
    "duration": 41,
    "start_time": "2023-04-28T11:15:17.124Z"
   },
   {
    "duration": 62,
    "start_time": "2023-04-28T11:15:17.168Z"
   },
   {
    "duration": 63,
    "start_time": "2023-04-28T11:15:17.232Z"
   },
   {
    "duration": 22,
    "start_time": "2023-04-28T11:15:17.297Z"
   },
   {
    "duration": 4,
    "start_time": "2023-04-28T11:15:17.321Z"
   },
   {
    "duration": 551,
    "start_time": "2023-04-28T11:15:19.046Z"
   },
   {
    "duration": 40,
    "start_time": "2023-04-28T11:16:40.398Z"
   },
   {
    "duration": 102,
    "start_time": "2023-04-28T11:16:47.798Z"
   },
   {
    "duration": 4,
    "start_time": "2023-04-28T11:16:50.993Z"
   },
   {
    "duration": 5,
    "start_time": "2023-04-28T11:17:04.318Z"
   },
   {
    "duration": 64,
    "start_time": "2023-04-28T11:17:19.720Z"
   },
   {
    "duration": 214,
    "start_time": "2023-04-28T11:19:19.785Z"
   },
   {
    "duration": 202,
    "start_time": "2023-04-28T11:19:47.680Z"
   },
   {
    "duration": 3,
    "start_time": "2023-04-28T11:20:26.207Z"
   },
   {
    "duration": 101,
    "start_time": "2023-04-28T11:20:26.213Z"
   },
   {
    "duration": 22,
    "start_time": "2023-04-28T11:20:26.316Z"
   },
   {
    "duration": 30,
    "start_time": "2023-04-28T11:20:26.340Z"
   },
   {
    "duration": 11,
    "start_time": "2023-04-28T11:20:26.376Z"
   },
   {
    "duration": 19,
    "start_time": "2023-04-28T11:20:26.389Z"
   },
   {
    "duration": 8,
    "start_time": "2023-04-28T11:20:26.410Z"
   },
   {
    "duration": 31,
    "start_time": "2023-04-28T11:20:26.420Z"
   },
   {
    "duration": 64,
    "start_time": "2023-04-28T11:20:26.453Z"
   },
   {
    "duration": 10,
    "start_time": "2023-04-28T11:20:26.519Z"
   },
   {
    "duration": 9,
    "start_time": "2023-04-28T11:20:26.531Z"
   },
   {
    "duration": 25,
    "start_time": "2023-04-28T11:20:26.542Z"
   },
   {
    "duration": 6,
    "start_time": "2023-04-28T11:20:26.579Z"
   },
   {
    "duration": 12,
    "start_time": "2023-04-28T11:20:26.588Z"
   },
   {
    "duration": 10,
    "start_time": "2023-04-28T11:20:26.602Z"
   },
   {
    "duration": 217,
    "start_time": "2023-04-28T11:20:26.613Z"
   },
   {
    "duration": 54,
    "start_time": "2023-04-28T11:20:26.832Z"
   },
   {
    "duration": 25,
    "start_time": "2023-04-28T11:20:26.888Z"
   },
   {
    "duration": 71,
    "start_time": "2023-04-28T11:20:26.915Z"
   },
   {
    "duration": 46,
    "start_time": "2023-04-28T11:20:26.988Z"
   },
   {
    "duration": 49,
    "start_time": "2023-04-28T11:20:27.036Z"
   },
   {
    "duration": 7,
    "start_time": "2023-04-28T11:20:27.087Z"
   },
   {
    "duration": 7277,
    "start_time": "2023-04-28T11:20:35.198Z"
   },
   {
    "duration": 3,
    "start_time": "2023-04-28T11:38:53.707Z"
   },
   {
    "duration": 9,
    "start_time": "2023-04-28T11:40:39.764Z"
   },
   {
    "duration": 9,
    "start_time": "2023-04-28T11:40:43.973Z"
   },
   {
    "duration": 9,
    "start_time": "2023-04-28T11:41:45.322Z"
   },
   {
    "duration": 8,
    "start_time": "2023-04-28T11:41:55.522Z"
   },
   {
    "duration": 43,
    "start_time": "2023-04-28T11:42:18.506Z"
   },
   {
    "duration": 44,
    "start_time": "2023-04-28T11:42:26.606Z"
   },
   {
    "duration": 3,
    "start_time": "2023-04-28T11:53:31.728Z"
   },
   {
    "duration": 18,
    "start_time": "2023-04-28T11:53:38.848Z"
   },
   {
    "duration": 500,
    "start_time": "2023-04-28T11:53:53.083Z"
   },
   {
    "duration": 178,
    "start_time": "2023-04-28T11:53:59.520Z"
   },
   {
    "duration": 483,
    "start_time": "2023-04-28T11:57:39.481Z"
   },
   {
    "duration": 199,
    "start_time": "2023-04-28T11:59:58.375Z"
   },
   {
    "duration": 48493,
    "start_time": "2023-04-28T12:00:07.719Z"
   },
   {
    "duration": 386,
    "start_time": "2023-04-28T12:01:57.404Z"
   },
   {
    "duration": 53349,
    "start_time": "2023-04-28T12:02:33.487Z"
   },
   {
    "duration": 24027,
    "start_time": "2023-04-28T12:03:45.296Z"
   },
   {
    "duration": 130078,
    "start_time": "2023-04-28T12:06:34.717Z"
   },
   {
    "duration": 53138,
    "start_time": "2023-04-28T12:08:51.703Z"
   },
   {
    "duration": 107,
    "start_time": "2023-04-28T14:40:47.556Z"
   },
   {
    "duration": 1393,
    "start_time": "2023-04-28T14:40:55.749Z"
   },
   {
    "duration": 1339,
    "start_time": "2023-04-28T14:41:01.630Z"
   },
   {
    "duration": 269,
    "start_time": "2023-04-28T14:41:27.820Z"
   },
   {
    "duration": 162,
    "start_time": "2023-04-28T14:41:31.909Z"
   },
   {
    "duration": 66049,
    "start_time": "2023-04-28T14:42:01.814Z"
   },
   {
    "duration": 18408,
    "start_time": "2023-04-28T14:43:23.084Z"
   },
   {
    "duration": 7165,
    "start_time": "2023-04-28T14:44:31.659Z"
   },
   {
    "duration": 55,
    "start_time": "2023-04-28T14:44:38.826Z"
   },
   {
    "duration": 18425,
    "start_time": "2023-04-28T14:44:38.883Z"
   },
   {
    "duration": 76,
    "start_time": "2023-04-28T14:44:57.310Z"
   },
   {
    "duration": 392,
    "start_time": "2023-04-28T14:44:57.387Z"
   },
   {
    "duration": 190,
    "start_time": "2023-04-28T14:44:57.784Z"
   },
   {
    "duration": 222,
    "start_time": "2023-04-28T14:44:57.983Z"
   },
   {
    "duration": 7272,
    "start_time": "2023-04-28T14:45:39.300Z"
   },
   {
    "duration": 48,
    "start_time": "2023-04-28T14:45:46.574Z"
   },
   {
    "duration": 129,
    "start_time": "2023-04-28T14:45:46.623Z"
   },
   {
    "duration": 18272,
    "start_time": "2023-04-28T14:45:46.754Z"
   },
   {
    "duration": 62,
    "start_time": "2023-04-28T14:46:05.027Z"
   },
   {
    "duration": 134,
    "start_time": "2023-04-28T14:46:05.093Z"
   },
   {
    "duration": 439,
    "start_time": "2023-04-28T14:46:05.229Z"
   },
   {
    "duration": 190,
    "start_time": "2023-04-28T14:46:05.670Z"
   },
   {
    "duration": 291,
    "start_time": "2023-04-28T14:46:05.862Z"
   },
   {
    "duration": 10,
    "start_time": "2023-04-28T14:49:46.915Z"
   },
   {
    "duration": 4,
    "start_time": "2023-04-28T14:49:50.714Z"
   },
   {
    "duration": 126,
    "start_time": "2023-04-28T14:49:55.043Z"
   },
   {
    "duration": 4,
    "start_time": "2023-04-28T14:51:02.589Z"
   },
   {
    "duration": 429,
    "start_time": "2023-04-28T14:52:33.946Z"
   },
   {
    "duration": 101,
    "start_time": "2023-04-28T14:52:35.297Z"
   },
   {
    "duration": 89,
    "start_time": "2023-04-28T14:52:39.193Z"
   },
   {
    "duration": 41,
    "start_time": "2023-04-28T14:52:43.514Z"
   },
   {
    "duration": 140,
    "start_time": "2023-04-28T14:52:45.746Z"
   },
   {
    "duration": 225,
    "start_time": "2023-04-28T14:53:44.042Z"
   },
   {
    "duration": 45,
    "start_time": "2023-04-28T14:53:44.913Z"
   },
   {
    "duration": 127,
    "start_time": "2023-04-28T14:53:45.513Z"
   },
   {
    "duration": 44,
    "start_time": "2023-04-28T14:54:07.288Z"
   },
   {
    "duration": 133,
    "start_time": "2023-04-28T14:54:28.354Z"
   },
   {
    "duration": 461,
    "start_time": "2023-04-28T14:54:30.609Z"
   },
   {
    "duration": 194,
    "start_time": "2023-04-28T14:54:31.072Z"
   },
   {
    "duration": 129,
    "start_time": "2023-04-28T14:54:31.363Z"
   },
   {
    "duration": 428,
    "start_time": "2023-04-28T14:54:39.138Z"
   },
   {
    "duration": 62,
    "start_time": "2023-04-28T14:54:39.818Z"
   },
   {
    "duration": 119,
    "start_time": "2023-04-28T14:54:40.529Z"
   },
   {
    "duration": 240,
    "start_time": "2023-04-28T14:54:43.650Z"
   },
   {
    "duration": 50,
    "start_time": "2023-04-28T14:54:44.179Z"
   },
   {
    "duration": 121,
    "start_time": "2023-04-28T14:54:44.911Z"
   },
   {
    "duration": 55,
    "start_time": "2023-04-28T14:55:48.314Z"
   },
   {
    "duration": 150,
    "start_time": "2023-04-28T14:56:46.458Z"
   },
   {
    "duration": 3,
    "start_time": "2023-04-28T14:56:52.521Z"
   },
   {
    "duration": 4,
    "start_time": "2023-04-28T14:56:53.682Z"
   },
   {
    "duration": 7211,
    "start_time": "2023-04-28T14:56:57.954Z"
   },
   {
    "duration": 421,
    "start_time": "2023-04-28T14:57:05.167Z"
   },
   {
    "duration": 59,
    "start_time": "2023-04-28T14:57:31.452Z"
   },
   {
    "duration": 460,
    "start_time": "2023-04-28T14:57:33.777Z"
   },
   {
    "duration": 60,
    "start_time": "2023-04-28T14:57:34.257Z"
   },
   {
    "duration": 129,
    "start_time": "2023-04-28T14:57:35.203Z"
   },
   {
    "duration": 234,
    "start_time": "2023-04-28T14:57:43.041Z"
   },
   {
    "duration": 46,
    "start_time": "2023-04-28T14:57:46.697Z"
   },
   {
    "duration": 138,
    "start_time": "2023-04-28T14:57:47.242Z"
   },
   {
    "duration": 461,
    "start_time": "2023-04-28T14:57:50.006Z"
   },
   {
    "duration": 49,
    "start_time": "2023-04-28T14:57:52.618Z"
   },
   {
    "duration": 135,
    "start_time": "2023-04-28T14:57:54.851Z"
   },
   {
    "duration": 424,
    "start_time": "2023-04-28T14:59:36.288Z"
   },
   {
    "duration": 407,
    "start_time": "2023-04-28T14:59:51.301Z"
   },
   {
    "duration": 58,
    "start_time": "2023-04-28T15:00:15.967Z"
   },
   {
    "duration": 4,
    "start_time": "2023-04-28T15:01:32.417Z"
   },
   {
    "duration": 3,
    "start_time": "2023-04-28T15:02:11.337Z"
   },
   {
    "duration": 4,
    "start_time": "2023-04-28T15:02:17.746Z"
   },
   {
    "duration": 571,
    "start_time": "2023-04-28T15:03:17.146Z"
   },
   {
    "duration": 7,
    "start_time": "2023-04-28T15:03:52.058Z"
   },
   {
    "duration": 591,
    "start_time": "2023-04-28T15:04:14.059Z"
   },
   {
    "duration": 447,
    "start_time": "2023-04-28T15:04:26.401Z"
   },
   {
    "duration": 1069,
    "start_time": "2023-04-28T15:05:11.818Z"
   },
   {
    "duration": 1546,
    "start_time": "2023-05-02T09:44:41.760Z"
   },
   {
    "duration": 91,
    "start_time": "2023-05-02T09:44:43.309Z"
   },
   {
    "duration": 19,
    "start_time": "2023-05-02T09:44:43.402Z"
   },
   {
    "duration": 20,
    "start_time": "2023-05-02T09:44:43.422Z"
   },
   {
    "duration": 18,
    "start_time": "2023-05-02T09:44:43.445Z"
   },
   {
    "duration": 31,
    "start_time": "2023-05-02T09:44:43.464Z"
   },
   {
    "duration": 21,
    "start_time": "2023-05-02T09:44:43.497Z"
   },
   {
    "duration": 19,
    "start_time": "2023-05-02T09:44:43.520Z"
   },
   {
    "duration": 66,
    "start_time": "2023-05-02T09:44:43.541Z"
   },
   {
    "duration": 16,
    "start_time": "2023-05-02T09:44:43.609Z"
   },
   {
    "duration": 6,
    "start_time": "2023-05-02T09:44:43.627Z"
   },
   {
    "duration": 8,
    "start_time": "2023-05-02T09:44:43.634Z"
   },
   {
    "duration": 9,
    "start_time": "2023-05-02T09:44:43.644Z"
   },
   {
    "duration": 11,
    "start_time": "2023-05-02T09:44:43.657Z"
   },
   {
    "duration": 5,
    "start_time": "2023-05-02T09:44:43.670Z"
   },
   {
    "duration": 193,
    "start_time": "2023-05-02T09:44:43.712Z"
   },
   {
    "duration": 47,
    "start_time": "2023-05-02T09:44:43.908Z"
   },
   {
    "duration": 35,
    "start_time": "2023-05-02T09:44:43.957Z"
   },
   {
    "duration": 68,
    "start_time": "2023-05-02T09:44:43.994Z"
   },
   {
    "duration": 55,
    "start_time": "2023-05-02T09:44:44.063Z"
   },
   {
    "duration": 22,
    "start_time": "2023-05-02T09:44:44.120Z"
   },
   {
    "duration": 4,
    "start_time": "2023-05-02T09:44:44.144Z"
   },
   {
    "duration": 4,
    "start_time": "2023-05-02T09:44:44.150Z"
   },
   {
    "duration": 9,
    "start_time": "2023-05-02T09:44:44.156Z"
   },
   {
    "duration": 7151,
    "start_time": "2023-05-02T09:44:44.166Z"
   },
   {
    "duration": 422,
    "start_time": "2023-05-02T09:44:51.319Z"
   },
   {
    "duration": 50,
    "start_time": "2023-05-02T09:44:51.744Z"
   },
   {
    "duration": 145,
    "start_time": "2023-05-02T09:44:51.796Z"
   },
   {
    "duration": 18285,
    "start_time": "2023-05-02T09:44:51.943Z"
   },
   {
    "duration": 250,
    "start_time": "2023-05-02T09:45:10.230Z"
   },
   {
    "duration": 56,
    "start_time": "2023-05-02T09:45:10.481Z"
   },
   {
    "duration": 135,
    "start_time": "2023-05-02T09:45:10.539Z"
   },
   {
    "duration": 439,
    "start_time": "2023-05-02T09:45:10.675Z"
   },
   {
    "duration": 202,
    "start_time": "2023-05-02T09:45:11.116Z"
   },
   {
    "duration": 205,
    "start_time": "2023-05-02T09:45:11.320Z"
   },
   {
    "duration": 405,
    "start_time": "2023-05-02T09:45:11.527Z"
   },
   {
    "duration": 44,
    "start_time": "2023-05-02T09:45:11.933Z"
   },
   {
    "duration": 3,
    "start_time": "2023-05-02T09:45:11.979Z"
   },
   {
    "duration": 7200,
    "start_time": "2023-05-02T09:45:20.613Z"
   },
   {
    "duration": 18408,
    "start_time": "2023-05-02T09:46:06.598Z"
   },
   {
    "duration": 4,
    "start_time": "2023-05-02T09:49:47.624Z"
   },
   {
    "duration": 7866,
    "start_time": "2023-05-02T09:51:58.505Z"
   },
   {
    "duration": 300,
    "start_time": "2023-05-02T09:52:29.513Z"
   },
   {
    "duration": 7735,
    "start_time": "2023-05-02T09:52:45.517Z"
   },
   {
    "duration": 7983,
    "start_time": "2023-05-02T09:53:05.641Z"
   },
   {
    "duration": 7764,
    "start_time": "2023-05-02T09:54:52.518Z"
   },
   {
    "duration": 4,
    "start_time": "2023-05-02T10:00:28.298Z"
   },
   {
    "duration": 36,
    "start_time": "2023-05-02T10:00:28.304Z"
   },
   {
    "duration": 14,
    "start_time": "2023-05-02T10:00:28.342Z"
   },
   {
    "duration": 16,
    "start_time": "2023-05-02T10:00:28.357Z"
   },
   {
    "duration": 7,
    "start_time": "2023-05-02T10:00:28.375Z"
   },
   {
    "duration": 27,
    "start_time": "2023-05-02T10:00:28.384Z"
   },
   {
    "duration": 7,
    "start_time": "2023-05-02T10:00:28.413Z"
   },
   {
    "duration": 13,
    "start_time": "2023-05-02T10:00:28.422Z"
   },
   {
    "duration": 38,
    "start_time": "2023-05-02T10:00:28.436Z"
   },
   {
    "duration": 11,
    "start_time": "2023-05-02T10:00:28.475Z"
   },
   {
    "duration": 27,
    "start_time": "2023-05-02T10:00:28.487Z"
   },
   {
    "duration": 5,
    "start_time": "2023-05-02T10:00:28.516Z"
   },
   {
    "duration": 7,
    "start_time": "2023-05-02T10:00:28.523Z"
   },
   {
    "duration": 5,
    "start_time": "2023-05-02T10:00:28.532Z"
   },
   {
    "duration": 6,
    "start_time": "2023-05-02T10:00:28.538Z"
   },
   {
    "duration": 195,
    "start_time": "2023-05-02T10:00:28.545Z"
   },
   {
    "duration": 47,
    "start_time": "2023-05-02T10:00:28.742Z"
   },
   {
    "duration": 31,
    "start_time": "2023-05-02T10:00:28.790Z"
   },
   {
    "duration": 62,
    "start_time": "2023-05-02T10:00:28.823Z"
   },
   {
    "duration": 65,
    "start_time": "2023-05-02T10:00:28.888Z"
   },
   {
    "duration": 30,
    "start_time": "2023-05-02T10:00:28.956Z"
   },
   {
    "duration": 6,
    "start_time": "2023-05-02T10:00:28.988Z"
   },
   {
    "duration": 4,
    "start_time": "2023-05-02T10:00:29.013Z"
   },
   {
    "duration": 7692,
    "start_time": "2023-05-02T10:00:29.020Z"
   },
   {
    "duration": 12,
    "start_time": "2023-05-02T10:00:50.609Z"
   },
   {
    "duration": 110,
    "start_time": "2023-05-02T10:01:11.451Z"
   },
   {
    "duration": 130,
    "start_time": "2023-05-02T10:15:26.155Z"
   },
   {
    "duration": 148,
    "start_time": "2023-05-02T10:15:58.355Z"
   },
   {
    "duration": 21067,
    "start_time": "2023-05-02T10:17:50.300Z"
   },
   {
    "duration": 148,
    "start_time": "2023-05-02T10:18:16.364Z"
   },
   {
    "duration": 13,
    "start_time": "2023-05-02T10:21:10.157Z"
   },
   {
    "duration": 13,
    "start_time": "2023-05-02T10:21:34.409Z"
   },
   {
    "duration": 236,
    "start_time": "2023-05-02T10:23:46.814Z"
   },
   {
    "duration": 200,
    "start_time": "2023-05-02T10:24:04.459Z"
   },
   {
    "duration": 273,
    "start_time": "2023-05-02T10:24:37.289Z"
   },
   {
    "duration": 290,
    "start_time": "2023-05-02T10:24:49.092Z"
   },
   {
    "duration": 239,
    "start_time": "2023-05-02T10:25:20.225Z"
   },
   {
    "duration": 222,
    "start_time": "2023-05-02T10:25:39.855Z"
   },
   {
    "duration": 283,
    "start_time": "2023-05-02T10:26:22.602Z"
   },
   {
    "duration": 315,
    "start_time": "2023-05-02T10:26:30.257Z"
   },
   {
    "duration": 676,
    "start_time": "2023-05-02T10:26:41.032Z"
   },
   {
    "duration": 329,
    "start_time": "2023-05-02T10:26:49.225Z"
   },
   {
    "duration": 336,
    "start_time": "2023-05-02T10:27:38.900Z"
   },
   {
    "duration": 323,
    "start_time": "2023-05-02T10:27:48.760Z"
   },
   {
    "duration": 298,
    "start_time": "2023-05-02T10:28:33.685Z"
   },
   {
    "duration": 4,
    "start_time": "2023-05-02T10:30:06.855Z"
   },
   {
    "duration": 271,
    "start_time": "2023-05-02T10:30:24.023Z"
   },
   {
    "duration": 7,
    "start_time": "2023-05-02T10:31:22.016Z"
   },
   {
    "duration": 272,
    "start_time": "2023-05-02T10:31:51.701Z"
   },
   {
    "duration": 270,
    "start_time": "2023-05-02T10:32:12.408Z"
   },
   {
    "duration": 158,
    "start_time": "2023-05-02T10:33:54.884Z"
   },
   {
    "duration": 35307,
    "start_time": "2023-05-02T10:35:04.616Z"
   },
   {
    "duration": 154,
    "start_time": "2023-05-02T10:36:08.209Z"
   },
   {
    "duration": 156,
    "start_time": "2023-05-02T10:36:38.621Z"
   },
   {
    "duration": 236,
    "start_time": "2023-05-02T10:36:44.158Z"
   },
   {
    "duration": 145,
    "start_time": "2023-05-02T10:37:08.055Z"
   },
   {
    "duration": 129,
    "start_time": "2023-05-02T10:37:24.725Z"
   },
   {
    "duration": 13404,
    "start_time": "2023-05-02T10:38:20.183Z"
   },
   {
    "duration": 157,
    "start_time": "2023-05-02T10:38:38.881Z"
   },
   {
    "duration": 281,
    "start_time": "2023-05-02T10:38:57.682Z"
   },
   {
    "duration": 13228,
    "start_time": "2023-05-02T10:39:21.225Z"
   },
   {
    "duration": 144,
    "start_time": "2023-05-02T10:39:36.900Z"
   },
   {
    "duration": 3939,
    "start_time": "2023-05-02T10:40:37.925Z"
   },
   {
    "duration": 14,
    "start_time": "2023-05-02T10:40:45.210Z"
   },
   {
    "duration": 167,
    "start_time": "2023-05-02T10:40:52.020Z"
   },
   {
    "duration": 4,
    "start_time": "2023-05-02T10:40:53.781Z"
   },
   {
    "duration": 10948,
    "start_time": "2023-05-02T10:41:05.028Z"
   },
   {
    "duration": 24787,
    "start_time": "2023-05-02T12:05:52.980Z"
   },
   {
    "duration": 5,
    "start_time": "2023-05-02T12:06:20.127Z"
   },
   {
    "duration": 11443,
    "start_time": "2023-05-02T12:08:02.755Z"
   },
   {
    "duration": 139,
    "start_time": "2023-05-02T12:08:21.680Z"
   },
   {
    "duration": 39,
    "start_time": "2023-05-02T12:11:59.443Z"
   },
   {
    "duration": 45,
    "start_time": "2023-05-02T12:12:07.799Z"
   },
   {
    "duration": 47199,
    "start_time": "2023-05-02T12:12:25.145Z"
   },
   {
    "duration": 39504,
    "start_time": "2023-05-02T12:13:50.623Z"
   },
   {
    "duration": 118,
    "start_time": "2023-05-02T12:14:42.079Z"
   },
   {
    "duration": 275,
    "start_time": "2023-05-02T12:20:08.178Z"
   },
   {
    "duration": 40134,
    "start_time": "2023-05-02T12:20:31.912Z"
   },
   {
    "duration": 132,
    "start_time": "2023-05-02T12:21:25.225Z"
   },
   {
    "duration": 124,
    "start_time": "2023-05-02T12:23:33.125Z"
   },
   {
    "duration": 4,
    "start_time": "2023-05-02T12:25:10.879Z"
   },
   {
    "duration": 39861,
    "start_time": "2023-05-02T12:26:03.779Z"
   },
   {
    "duration": 5,
    "start_time": "2023-05-02T12:26:50.891Z"
   },
   {
    "duration": 119,
    "start_time": "2023-05-02T12:26:55.554Z"
   },
   {
    "duration": 5,
    "start_time": "2023-05-02T12:27:15.955Z"
   },
   {
    "duration": 8,
    "start_time": "2023-05-02T12:27:27.121Z"
   },
   {
    "duration": 168,
    "start_time": "2023-05-02T12:27:49.560Z"
   },
   {
    "duration": 123,
    "start_time": "2023-05-02T12:28:04.362Z"
   },
   {
    "duration": 3,
    "start_time": "2023-05-02T12:28:11.988Z"
   },
   {
    "duration": 8173,
    "start_time": "2023-05-02T12:28:12.383Z"
   },
   {
    "duration": 268,
    "start_time": "2023-05-02T12:28:20.558Z"
   },
   {
    "duration": 39719,
    "start_time": "2023-05-02T12:28:20.828Z"
   },
   {
    "duration": 198,
    "start_time": "2023-05-02T12:29:00.549Z"
   },
   {
    "duration": 185,
    "start_time": "2023-05-02T12:29:26.589Z"
   },
   {
    "duration": 4798,
    "start_time": "2023-05-02T12:32:11.259Z"
   },
   {
    "duration": 1230,
    "start_time": "2023-05-02T12:34:16.242Z"
   },
   {
    "duration": 349,
    "start_time": "2023-05-02T12:34:45.921Z"
   },
   {
    "duration": 40004,
    "start_time": "2023-05-02T12:35:02.589Z"
   },
   {
    "duration": 14,
    "start_time": "2023-05-02T12:36:07.088Z"
   },
   {
    "duration": 5,
    "start_time": "2023-05-02T12:36:22.184Z"
   },
   {
    "duration": 17,
    "start_time": "2023-05-02T12:36:29.888Z"
   },
   {
    "duration": 15741,
    "start_time": "2023-05-02T12:39:12.119Z"
   },
   {
    "duration": 11,
    "start_time": "2023-05-02T12:39:40.628Z"
   },
   {
    "duration": 16788,
    "start_time": "2023-05-02T12:39:56.053Z"
   },
   {
    "duration": 82626,
    "start_time": "2023-05-02T12:40:19.736Z"
   },
   {
    "duration": 14,
    "start_time": "2023-05-02T12:42:18.776Z"
   },
   {
    "duration": 76611,
    "start_time": "2023-05-02T12:43:07.635Z"
   },
   {
    "duration": 12,
    "start_time": "2023-05-02T12:44:24.248Z"
   },
   {
    "duration": 107727,
    "start_time": "2023-05-02T12:58:23.801Z"
   },
   {
    "duration": 13,
    "start_time": "2023-05-02T13:01:34.394Z"
   },
   {
    "duration": 251341,
    "start_time": "2023-05-02T13:03:03.203Z"
   },
   {
    "duration": 14,
    "start_time": "2023-05-02T13:07:14.547Z"
   },
   {
    "duration": 13,
    "start_time": "2023-05-02T13:14:54.959Z"
   },
   {
    "duration": 300146,
    "start_time": "2023-05-02T13:15:52.492Z"
   },
   {
    "duration": 12,
    "start_time": "2023-05-02T13:20:52.640Z"
   },
   {
    "duration": 74292,
    "start_time": "2023-05-02T13:21:03.370Z"
   },
   {
    "duration": 24699,
    "start_time": "2023-05-02T13:26:42.463Z"
   },
   {
    "duration": 48151,
    "start_time": "2023-05-02T13:27:35.310Z"
   },
   {
    "duration": 58248,
    "start_time": "2023-05-02T13:29:06.248Z"
   },
   {
    "duration": 117,
    "start_time": "2023-05-02T13:31:04.978Z"
   },
   {
    "duration": 53127,
    "start_time": "2023-05-02T13:31:28.754Z"
   },
   {
    "duration": 170,
    "start_time": "2023-05-02T13:32:21.883Z"
   },
   {
    "duration": 34825,
    "start_time": "2023-05-02T13:32:53.649Z"
   },
   {
    "duration": 41742,
    "start_time": "2023-05-02T13:33:34.702Z"
   },
   {
    "duration": 40839,
    "start_time": "2023-05-02T13:54:35.073Z"
   },
   {
    "duration": 69452,
    "start_time": "2023-05-02T15:08:42.737Z"
   },
   {
    "duration": 217,
    "start_time": "2023-05-02T15:10:25.724Z"
   },
   {
    "duration": 81668,
    "start_time": "2023-05-02T15:10:54.256Z"
   },
   {
    "duration": 190,
    "start_time": "2023-05-02T15:12:41.263Z"
   },
   {
    "duration": 126802,
    "start_time": "2023-05-02T15:13:47.975Z"
   },
   {
    "duration": 11,
    "start_time": "2023-05-02T15:15:59.274Z"
   },
   {
    "duration": 121111,
    "start_time": "2023-05-02T15:16:23.736Z"
   },
   {
    "duration": 8,
    "start_time": "2023-05-02T15:18:24.849Z"
   },
   {
    "duration": 8,
    "start_time": "2023-05-02T15:18:24.859Z"
   },
   {
    "duration": 565,
    "start_time": "2023-05-02T15:18:24.869Z"
   },
   {
    "duration": 125018,
    "start_time": "2023-05-02T15:19:40.173Z"
   },
   {
    "duration": 7,
    "start_time": "2023-05-02T15:21:45.193Z"
   },
   {
    "duration": 24,
    "start_time": "2023-05-02T15:21:45.201Z"
   },
   {
    "duration": 603,
    "start_time": "2023-05-02T15:21:45.227Z"
   },
   {
    "duration": 5,
    "start_time": "2023-05-02T15:26:36.235Z"
   },
   {
    "duration": 5,
    "start_time": "2023-05-02T15:26:36.770Z"
   },
   {
    "duration": 392,
    "start_time": "2023-05-02T15:26:37.540Z"
   },
   {
    "duration": 9709,
    "start_time": "2023-05-02T15:26:38.659Z"
   },
   {
    "duration": 4,
    "start_time": "2023-05-02T19:06:54.580Z"
   },
   {
    "duration": 78,
    "start_time": "2023-05-02T19:06:54.586Z"
   },
   {
    "duration": 16,
    "start_time": "2023-05-02T19:06:54.666Z"
   },
   {
    "duration": 13,
    "start_time": "2023-05-02T19:06:54.685Z"
   },
   {
    "duration": 8,
    "start_time": "2023-05-02T19:06:54.701Z"
   },
   {
    "duration": 42,
    "start_time": "2023-05-02T19:06:54.713Z"
   },
   {
    "duration": 9,
    "start_time": "2023-05-02T19:06:54.757Z"
   },
   {
    "duration": 13,
    "start_time": "2023-05-02T19:06:54.767Z"
   },
   {
    "duration": 71,
    "start_time": "2023-05-02T19:06:54.782Z"
   },
   {
    "duration": 15,
    "start_time": "2023-05-02T19:06:54.856Z"
   },
   {
    "duration": 5,
    "start_time": "2023-05-02T19:06:54.874Z"
   },
   {
    "duration": 18,
    "start_time": "2023-05-02T19:06:54.880Z"
   },
   {
    "duration": 18,
    "start_time": "2023-05-02T19:06:54.899Z"
   },
   {
    "duration": 14,
    "start_time": "2023-05-02T19:06:54.919Z"
   },
   {
    "duration": 8,
    "start_time": "2023-05-02T19:06:54.935Z"
   },
   {
    "duration": 194,
    "start_time": "2023-05-02T19:06:54.945Z"
   },
   {
    "duration": 44,
    "start_time": "2023-05-02T19:06:55.141Z"
   },
   {
    "duration": 37,
    "start_time": "2023-05-02T19:06:55.186Z"
   },
   {
    "duration": 62,
    "start_time": "2023-05-02T19:06:55.229Z"
   },
   {
    "duration": 58,
    "start_time": "2023-05-02T19:06:55.293Z"
   },
   {
    "duration": 22,
    "start_time": "2023-05-02T19:06:55.353Z"
   },
   {
    "duration": 5,
    "start_time": "2023-05-02T19:06:55.377Z"
   },
   {
    "duration": 11,
    "start_time": "2023-05-02T19:06:55.383Z"
   },
   {
    "duration": 8629,
    "start_time": "2023-05-02T19:06:55.417Z"
   },
   {
    "duration": 185,
    "start_time": "2023-05-02T19:07:04.048Z"
   },
   {
    "duration": 43898,
    "start_time": "2023-05-02T19:07:04.234Z"
   },
   {
    "duration": 183,
    "start_time": "2023-05-02T19:07:48.133Z"
   },
   {
    "duration": 83514,
    "start_time": "2023-05-02T19:07:48.319Z"
   },
   {
    "duration": 197,
    "start_time": "2023-05-02T19:09:11.838Z"
   },
   {
    "duration": 135610,
    "start_time": "2023-05-02T19:09:12.037Z"
   },
   {
    "duration": 13,
    "start_time": "2023-05-02T19:11:27.649Z"
   },
   {
    "duration": 20,
    "start_time": "2023-05-02T19:11:27.666Z"
   },
   {
    "duration": 700,
    "start_time": "2023-05-02T19:11:27.687Z"
   },
   {
    "duration": 30,
    "start_time": "2023-05-02T19:11:28.389Z"
   },
   {
    "duration": 10,
    "start_time": "2023-05-02T19:11:28.422Z"
   },
   {
    "duration": 0,
    "start_time": "2023-05-02T19:11:54.795Z"
   },
   {
    "duration": 0,
    "start_time": "2023-05-02T19:11:54.797Z"
   },
   {
    "duration": 209,
    "start_time": "2023-05-02T19:11:57.932Z"
   },
   {
    "duration": 19982,
    "start_time": "2023-05-02T19:11:59.263Z"
   },
   {
    "duration": 4,
    "start_time": "2023-05-02T19:13:47.781Z"
   },
   {
    "duration": 5,
    "start_time": "2023-05-02T19:13:56.702Z"
   },
   {
    "duration": 6,
    "start_time": "2023-05-02T19:15:01.565Z"
   },
   {
    "duration": 106,
    "start_time": "2023-05-02T19:15:16.380Z"
   },
   {
    "duration": 5,
    "start_time": "2023-05-02T19:15:19.944Z"
   },
   {
    "duration": 119,
    "start_time": "2023-05-02T19:15:28.056Z"
   },
   {
    "duration": 6,
    "start_time": "2023-05-02T19:15:28.839Z"
   },
   {
    "duration": 12406,
    "start_time": "2023-05-02T19:15:38.501Z"
   },
   {
    "duration": 82,
    "start_time": "2023-05-02T19:16:45.124Z"
   },
   {
    "duration": 5,
    "start_time": "2023-05-02T19:16:46.245Z"
   },
   {
    "duration": 11029,
    "start_time": "2023-05-02T19:16:46.853Z"
   },
   {
    "duration": 75,
    "start_time": "2023-05-02T19:17:10.134Z"
   },
   {
    "duration": 5,
    "start_time": "2023-05-02T19:17:10.653Z"
   },
   {
    "duration": 10043,
    "start_time": "2023-05-02T19:17:11.388Z"
   },
   {
    "duration": 40,
    "start_time": "2023-05-02T19:18:17.852Z"
   },
   {
    "duration": 79,
    "start_time": "2023-05-02T19:18:23.287Z"
   },
   {
    "duration": 10217,
    "start_time": "2023-05-02T19:18:24.710Z"
   },
   {
    "duration": 6,
    "start_time": "2023-05-02T19:19:33.360Z"
   },
   {
    "duration": 92,
    "start_time": "2023-05-02T19:19:33.899Z"
   },
   {
    "duration": 77,
    "start_time": "2023-05-02T19:19:34.309Z"
   },
   {
    "duration": 79,
    "start_time": "2023-05-02T19:19:43.844Z"
   },
   {
    "duration": 4,
    "start_time": "2023-05-02T19:20:01.701Z"
   },
   {
    "duration": 94,
    "start_time": "2023-05-02T19:20:10.057Z"
   },
   {
    "duration": 5,
    "start_time": "2023-05-02T19:20:10.552Z"
   },
   {
    "duration": 5310,
    "start_time": "2023-05-02T19:20:30.635Z"
   },
   {
    "duration": 92,
    "start_time": "2023-05-02T19:20:51.696Z"
   },
   {
    "duration": 8,
    "start_time": "2023-05-02T19:20:52.541Z"
   },
   {
    "duration": 6420,
    "start_time": "2023-05-02T19:20:53.244Z"
   },
   {
    "duration": 99,
    "start_time": "2023-05-02T19:21:14.898Z"
   },
   {
    "duration": 5,
    "start_time": "2023-05-02T19:21:15.338Z"
   },
   {
    "duration": 6983,
    "start_time": "2023-05-02T19:21:15.965Z"
   },
   {
    "duration": 126,
    "start_time": "2023-05-02T19:21:31.444Z"
   },
   {
    "duration": 5,
    "start_time": "2023-05-02T19:21:32.154Z"
   },
   {
    "duration": 8694,
    "start_time": "2023-05-02T19:21:32.754Z"
   },
   {
    "duration": 112,
    "start_time": "2023-05-02T19:21:51.888Z"
   },
   {
    "duration": 5,
    "start_time": "2023-05-02T19:21:52.473Z"
   },
   {
    "duration": 10020,
    "start_time": "2023-05-02T19:21:53.184Z"
   },
   {
    "duration": 122,
    "start_time": "2023-05-02T19:22:14.548Z"
   },
   {
    "duration": 4,
    "start_time": "2023-05-02T19:22:15.083Z"
   },
   {
    "duration": 10835,
    "start_time": "2023-05-02T19:22:15.636Z"
   },
   {
    "duration": 124,
    "start_time": "2023-05-02T19:22:33.458Z"
   },
   {
    "duration": 6,
    "start_time": "2023-05-02T19:22:33.952Z"
   },
   {
    "duration": 10841,
    "start_time": "2023-05-02T19:22:34.488Z"
   },
   {
    "duration": 16287,
    "start_time": "2023-05-02T19:23:45.963Z"
   },
   {
    "duration": 21969,
    "start_time": "2023-05-02T19:24:10.652Z"
   },
   {
    "duration": 28218,
    "start_time": "2023-05-02T19:24:40.348Z"
   },
   {
    "duration": 243,
    "start_time": "2023-05-02T19:25:26.716Z"
   },
   {
    "duration": 11044,
    "start_time": "2023-05-02T19:25:37.631Z"
   },
   {
    "duration": 223,
    "start_time": "2023-05-02T19:25:48.677Z"
   },
   {
    "duration": 10323,
    "start_time": "2023-05-02T19:25:57.888Z"
   },
   {
    "duration": 192,
    "start_time": "2023-05-02T19:26:08.214Z"
   },
   {
    "duration": 14609,
    "start_time": "2023-05-02T19:28:05.933Z"
   },
   {
    "duration": 9642,
    "start_time": "2023-05-02T19:28:42.036Z"
   },
   {
    "duration": 27278,
    "start_time": "2023-05-02T19:29:01.861Z"
   },
   {
    "duration": 210,
    "start_time": "2023-05-02T19:30:02.389Z"
   },
   {
    "duration": 4725,
    "start_time": "2023-05-02T19:30:39.360Z"
   },
   {
    "duration": 12751,
    "start_time": "2023-05-02T19:30:49.401Z"
   },
   {
    "duration": 17176,
    "start_time": "2023-05-02T19:31:15.046Z"
   },
   {
    "duration": 43127,
    "start_time": "2023-05-02T19:31:39.147Z"
   },
   {
    "duration": 180,
    "start_time": "2023-05-02T19:32:26.062Z"
   },
   {
    "duration": 7852,
    "start_time": "2023-05-02T19:33:55.336Z"
   },
   {
    "duration": 52640,
    "start_time": "2023-05-02T19:34:08.655Z"
   },
   {
    "duration": 8,
    "start_time": "2023-05-02T19:35:01.296Z"
   },
   {
    "duration": 35,
    "start_time": "2023-05-02T19:35:01.306Z"
   },
   {
    "duration": 52315,
    "start_time": "2023-05-02T19:35:34.387Z"
   },
   {
    "duration": 20,
    "start_time": "2023-05-02T19:36:26.711Z"
   },
   {
    "duration": 15,
    "start_time": "2023-05-02T19:36:26.742Z"
   },
   {
    "duration": 4,
    "start_time": "2023-05-02T19:40:36.994Z"
   },
   {
    "duration": 6,
    "start_time": "2023-05-02T19:40:59.517Z"
   },
   {
    "duration": 9278,
    "start_time": "2023-05-02T19:41:16.269Z"
   },
   {
    "duration": 204,
    "start_time": "2023-05-02T19:41:30.238Z"
   },
   {
    "duration": 9514,
    "start_time": "2023-05-02T19:41:52.200Z"
   },
   {
    "duration": 45285,
    "start_time": "2023-05-02T19:42:19.732Z"
   },
   {
    "duration": 5,
    "start_time": "2023-05-02T19:43:09.087Z"
   },
   {
    "duration": 39529,
    "start_time": "2023-05-02T19:43:53.124Z"
   },
   {
    "duration": 38207,
    "start_time": "2023-05-02T19:45:56.336Z"
   },
   {
    "duration": 9,
    "start_time": "2023-05-02T19:46:34.545Z"
   },
   {
    "duration": 12,
    "start_time": "2023-05-02T19:46:34.562Z"
   },
   {
    "duration": 735,
    "start_time": "2023-05-02T19:46:34.576Z"
   },
   {
    "duration": 41422,
    "start_time": "2023-05-02T19:47:21.797Z"
   },
   {
    "duration": 12,
    "start_time": "2023-05-02T19:48:03.221Z"
   },
   {
    "duration": 27,
    "start_time": "2023-05-02T19:48:03.235Z"
   },
   {
    "duration": 62652,
    "start_time": "2023-05-02T19:48:27.434Z"
   },
   {
    "duration": 7,
    "start_time": "2023-05-02T19:49:30.088Z"
   },
   {
    "duration": 36,
    "start_time": "2023-05-02T19:49:30.096Z"
   },
   {
    "duration": 35866,
    "start_time": "2023-05-02T19:49:33.036Z"
   },
   {
    "duration": 52363,
    "start_time": "2023-05-02T19:50:56.152Z"
   },
   {
    "duration": 122561,
    "start_time": "2023-05-02T19:52:02.562Z"
   },
   {
    "duration": 13,
    "start_time": "2023-05-02T19:54:05.127Z"
   },
   {
    "duration": 14,
    "start_time": "2023-05-02T19:54:05.147Z"
   },
   {
    "duration": 33526,
    "start_time": "2023-05-02T19:56:48.139Z"
   },
   {
    "duration": 11318,
    "start_time": "2023-05-02T19:57:21.667Z"
   },
   {
    "duration": 10772,
    "start_time": "2023-05-02T19:57:32.987Z"
   },
   {
    "duration": 27685,
    "start_time": "2023-05-02T19:58:13.312Z"
   },
   {
    "duration": 5843,
    "start_time": "2023-05-02T19:58:40.999Z"
   },
   {
    "duration": 42001,
    "start_time": "2023-05-02T19:58:49.195Z"
   },
   {
    "duration": 53040,
    "start_time": "2023-05-02T19:59:31.198Z"
   },
   {
    "duration": 11,
    "start_time": "2023-05-02T20:00:24.240Z"
   },
   {
    "duration": 17,
    "start_time": "2023-05-02T20:00:24.253Z"
   },
   {
    "duration": 674,
    "start_time": "2023-05-02T20:00:24.272Z"
   },
   {
    "duration": 1916,
    "start_time": "2023-05-02T20:02:24.985Z"
   },
   {
    "duration": 15442,
    "start_time": "2023-05-02T20:04:27.839Z"
   },
   {
    "duration": 21368,
    "start_time": "2023-05-02T20:04:48.445Z"
   },
   {
    "duration": 198,
    "start_time": "2023-05-02T20:08:25.457Z"
   },
   {
    "duration": 1118,
    "start_time": "2023-05-02T20:09:05.504Z"
   },
   {
    "duration": 190,
    "start_time": "2023-05-02T20:09:08.546Z"
   },
   {
    "duration": 1253,
    "start_time": "2023-05-02T20:09:20.084Z"
   },
   {
    "duration": 189,
    "start_time": "2023-05-02T20:09:21.344Z"
   },
   {
    "duration": 3,
    "start_time": "2023-05-02T20:30:18.790Z"
   },
   {
    "duration": 2,
    "start_time": "2023-05-02T20:40:03.036Z"
   },
   {
    "duration": 8434,
    "start_time": "2023-05-02T20:41:58.298Z"
   },
   {
    "duration": 1539,
    "start_time": "2023-05-03T14:04:08.122Z"
   },
   {
    "duration": 78,
    "start_time": "2023-05-03T14:04:09.663Z"
   },
   {
    "duration": 18,
    "start_time": "2023-05-03T14:04:09.743Z"
   },
   {
    "duration": 13,
    "start_time": "2023-05-03T14:04:09.763Z"
   },
   {
    "duration": 7,
    "start_time": "2023-05-03T14:04:09.778Z"
   },
   {
    "duration": 33,
    "start_time": "2023-05-03T14:04:09.787Z"
   },
   {
    "duration": 9,
    "start_time": "2023-05-03T14:04:09.821Z"
   },
   {
    "duration": 10,
    "start_time": "2023-05-03T14:04:09.833Z"
   },
   {
    "duration": 40,
    "start_time": "2023-05-03T14:04:09.845Z"
   },
   {
    "duration": 11,
    "start_time": "2023-05-03T14:04:09.888Z"
   },
   {
    "duration": 18,
    "start_time": "2023-05-03T14:04:09.901Z"
   },
   {
    "duration": 4,
    "start_time": "2023-05-03T14:04:09.921Z"
   },
   {
    "duration": 18,
    "start_time": "2023-05-03T14:04:09.926Z"
   },
   {
    "duration": 22,
    "start_time": "2023-05-03T14:04:09.945Z"
   },
   {
    "duration": 191,
    "start_time": "2023-05-03T14:04:09.969Z"
   },
   {
    "duration": 38,
    "start_time": "2023-05-03T14:04:10.161Z"
   },
   {
    "duration": 37,
    "start_time": "2023-05-03T14:04:10.201Z"
   },
   {
    "duration": 48,
    "start_time": "2023-05-03T14:04:10.240Z"
   },
   {
    "duration": 54,
    "start_time": "2023-05-03T14:04:10.289Z"
   },
   {
    "duration": 22,
    "start_time": "2023-05-03T14:04:10.345Z"
   },
   {
    "duration": 5,
    "start_time": "2023-05-03T14:04:10.369Z"
   },
   {
    "duration": 4,
    "start_time": "2023-05-03T14:04:10.376Z"
   },
   {
    "duration": 5,
    "start_time": "2023-05-03T14:04:10.382Z"
   },
   {
    "duration": 30,
    "start_time": "2023-05-03T14:04:10.388Z"
   },
   {
    "duration": 7116,
    "start_time": "2023-05-03T14:04:10.420Z"
   },
   {
    "duration": 26937,
    "start_time": "2023-05-03T14:04:17.538Z"
   },
   {
    "duration": 37100,
    "start_time": "2023-05-03T14:04:44.477Z"
   },
   {
    "duration": 90125,
    "start_time": "2023-05-03T14:05:21.581Z"
   },
   {
    "duration": 10,
    "start_time": "2023-05-03T14:06:51.707Z"
   },
   {
    "duration": 7,
    "start_time": "2023-05-03T14:06:51.719Z"
   },
   {
    "duration": 514,
    "start_time": "2023-05-03T14:06:51.728Z"
   },
   {
    "duration": 5,
    "start_time": "2023-05-03T14:06:52.319Z"
   },
   {
    "duration": 6,
    "start_time": "2023-05-03T14:06:52.326Z"
   },
   {
    "duration": 88,
    "start_time": "2023-05-03T14:06:52.334Z"
   },
   {
    "duration": 17,
    "start_time": "2023-05-03T14:06:52.423Z"
   },
   {
    "duration": 76,
    "start_time": "2023-05-03T14:06:52.441Z"
   },
   {
    "duration": 103,
    "start_time": "2023-05-03T14:06:52.519Z"
   },
   {
    "duration": 16647,
    "start_time": "2023-05-03T14:06:52.623Z"
   },
   {
    "duration": 8958,
    "start_time": "2023-05-03T14:07:09.271Z"
   },
   {
    "duration": 8550,
    "start_time": "2023-05-03T14:07:18.231Z"
   },
   {
    "duration": 20993,
    "start_time": "2023-05-03T14:07:26.783Z"
   },
   {
    "duration": 32486,
    "start_time": "2023-05-03T14:07:47.778Z"
   },
   {
    "duration": 37693,
    "start_time": "2023-05-03T14:08:20.266Z"
   },
   {
    "duration": 6,
    "start_time": "2023-05-03T14:08:57.960Z"
   },
   {
    "duration": 16,
    "start_time": "2023-05-03T14:08:57.967Z"
   },
   {
    "duration": 547,
    "start_time": "2023-05-03T14:08:57.984Z"
   },
   {
    "duration": 1193,
    "start_time": "2023-05-03T14:08:58.533Z"
   },
   {
    "duration": 138,
    "start_time": "2023-05-03T14:08:59.727Z"
   },
   {
    "duration": 89582,
    "start_time": "2023-05-03T14:12:02.117Z"
   },
   {
    "duration": 89273,
    "start_time": "2023-05-03T14:14:31.021Z"
   },
   {
    "duration": 491,
    "start_time": "2023-05-03T14:17:43.740Z"
   },
   {
    "duration": 1050,
    "start_time": "2023-05-03T14:28:02.167Z"
   },
   {
    "duration": 137,
    "start_time": "2023-05-03T14:28:04.483Z"
   },
   {
    "duration": 14362,
    "start_time": "2023-05-03T14:29:32.877Z"
   },
   {
    "duration": 10712,
    "start_time": "2023-05-03T14:29:59.179Z"
   },
   {
    "duration": 14019,
    "start_time": "2023-05-03T14:30:16.714Z"
   },
   {
    "duration": 11845,
    "start_time": "2023-05-03T14:30:51.077Z"
   },
   {
    "duration": 14818,
    "start_time": "2023-05-03T14:31:28.241Z"
   },
   {
    "duration": 9356,
    "start_time": "2023-05-03T14:35:27.661Z"
   },
   {
    "duration": 11559,
    "start_time": "2023-05-03T14:36:04.808Z"
   },
   {
    "duration": 8348,
    "start_time": "2023-05-03T14:36:29.134Z"
   },
   {
    "duration": 7928,
    "start_time": "2023-05-03T14:37:13.982Z"
   },
   {
    "duration": 37771,
    "start_time": "2023-05-03T14:40:36.817Z"
   },
   {
    "duration": 538,
    "start_time": "2023-05-03T14:41:14.590Z"
   },
   {
    "duration": 4,
    "start_time": "2023-05-03T14:58:53.110Z"
   },
   {
    "duration": 38,
    "start_time": "2023-05-03T14:58:53.116Z"
   },
   {
    "duration": 12,
    "start_time": "2023-05-03T14:58:53.156Z"
   },
   {
    "duration": 18,
    "start_time": "2023-05-03T14:58:53.170Z"
   },
   {
    "duration": 7,
    "start_time": "2023-05-03T14:58:53.191Z"
   },
   {
    "duration": 30,
    "start_time": "2023-05-03T14:58:53.199Z"
   },
   {
    "duration": 6,
    "start_time": "2023-05-03T14:58:53.231Z"
   },
   {
    "duration": 8,
    "start_time": "2023-05-03T14:58:53.239Z"
   },
   {
    "duration": 37,
    "start_time": "2023-05-03T14:58:53.249Z"
   },
   {
    "duration": 10,
    "start_time": "2023-05-03T14:58:53.288Z"
   },
   {
    "duration": 9,
    "start_time": "2023-05-03T14:58:53.318Z"
   },
   {
    "duration": 14,
    "start_time": "2023-05-03T14:58:53.328Z"
   },
   {
    "duration": 10,
    "start_time": "2023-05-03T14:58:53.344Z"
   },
   {
    "duration": 13,
    "start_time": "2023-05-03T14:58:53.358Z"
   },
   {
    "duration": 180,
    "start_time": "2023-05-03T14:58:53.373Z"
   },
   {
    "duration": 25,
    "start_time": "2023-05-03T14:58:53.555Z"
   },
   {
    "duration": 13,
    "start_time": "2023-05-03T14:58:53.582Z"
   },
   {
    "duration": 73,
    "start_time": "2023-05-03T14:58:53.597Z"
   },
   {
    "duration": 35,
    "start_time": "2023-05-03T14:58:53.672Z"
   },
   {
    "duration": 29,
    "start_time": "2023-05-03T14:58:53.709Z"
   },
   {
    "duration": 5,
    "start_time": "2023-05-03T14:58:53.739Z"
   },
   {
    "duration": 4,
    "start_time": "2023-05-03T14:58:53.745Z"
   },
   {
    "duration": 4,
    "start_time": "2023-05-03T14:58:53.751Z"
   },
   {
    "duration": 5,
    "start_time": "2023-05-03T14:58:53.757Z"
   },
   {
    "duration": 7041,
    "start_time": "2023-05-03T14:58:53.764Z"
   },
   {
    "duration": 26200,
    "start_time": "2023-05-03T14:59:00.808Z"
   },
   {
    "duration": 36374,
    "start_time": "2023-05-03T14:59:27.010Z"
   },
   {
    "duration": 87198,
    "start_time": "2023-05-03T15:00:03.385Z"
   },
   {
    "duration": 8,
    "start_time": "2023-05-03T15:01:30.585Z"
   },
   {
    "duration": 36,
    "start_time": "2023-05-03T15:01:30.594Z"
   },
   {
    "duration": 501,
    "start_time": "2023-05-03T15:01:30.631Z"
   },
   {
    "duration": 87,
    "start_time": "2023-05-03T15:01:31.133Z"
   },
   {
    "duration": 116,
    "start_time": "2023-05-03T15:01:31.221Z"
   },
   {
    "duration": 44,
    "start_time": "2023-05-03T15:01:31.339Z"
   },
   {
    "duration": 46,
    "start_time": "2023-05-03T15:01:31.384Z"
   },
   {
    "duration": 106,
    "start_time": "2023-05-03T15:01:31.432Z"
   },
   {
    "duration": 96,
    "start_time": "2023-05-03T15:01:31.540Z"
   },
   {
    "duration": 15554,
    "start_time": "2023-05-03T15:01:31.638Z"
   },
   {
    "duration": 11324,
    "start_time": "2023-05-03T15:01:47.193Z"
   },
   {
    "duration": 7721,
    "start_time": "2023-05-03T15:01:58.519Z"
   },
   {
    "duration": 19691,
    "start_time": "2023-05-03T15:02:06.243Z"
   },
   {
    "duration": 30396,
    "start_time": "2023-05-03T15:02:25.935Z"
   },
   {
    "duration": 37494,
    "start_time": "2023-05-03T15:02:56.333Z"
   },
   {
    "duration": 6,
    "start_time": "2023-05-03T15:03:33.829Z"
   },
   {
    "duration": 20,
    "start_time": "2023-05-03T15:03:33.837Z"
   },
   {
    "duration": 463,
    "start_time": "2023-05-03T15:03:33.859Z"
   },
   {
    "duration": 1171,
    "start_time": "2023-05-03T15:03:34.324Z"
   },
   {
    "duration": 144,
    "start_time": "2023-05-03T15:03:35.496Z"
   },
   {
    "duration": 2521,
    "start_time": "2023-05-03T15:28:31.692Z"
   },
   {
    "duration": 159,
    "start_time": "2023-05-03T15:28:34.215Z"
   },
   {
    "duration": 15,
    "start_time": "2023-05-03T15:28:34.375Z"
   },
   {
    "duration": 10,
    "start_time": "2023-05-03T15:28:34.392Z"
   },
   {
    "duration": 6,
    "start_time": "2023-05-03T15:28:34.404Z"
   },
   {
    "duration": 20,
    "start_time": "2023-05-03T15:28:34.412Z"
   },
   {
    "duration": 13,
    "start_time": "2023-05-03T15:28:34.434Z"
   },
   {
    "duration": 24,
    "start_time": "2023-05-03T15:28:34.448Z"
   },
   {
    "duration": 38,
    "start_time": "2023-05-03T15:28:34.473Z"
   },
   {
    "duration": 11,
    "start_time": "2023-05-03T15:28:34.512Z"
   },
   {
    "duration": 16,
    "start_time": "2023-05-03T15:28:34.524Z"
   },
   {
    "duration": 15,
    "start_time": "2023-05-03T15:28:34.542Z"
   },
   {
    "duration": 28,
    "start_time": "2023-05-03T15:28:34.558Z"
   },
   {
    "duration": 14,
    "start_time": "2023-05-03T15:28:34.589Z"
   },
   {
    "duration": 195,
    "start_time": "2023-05-03T15:28:34.605Z"
   },
   {
    "duration": 34,
    "start_time": "2023-05-03T15:28:34.801Z"
   },
   {
    "duration": 24,
    "start_time": "2023-05-03T15:28:34.836Z"
   },
   {
    "duration": 44,
    "start_time": "2023-05-03T15:28:34.871Z"
   },
   {
    "duration": 37,
    "start_time": "2023-05-03T15:28:34.916Z"
   },
   {
    "duration": 32,
    "start_time": "2023-05-03T15:28:34.954Z"
   },
   {
    "duration": 4,
    "start_time": "2023-05-03T15:28:34.987Z"
   },
   {
    "duration": 9,
    "start_time": "2023-05-03T15:28:34.993Z"
   },
   {
    "duration": 5,
    "start_time": "2023-05-03T15:28:35.003Z"
   },
   {
    "duration": 7,
    "start_time": "2023-05-03T15:28:35.010Z"
   },
   {
    "duration": 6415,
    "start_time": "2023-05-03T15:28:35.019Z"
   },
   {
    "duration": 23316,
    "start_time": "2023-05-03T15:28:41.435Z"
   },
   {
    "duration": 35826,
    "start_time": "2023-05-03T15:29:04.752Z"
   },
   {
    "duration": 80685,
    "start_time": "2023-05-03T15:29:40.579Z"
   },
   {
    "duration": 31,
    "start_time": "2023-05-03T15:31:01.266Z"
   },
   {
    "duration": 46,
    "start_time": "2023-05-03T15:31:01.302Z"
   },
   {
    "duration": 643,
    "start_time": "2023-05-03T15:31:01.350Z"
   },
   {
    "duration": 5,
    "start_time": "2023-05-03T15:31:01.994Z"
   },
   {
    "duration": 118,
    "start_time": "2023-05-03T15:31:02.074Z"
   },
   {
    "duration": 10,
    "start_time": "2023-05-03T15:31:02.193Z"
   },
   {
    "duration": 11,
    "start_time": "2023-05-03T15:31:02.204Z"
   },
   {
    "duration": 78,
    "start_time": "2023-05-03T15:31:02.216Z"
   },
   {
    "duration": 97,
    "start_time": "2023-05-03T15:31:02.296Z"
   },
   {
    "duration": 15827,
    "start_time": "2023-05-03T15:31:02.395Z"
   },
   {
    "duration": 11650,
    "start_time": "2023-05-03T15:31:18.223Z"
   },
   {
    "duration": 7959,
    "start_time": "2023-05-03T15:31:29.880Z"
   },
   {
    "duration": 19480,
    "start_time": "2023-05-03T15:31:37.842Z"
   },
   {
    "duration": 30802,
    "start_time": "2023-05-03T15:31:57.324Z"
   },
   {
    "duration": 37538,
    "start_time": "2023-05-03T15:32:28.127Z"
   },
   {
    "duration": 9,
    "start_time": "2023-05-03T15:33:05.666Z"
   },
   {
    "duration": 39,
    "start_time": "2023-05-03T15:33:05.677Z"
   },
   {
    "duration": 871,
    "start_time": "2023-05-03T15:33:05.718Z"
   },
   {
    "duration": 1309,
    "start_time": "2023-05-03T15:33:06.591Z"
   },
   {
    "duration": 142,
    "start_time": "2023-05-03T15:33:07.901Z"
   },
   {
    "duration": 54,
    "start_time": "2023-05-03T17:08:45.614Z"
   },
   {
    "duration": 1728,
    "start_time": "2023-05-03T18:05:08.099Z"
   },
   {
    "duration": 76,
    "start_time": "2023-05-03T18:14:26.143Z"
   },
   {
    "duration": 4,
    "start_time": "2023-05-03T18:14:30.503Z"
   },
   {
    "duration": 121,
    "start_time": "2023-05-03T18:14:30.509Z"
   },
   {
    "duration": 19,
    "start_time": "2023-05-03T18:14:30.632Z"
   },
   {
    "duration": 48,
    "start_time": "2023-05-03T18:14:30.654Z"
   },
   {
    "duration": 16,
    "start_time": "2023-05-03T18:14:30.703Z"
   },
   {
    "duration": 46,
    "start_time": "2023-05-03T18:14:30.721Z"
   },
   {
    "duration": 18,
    "start_time": "2023-05-03T18:14:30.769Z"
   },
   {
    "duration": 21,
    "start_time": "2023-05-03T18:14:30.789Z"
   },
   {
    "duration": 77,
    "start_time": "2023-05-03T18:14:30.811Z"
   },
   {
    "duration": 16,
    "start_time": "2023-05-03T18:14:30.890Z"
   },
   {
    "duration": 66,
    "start_time": "2023-05-03T18:14:30.908Z"
   },
   {
    "duration": 34,
    "start_time": "2023-05-03T18:14:30.976Z"
   },
   {
    "duration": 29,
    "start_time": "2023-05-03T18:14:31.012Z"
   },
   {
    "duration": 37,
    "start_time": "2023-05-03T18:14:31.043Z"
   },
   {
    "duration": 710,
    "start_time": "2023-05-03T18:14:47.532Z"
   },
   {
    "duration": 22,
    "start_time": "2023-05-03T18:16:45.322Z"
   },
   {
    "duration": 4,
    "start_time": "2023-05-03T18:16:53.866Z"
   },
   {
    "duration": 59,
    "start_time": "2023-05-03T18:16:53.872Z"
   },
   {
    "duration": 14,
    "start_time": "2023-05-03T18:16:53.933Z"
   },
   {
    "duration": 24,
    "start_time": "2023-05-03T18:16:53.948Z"
   },
   {
    "duration": 14,
    "start_time": "2023-05-03T18:16:53.976Z"
   },
   {
    "duration": 30,
    "start_time": "2023-05-03T18:16:53.992Z"
   },
   {
    "duration": 11,
    "start_time": "2023-05-03T18:16:54.024Z"
   },
   {
    "duration": 21,
    "start_time": "2023-05-03T18:16:54.036Z"
   },
   {
    "duration": 69,
    "start_time": "2023-05-03T18:16:54.058Z"
   },
   {
    "duration": 13,
    "start_time": "2023-05-03T18:16:54.129Z"
   },
   {
    "duration": 22,
    "start_time": "2023-05-03T18:16:54.144Z"
   },
   {
    "duration": 37,
    "start_time": "2023-05-03T18:16:54.168Z"
   },
   {
    "duration": 21,
    "start_time": "2023-05-03T18:16:54.206Z"
   },
   {
    "duration": 20,
    "start_time": "2023-05-03T18:16:54.228Z"
   },
   {
    "duration": 22,
    "start_time": "2023-05-03T18:16:57.353Z"
   },
   {
    "duration": 10,
    "start_time": "2023-05-03T18:18:44.075Z"
   },
   {
    "duration": 18,
    "start_time": "2023-05-03T18:19:17.797Z"
   },
   {
    "duration": 28,
    "start_time": "2023-05-03T18:19:28.850Z"
   },
   {
    "duration": 1202,
    "start_time": "2023-05-03T18:23:02.179Z"
   },
   {
    "duration": 22,
    "start_time": "2023-05-03T18:23:32.656Z"
   },
   {
    "duration": 1281,
    "start_time": "2023-05-03T18:24:47.556Z"
   },
   {
    "duration": 15,
    "start_time": "2023-05-03T18:24:58.598Z"
   },
   {
    "duration": 24,
    "start_time": "2023-05-03T18:25:00.415Z"
   },
   {
    "duration": 22,
    "start_time": "2023-05-03T18:27:19.646Z"
   },
   {
    "duration": 15,
    "start_time": "2023-05-03T18:27:52.724Z"
   },
   {
    "duration": 25,
    "start_time": "2023-05-03T18:27:54.196Z"
   },
   {
    "duration": 4,
    "start_time": "2023-05-03T18:28:09.234Z"
   },
   {
    "duration": 45,
    "start_time": "2023-05-03T18:28:09.240Z"
   },
   {
    "duration": 13,
    "start_time": "2023-05-03T18:28:09.287Z"
   },
   {
    "duration": 16,
    "start_time": "2023-05-03T18:28:09.301Z"
   },
   {
    "duration": 8,
    "start_time": "2023-05-03T18:28:09.319Z"
   },
   {
    "duration": 34,
    "start_time": "2023-05-03T18:28:09.328Z"
   },
   {
    "duration": 7,
    "start_time": "2023-05-03T18:28:09.364Z"
   },
   {
    "duration": 15,
    "start_time": "2023-05-03T18:28:09.372Z"
   },
   {
    "duration": 40,
    "start_time": "2023-05-03T18:28:09.388Z"
   },
   {
    "duration": 32,
    "start_time": "2023-05-03T18:28:09.430Z"
   },
   {
    "duration": 5,
    "start_time": "2023-05-03T18:28:09.465Z"
   },
   {
    "duration": 8,
    "start_time": "2023-05-03T18:28:09.471Z"
   },
   {
    "duration": 5,
    "start_time": "2023-05-03T18:28:09.481Z"
   },
   {
    "duration": 6,
    "start_time": "2023-05-03T18:28:09.487Z"
   },
   {
    "duration": 23,
    "start_time": "2023-05-03T18:28:09.495Z"
   },
   {
    "duration": 15,
    "start_time": "2023-05-03T18:28:11.649Z"
   },
   {
    "duration": 24,
    "start_time": "2023-05-03T18:28:12.394Z"
   },
   {
    "duration": 6,
    "start_time": "2023-05-03T18:32:46.151Z"
   },
   {
    "duration": 10,
    "start_time": "2023-05-03T18:33:22.296Z"
   },
   {
    "duration": 4,
    "start_time": "2023-05-03T18:33:51.271Z"
   },
   {
    "duration": 7,
    "start_time": "2023-05-03T18:33:51.798Z"
   },
   {
    "duration": 8,
    "start_time": "2023-05-03T18:33:52.811Z"
   },
   {
    "duration": 3,
    "start_time": "2023-05-03T18:33:54.292Z"
   },
   {
    "duration": 4,
    "start_time": "2023-05-03T18:34:33.450Z"
   },
   {
    "duration": 22,
    "start_time": "2023-05-03T18:36:30.102Z"
   },
   {
    "duration": 5,
    "start_time": "2023-05-03T18:36:47.757Z"
   },
   {
    "duration": 28,
    "start_time": "2023-05-03T18:38:33.818Z"
   },
   {
    "duration": 28,
    "start_time": "2023-05-03T18:38:57.494Z"
   },
   {
    "duration": 2,
    "start_time": "2023-05-03T18:39:10.659Z"
   },
   {
    "duration": 24,
    "start_time": "2023-05-03T18:39:11.211Z"
   },
   {
    "duration": 22,
    "start_time": "2023-05-03T18:39:23.760Z"
   },
   {
    "duration": 74,
    "start_time": "2023-05-03T18:40:12.247Z"
   },
   {
    "duration": 21,
    "start_time": "2023-05-03T18:42:26.412Z"
   },
   {
    "duration": 4,
    "start_time": "2023-05-03T18:42:31.904Z"
   },
   {
    "duration": 4,
    "start_time": "2023-05-03T18:42:34.350Z"
   },
   {
    "duration": 3,
    "start_time": "2023-05-03T18:42:36.453Z"
   },
   {
    "duration": 817,
    "start_time": "2023-05-03T18:42:39.161Z"
   },
   {
    "duration": 426,
    "start_time": "2023-05-03T18:51:50.051Z"
   },
   {
    "duration": 87,
    "start_time": "2023-05-03T18:54:14.138Z"
   },
   {
    "duration": 17,
    "start_time": "2023-05-03T18:54:19.349Z"
   },
   {
    "duration": 16,
    "start_time": "2023-05-03T18:54:31.607Z"
   },
   {
    "duration": 532,
    "start_time": "2023-05-03T18:54:45.468Z"
   },
   {
    "duration": 553,
    "start_time": "2023-05-03T18:55:02.046Z"
   },
   {
    "duration": 988,
    "start_time": "2023-05-03T18:55:37.058Z"
   },
   {
    "duration": 1107,
    "start_time": "2023-05-03T18:55:52.407Z"
   },
   {
    "duration": 1928,
    "start_time": "2023-05-03T18:57:20.613Z"
   },
   {
    "duration": 2060,
    "start_time": "2023-05-03T18:57:40.472Z"
   },
   {
    "duration": 26,
    "start_time": "2023-05-03T19:00:44.603Z"
   },
   {
    "duration": 923,
    "start_time": "2023-05-03T19:01:02.715Z"
   },
   {
    "duration": 924,
    "start_time": "2023-05-03T19:02:00.809Z"
   },
   {
    "duration": 1522,
    "start_time": "2023-05-03T19:02:13.098Z"
   },
   {
    "duration": 5421,
    "start_time": "2023-05-03T19:02:29.675Z"
   },
   {
    "duration": 3871,
    "start_time": "2023-05-03T19:02:48.567Z"
   },
   {
    "duration": 342,
    "start_time": "2023-05-03T19:04:12.629Z"
   },
   {
    "duration": 3823,
    "start_time": "2023-05-03T19:05:20.441Z"
   },
   {
    "duration": 4,
    "start_time": "2023-05-03T19:05:59.240Z"
   },
   {
    "duration": 549,
    "start_time": "2023-05-03T19:07:07.889Z"
   },
   {
    "duration": 3512,
    "start_time": "2023-05-03T19:08:09.332Z"
   },
   {
    "duration": 88,
    "start_time": "2023-05-03T19:15:39.558Z"
   },
   {
    "duration": 18982,
    "start_time": "2023-05-03T19:15:54.981Z"
   },
   {
    "duration": 51640,
    "start_time": "2023-05-03T19:16:26.048Z"
   },
   {
    "duration": 3594,
    "start_time": "2023-05-03T19:17:34.098Z"
   },
   {
    "duration": 14643,
    "start_time": "2023-05-03T19:18:19.258Z"
   },
   {
    "duration": 34743,
    "start_time": "2023-05-03T19:18:55.683Z"
   },
   {
    "duration": 36059,
    "start_time": "2023-05-03T19:20:27.248Z"
   },
   {
    "duration": 38534,
    "start_time": "2023-05-03T19:22:11.980Z"
   },
   {
    "duration": 85496,
    "start_time": "2023-05-03T19:23:30.241Z"
   },
   {
    "duration": 16429,
    "start_time": "2023-05-03T19:25:41.634Z"
   },
   {
    "duration": 77447,
    "start_time": "2023-05-03T19:26:17.052Z"
   },
   {
    "duration": 183065,
    "start_time": "2023-05-03T19:28:21.819Z"
   },
   {
    "duration": 173777,
    "start_time": "2023-05-03T19:34:51.610Z"
   },
   {
    "duration": 190621,
    "start_time": "2023-05-03T19:38:28.279Z"
   },
   {
    "duration": 112875,
    "start_time": "2023-05-03T19:42:05.675Z"
   },
   {
    "duration": 195542,
    "start_time": "2023-05-03T19:47:10.345Z"
   },
   {
    "duration": 5,
    "start_time": "2023-05-03T19:50:25.889Z"
   },
   {
    "duration": 5,
    "start_time": "2023-05-03T19:50:25.896Z"
   },
   {
    "duration": 68,
    "start_time": "2023-05-03T19:50:38.381Z"
   },
   {
    "duration": 11,
    "start_time": "2023-05-03T19:51:37.477Z"
   },
   {
    "duration": 5599,
    "start_time": "2023-05-03T19:52:04.907Z"
   },
   {
    "duration": 8960,
    "start_time": "2023-05-03T19:54:41.974Z"
   },
   {
    "duration": 557,
    "start_time": "2023-05-03T19:55:26.516Z"
   },
   {
    "duration": 7981,
    "start_time": "2023-05-03T19:56:33.987Z"
   },
   {
    "duration": 5721,
    "start_time": "2023-05-03T19:57:09.894Z"
   },
   {
    "duration": 33049,
    "start_time": "2023-05-03T19:57:45.617Z"
   },
   {
    "duration": 309815,
    "start_time": "2023-05-03T19:58:30.250Z"
   },
   {
    "duration": 7083,
    "start_time": "2023-05-03T20:03:40.067Z"
   },
   {
    "duration": 11923,
    "start_time": "2023-05-03T20:03:47.152Z"
   },
   {
    "duration": 90,
    "start_time": "2023-05-03T20:03:59.078Z"
   },
   {
    "duration": 7288,
    "start_time": "2023-05-03T20:04:40.987Z"
   },
   {
    "duration": 6971,
    "start_time": "2023-05-03T20:05:47.943Z"
   },
   {
    "duration": 3,
    "start_time": "2023-05-03T20:06:05.093Z"
   },
   {
    "duration": 7018,
    "start_time": "2023-05-03T20:06:17.461Z"
   },
   {
    "duration": 12270,
    "start_time": "2023-05-03T20:06:37.538Z"
   },
   {
    "duration": 13221,
    "start_time": "2023-05-03T20:07:21.330Z"
   },
   {
    "duration": 11738,
    "start_time": "2023-05-03T20:08:10.442Z"
   },
   {
    "duration": 7843,
    "start_time": "2023-05-03T20:09:01.850Z"
   },
   {
    "duration": 7939,
    "start_time": "2023-05-03T20:09:23.384Z"
   },
   {
    "duration": 50339,
    "start_time": "2023-05-03T20:10:42.783Z"
   },
   {
    "duration": 5,
    "start_time": "2023-05-03T20:14:02.981Z"
   },
   {
    "duration": 4,
    "start_time": "2023-05-03T20:14:03.544Z"
   },
   {
    "duration": 4,
    "start_time": "2023-05-03T20:14:04.017Z"
   },
   {
    "duration": 4,
    "start_time": "2023-05-03T20:14:04.601Z"
   },
   {
    "duration": 4,
    "start_time": "2023-05-03T20:14:24.047Z"
   },
   {
    "duration": 4,
    "start_time": "2023-05-03T20:14:26.019Z"
   },
   {
    "duration": 16,
    "start_time": "2023-05-03T20:14:32.392Z"
   },
   {
    "duration": 5,
    "start_time": "2023-05-03T20:14:45.262Z"
   },
   {
    "duration": 5,
    "start_time": "2023-05-03T20:14:57.089Z"
   },
   {
    "duration": 10,
    "start_time": "2023-05-03T20:15:03.615Z"
   },
   {
    "duration": 10,
    "start_time": "2023-05-03T20:15:06.653Z"
   },
   {
    "duration": 745,
    "start_time": "2023-05-03T20:15:22.134Z"
   },
   {
    "duration": 4243,
    "start_time": "2023-05-03T20:16:34.526Z"
   },
   {
    "duration": 3574,
    "start_time": "2023-05-03T20:17:27.411Z"
   },
   {
    "duration": 5547,
    "start_time": "2023-05-03T20:18:47.876Z"
   },
   {
    "duration": 50902,
    "start_time": "2023-05-03T20:20:00.892Z"
   },
   {
    "duration": 2,
    "start_time": "2023-05-03T20:20:51.796Z"
   },
   {
    "duration": 38314,
    "start_time": "2023-05-03T20:22:57.412Z"
   },
   {
    "duration": 41,
    "start_time": "2023-05-03T20:26:07.733Z"
   },
   {
    "duration": 65258,
    "start_time": "2023-05-03T20:26:18.461Z"
   },
   {
    "duration": 51112,
    "start_time": "2023-05-03T20:31:11.045Z"
   },
   {
    "duration": 1953,
    "start_time": "2023-05-03T20:34:10.242Z"
   },
   {
    "duration": 239,
    "start_time": "2023-05-03T20:34:20.920Z"
   },
   {
    "duration": 41921,
    "start_time": "2023-05-03T20:35:04.242Z"
   },
   {
    "duration": 44720,
    "start_time": "2023-05-03T20:35:58.903Z"
   },
   {
    "duration": 6,
    "start_time": "2023-05-03T20:36:43.625Z"
   },
   {
    "duration": 2530,
    "start_time": "2023-05-03T20:38:19.125Z"
   },
   {
    "duration": 71448,
    "start_time": "2023-05-03T20:38:24.667Z"
   },
   {
    "duration": 22619,
    "start_time": "2023-05-03T20:39:36.117Z"
   },
   {
    "duration": 119,
    "start_time": "2023-05-03T20:53:30.439Z"
   },
   {
    "duration": 37,
    "start_time": "2023-05-03T20:53:54.323Z"
   },
   {
    "duration": 3890,
    "start_time": "2023-05-03T20:57:40.484Z"
   },
   {
    "duration": 1609,
    "start_time": "2023-05-04T07:58:55.548Z"
   },
   {
    "duration": 86,
    "start_time": "2023-05-04T07:58:57.159Z"
   },
   {
    "duration": 18,
    "start_time": "2023-05-04T07:58:57.247Z"
   },
   {
    "duration": 13,
    "start_time": "2023-05-04T07:58:57.267Z"
   },
   {
    "duration": 9,
    "start_time": "2023-05-04T07:58:57.281Z"
   },
   {
    "duration": 29,
    "start_time": "2023-05-04T07:58:57.292Z"
   },
   {
    "duration": 9,
    "start_time": "2023-05-04T07:58:57.323Z"
   },
   {
    "duration": 10,
    "start_time": "2023-05-04T07:58:57.333Z"
   },
   {
    "duration": 44,
    "start_time": "2023-05-04T07:58:57.344Z"
   },
   {
    "duration": 29,
    "start_time": "2023-05-04T07:58:57.391Z"
   },
   {
    "duration": 6,
    "start_time": "2023-05-04T07:58:57.422Z"
   },
   {
    "duration": 15,
    "start_time": "2023-05-04T07:58:57.429Z"
   },
   {
    "duration": 6,
    "start_time": "2023-05-04T07:58:57.446Z"
   },
   {
    "duration": 8,
    "start_time": "2023-05-04T07:58:57.454Z"
   },
   {
    "duration": 55,
    "start_time": "2023-05-04T07:58:57.464Z"
   },
   {
    "duration": 33,
    "start_time": "2023-05-04T07:58:57.521Z"
   },
   {
    "duration": 5,
    "start_time": "2023-05-04T07:58:57.556Z"
   },
   {
    "duration": 8,
    "start_time": "2023-05-04T07:58:57.562Z"
   },
   {
    "duration": 8,
    "start_time": "2023-05-04T07:58:57.572Z"
   },
   {
    "duration": 4,
    "start_time": "2023-05-04T07:58:57.582Z"
   },
   {
    "duration": 21,
    "start_time": "2023-05-04T07:58:57.612Z"
   },
   {
    "duration": 7,
    "start_time": "2023-05-04T07:58:57.636Z"
   },
   {
    "duration": 5,
    "start_time": "2023-05-04T07:58:57.646Z"
   },
   {
    "duration": 27,
    "start_time": "2023-05-04T07:58:57.653Z"
   },
   {
    "duration": 43,
    "start_time": "2023-05-04T07:58:57.682Z"
   },
   {
    "duration": 5,
    "start_time": "2023-05-04T07:58:57.727Z"
   },
   {
    "duration": 5,
    "start_time": "2023-05-04T07:58:57.734Z"
   },
   {
    "duration": 3,
    "start_time": "2023-05-04T07:58:57.742Z"
   },
   {
    "duration": 104,
    "start_time": "2023-05-04T07:58:59.745Z"
   },
   {
    "duration": 1534,
    "start_time": "2023-05-04T07:59:12.193Z"
   },
   {
    "duration": 593,
    "start_time": "2023-05-04T07:59:46.920Z"
   },
   {
    "duration": 478,
    "start_time": "2023-05-04T08:00:26.993Z"
   },
   {
    "duration": 435,
    "start_time": "2023-05-04T08:00:35.226Z"
   },
   {
    "duration": 456,
    "start_time": "2023-05-04T08:01:30.984Z"
   },
   {
    "duration": 1448,
    "start_time": "2023-05-04T08:01:49.591Z"
   },
   {
    "duration": 306,
    "start_time": "2023-05-04T08:02:26.279Z"
   },
   {
    "duration": 3547,
    "start_time": "2023-05-04T08:02:32.384Z"
   },
   {
    "duration": 7239,
    "start_time": "2023-05-04T08:02:40.875Z"
   },
   {
    "duration": 13981,
    "start_time": "2023-05-04T08:03:03.743Z"
   },
   {
    "duration": 1164,
    "start_time": "2023-05-04T08:03:57.608Z"
   },
   {
    "duration": 27421,
    "start_time": "2023-05-04T08:04:04.944Z"
   },
   {
    "duration": 3243,
    "start_time": "2023-05-04T08:05:18.290Z"
   },
   {
    "duration": 11086,
    "start_time": "2023-05-04T08:05:35.470Z"
   },
   {
    "duration": 22147,
    "start_time": "2023-05-04T08:06:16.318Z"
   },
   {
    "duration": 15792,
    "start_time": "2023-05-04T08:07:13.710Z"
   },
   {
    "duration": 97,
    "start_time": "2023-05-04T08:09:38.803Z"
   },
   {
    "duration": 89775,
    "start_time": "2023-05-04T08:09:46.677Z"
   },
   {
    "duration": 32088,
    "start_time": "2023-05-04T08:12:31.611Z"
   },
   {
    "duration": 32740,
    "start_time": "2023-05-04T08:13:28.285Z"
   },
   {
    "duration": 63,
    "start_time": "2023-05-04T08:16:18.466Z"
   },
   {
    "duration": 17239,
    "start_time": "2023-05-04T08:21:02.299Z"
   },
   {
    "duration": 132,
    "start_time": "2023-05-04T08:22:01.251Z"
   },
   {
    "duration": 4,
    "start_time": "2023-05-04T08:22:13.096Z"
   },
   {
    "duration": 6,
    "start_time": "2023-05-04T08:22:13.826Z"
   },
   {
    "duration": 3,
    "start_time": "2023-05-04T08:22:15.939Z"
   },
   {
    "duration": 5,
    "start_time": "2023-05-04T08:22:17.579Z"
   },
   {
    "duration": 14,
    "start_time": "2023-05-04T08:22:18.907Z"
   },
   {
    "duration": 13,
    "start_time": "2023-05-04T08:22:20.305Z"
   },
   {
    "duration": 4,
    "start_time": "2023-05-04T08:22:38.355Z"
   },
   {
    "duration": 4,
    "start_time": "2023-05-04T08:22:40.546Z"
   },
   {
    "duration": 10,
    "start_time": "2023-05-04T08:22:41.974Z"
   },
   {
    "duration": 13,
    "start_time": "2023-05-04T08:22:44.025Z"
   },
   {
    "duration": 10,
    "start_time": "2023-05-04T08:23:21.882Z"
   },
   {
    "duration": 17741,
    "start_time": "2023-05-04T08:23:25.554Z"
   },
   {
    "duration": 11771,
    "start_time": "2023-05-04T08:23:43.297Z"
   },
   {
    "duration": 15126,
    "start_time": "2023-05-04T08:24:50.874Z"
   },
   {
    "duration": 26948,
    "start_time": "2023-05-04T08:25:30.210Z"
   },
   {
    "duration": 35025,
    "start_time": "2023-05-04T08:27:05.001Z"
   },
   {
    "duration": 22614,
    "start_time": "2023-05-04T08:27:50.680Z"
   },
   {
    "duration": 44659,
    "start_time": "2023-05-04T08:28:21.704Z"
   },
   {
    "duration": 58,
    "start_time": "2023-05-04T08:29:06.365Z"
   },
   {
    "duration": 193,
    "start_time": "2023-05-04T08:29:06.428Z"
   },
   {
    "duration": 194,
    "start_time": "2023-05-04T08:29:06.624Z"
   },
   {
    "duration": 93243,
    "start_time": "2023-05-04T08:29:30.424Z"
   },
   {
    "duration": 158,
    "start_time": "2023-05-04T08:31:03.669Z"
   },
   {
    "duration": 95295,
    "start_time": "2023-05-04T08:32:00.751Z"
   },
   {
    "duration": 302,
    "start_time": "2023-05-04T08:34:44.759Z"
   },
   {
    "duration": 155,
    "start_time": "2023-05-04T08:34:55.848Z"
   },
   {
    "duration": 4,
    "start_time": "2023-05-04T08:53:11.969Z"
   },
   {
    "duration": 48,
    "start_time": "2023-05-04T08:53:11.974Z"
   },
   {
    "duration": 13,
    "start_time": "2023-05-04T08:53:12.023Z"
   },
   {
    "duration": 12,
    "start_time": "2023-05-04T08:53:12.037Z"
   },
   {
    "duration": 7,
    "start_time": "2023-05-04T08:53:12.051Z"
   },
   {
    "duration": 41,
    "start_time": "2023-05-04T08:53:12.060Z"
   },
   {
    "duration": 16,
    "start_time": "2023-05-04T08:53:12.102Z"
   },
   {
    "duration": 19,
    "start_time": "2023-05-04T08:53:12.119Z"
   },
   {
    "duration": 49,
    "start_time": "2023-05-04T08:53:12.140Z"
   },
   {
    "duration": 13,
    "start_time": "2023-05-04T08:53:12.190Z"
   },
   {
    "duration": 5,
    "start_time": "2023-05-04T08:53:12.211Z"
   },
   {
    "duration": 7,
    "start_time": "2023-05-04T08:53:12.218Z"
   },
   {
    "duration": 17,
    "start_time": "2023-05-04T08:53:12.226Z"
   },
   {
    "duration": 5,
    "start_time": "2023-05-04T08:53:12.245Z"
   },
   {
    "duration": 21,
    "start_time": "2023-05-04T08:53:12.252Z"
   },
   {
    "duration": 47,
    "start_time": "2023-05-04T08:53:12.275Z"
   },
   {
    "duration": 5,
    "start_time": "2023-05-04T08:53:12.324Z"
   },
   {
    "duration": 9,
    "start_time": "2023-05-04T08:53:12.330Z"
   },
   {
    "duration": 7,
    "start_time": "2023-05-04T08:53:12.340Z"
   },
   {
    "duration": 20,
    "start_time": "2023-05-04T08:53:12.348Z"
   },
   {
    "duration": 35,
    "start_time": "2023-05-04T08:53:12.369Z"
   },
   {
    "duration": 8,
    "start_time": "2023-05-04T08:53:12.406Z"
   },
   {
    "duration": 8,
    "start_time": "2023-05-04T08:53:12.415Z"
   },
   {
    "duration": 29,
    "start_time": "2023-05-04T08:53:12.425Z"
   },
   {
    "duration": 20,
    "start_time": "2023-05-04T08:53:12.456Z"
   },
   {
    "duration": 7,
    "start_time": "2023-05-04T08:53:12.478Z"
   },
   {
    "duration": 10,
    "start_time": "2023-05-04T08:53:12.486Z"
   },
   {
    "duration": 15,
    "start_time": "2023-05-04T08:53:12.498Z"
   },
   {
    "duration": 15830,
    "start_time": "2023-05-04T08:53:12.515Z"
   },
   {
    "duration": 33026,
    "start_time": "2023-05-04T08:53:28.347Z"
   },
   {
    "duration": 45,
    "start_time": "2023-05-04T08:54:01.375Z"
   },
   {
    "duration": 95,
    "start_time": "2023-05-04T08:54:01.520Z"
   },
   {
    "duration": 34,
    "start_time": "2023-05-04T08:54:01.617Z"
   },
   {
    "duration": 48,
    "start_time": "2023-05-04T08:54:01.653Z"
   },
   {
    "duration": 22,
    "start_time": "2023-05-04T08:54:01.703Z"
   },
   {
    "duration": 43,
    "start_time": "2023-05-04T08:54:01.727Z"
   },
   {
    "duration": 67,
    "start_time": "2023-05-04T08:54:01.772Z"
   },
   {
    "duration": 43,
    "start_time": "2023-05-04T08:54:01.841Z"
   },
   {
    "duration": 58,
    "start_time": "2023-05-04T08:54:01.885Z"
   },
   {
    "duration": 17331,
    "start_time": "2023-05-04T08:54:01.945Z"
   },
   {
    "duration": 15025,
    "start_time": "2023-05-04T08:54:19.278Z"
   },
   {
    "duration": 25619,
    "start_time": "2023-05-04T08:54:34.312Z"
   },
   {
    "duration": 33588,
    "start_time": "2023-05-04T08:54:59.933Z"
   },
   {
    "duration": 22208,
    "start_time": "2023-05-04T08:55:33.523Z"
   },
   {
    "duration": 91839,
    "start_time": "2023-05-04T08:55:55.733Z"
   },
   {
    "duration": 139,
    "start_time": "2023-05-04T08:57:27.573Z"
   },
   {
    "duration": 113,
    "start_time": "2023-05-04T08:57:27.715Z"
   },
   {
    "duration": 199,
    "start_time": "2023-05-04T08:57:27.914Z"
   },
   {
    "duration": 376,
    "start_time": "2023-05-04T08:57:28.115Z"
   },
   {
    "duration": 138,
    "start_time": "2023-05-04T08:57:28.492Z"
   },
   {
    "duration": 4,
    "start_time": "2023-05-04T09:29:58.596Z"
   },
   {
    "duration": 45,
    "start_time": "2023-05-04T09:29:58.602Z"
   },
   {
    "duration": 15,
    "start_time": "2023-05-04T09:29:58.648Z"
   },
   {
    "duration": 18,
    "start_time": "2023-05-04T09:29:58.666Z"
   },
   {
    "duration": 34,
    "start_time": "2023-05-04T09:29:58.687Z"
   },
   {
    "duration": 29,
    "start_time": "2023-05-04T09:29:58.723Z"
   },
   {
    "duration": 10,
    "start_time": "2023-05-04T09:29:58.755Z"
   },
   {
    "duration": 12,
    "start_time": "2023-05-04T09:29:58.767Z"
   },
   {
    "duration": 64,
    "start_time": "2023-05-04T09:29:58.781Z"
   },
   {
    "duration": 15,
    "start_time": "2023-05-04T09:29:58.846Z"
   },
   {
    "duration": 8,
    "start_time": "2023-05-04T09:29:58.863Z"
   },
   {
    "duration": 6,
    "start_time": "2023-05-04T09:29:58.873Z"
   },
   {
    "duration": 39,
    "start_time": "2023-05-04T09:29:58.881Z"
   },
   {
    "duration": 10,
    "start_time": "2023-05-04T09:29:58.926Z"
   },
   {
    "duration": 23,
    "start_time": "2023-05-04T09:29:58.938Z"
   },
   {
    "duration": 28,
    "start_time": "2023-05-04T09:29:58.964Z"
   },
   {
    "duration": 29,
    "start_time": "2023-05-04T09:29:58.995Z"
   },
   {
    "duration": 12,
    "start_time": "2023-05-04T09:29:59.030Z"
   },
   {
    "duration": 13,
    "start_time": "2023-05-04T09:29:59.044Z"
   },
   {
    "duration": 6,
    "start_time": "2023-05-04T09:29:59.059Z"
   },
   {
    "duration": 60,
    "start_time": "2023-05-04T09:29:59.067Z"
   },
   {
    "duration": 7,
    "start_time": "2023-05-04T09:29:59.128Z"
   },
   {
    "duration": 8,
    "start_time": "2023-05-04T09:29:59.137Z"
   },
   {
    "duration": 42,
    "start_time": "2023-05-04T09:29:59.147Z"
   },
   {
    "duration": 49,
    "start_time": "2023-05-04T09:29:59.192Z"
   },
   {
    "duration": 8,
    "start_time": "2023-05-04T09:29:59.244Z"
   },
   {
    "duration": 18,
    "start_time": "2023-05-04T09:29:59.254Z"
   },
   {
    "duration": 5,
    "start_time": "2023-05-04T09:29:59.274Z"
   },
   {
    "duration": 18175,
    "start_time": "2023-05-04T09:29:59.281Z"
   },
   {
    "duration": 35796,
    "start_time": "2023-05-04T09:30:17.458Z"
   },
   {
    "duration": 74,
    "start_time": "2023-05-04T09:30:53.256Z"
   },
   {
    "duration": 95,
    "start_time": "2023-05-04T09:30:53.335Z"
   },
   {
    "duration": 16,
    "start_time": "2023-05-04T09:30:53.433Z"
   },
   {
    "duration": 69,
    "start_time": "2023-05-04T09:30:53.452Z"
   },
   {
    "duration": 45,
    "start_time": "2023-05-04T09:30:53.523Z"
   },
   {
    "duration": 65,
    "start_time": "2023-05-04T09:30:53.570Z"
   },
   {
    "duration": 17,
    "start_time": "2023-05-04T09:30:53.637Z"
   },
   {
    "duration": 19,
    "start_time": "2023-05-04T09:30:53.656Z"
   },
   {
    "duration": 11,
    "start_time": "2023-05-04T09:30:53.677Z"
   },
   {
    "duration": 18682,
    "start_time": "2023-05-04T09:30:53.690Z"
   },
   {
    "duration": 16172,
    "start_time": "2023-05-04T09:31:12.376Z"
   },
   {
    "duration": 27999,
    "start_time": "2023-05-04T09:31:28.549Z"
   },
   {
    "duration": 35876,
    "start_time": "2023-05-04T09:31:56.550Z"
   },
   {
    "duration": 23915,
    "start_time": "2023-05-04T09:32:32.428Z"
   },
   {
    "duration": 100485,
    "start_time": "2023-05-04T09:32:56.345Z"
   },
   {
    "duration": 98,
    "start_time": "2023-05-04T09:34:36.833Z"
   },
   {
    "duration": 192,
    "start_time": "2023-05-04T09:34:36.934Z"
   },
   {
    "duration": 288,
    "start_time": "2023-05-04T09:34:37.128Z"
   },
   {
    "duration": 404,
    "start_time": "2023-05-04T09:34:37.417Z"
   },
   {
    "duration": 160,
    "start_time": "2023-05-04T09:34:37.828Z"
   }
  ],
  "kernelspec": {
   "display_name": "Python 3 (ipykernel)",
   "language": "python",
   "name": "python3"
  },
  "language_info": {
   "codemirror_mode": {
    "name": "ipython",
    "version": 3
   },
   "file_extension": ".py",
   "mimetype": "text/x-python",
   "name": "python",
   "nbconvert_exporter": "python",
   "pygments_lexer": "ipython3",
   "version": "3.10.9"
  },
  "toc": {
   "base_numbering": 1,
   "nav_menu": {},
   "number_sections": true,
   "sideBar": true,
   "skip_h1_title": true,
   "title_cell": "Содержание",
   "title_sidebar": "Contents",
   "toc_cell": true,
   "toc_position": {
    "height": "calc(100% - 180px)",
    "left": "10px",
    "top": "150px",
    "width": "333px"
   },
   "toc_section_display": true,
   "toc_window_display": true
  }
 },
 "nbformat": 4,
 "nbformat_minor": 2
}
